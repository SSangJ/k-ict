{
 "cells": [
  {
   "cell_type": "code",
   "execution_count": 1,
   "id": "initial_id",
   "metadata": {
    "collapsed": true,
    "ExecuteTime": {
     "end_time": "2023-10-12T01:42:31.878029700Z",
     "start_time": "2023-10-12T01:42:25.876423900Z"
    }
   },
   "outputs": [
    {
     "name": "stdout",
     "output_type": "stream",
     "text": [
      "cuda:0\n"
     ]
    }
   ],
   "source": [
    "import torch\n",
    "import numpy as np\n",
    "\n",
    "device = torch.device('cuda:0' if torch.cuda.is_available() else 'cpu')\n",
    "\n",
    "print(device)"
   ]
  },
  {
   "cell_type": "code",
   "execution_count": 2,
   "outputs": [
    {
     "name": "stdout",
     "output_type": "stream",
     "text": [
      "cuda:0\n"
     ]
    }
   ],
   "source": [
    "import torch\n",
    "import numpy as np\n",
    "\n",
    "device = torch.device('cuda:0' if torch.cuda.is_available() else 'cpu')\n",
    "\n",
    "print(device)"
   ],
   "metadata": {
    "collapsed": false,
    "ExecuteTime": {
     "end_time": "2023-10-12T01:42:31.892990900Z",
     "start_time": "2023-10-12T01:42:31.878029700Z"
    }
   },
   "id": "a095f09036cbec7d"
  },
  {
   "cell_type": "code",
   "execution_count": 3,
   "outputs": [],
   "source": [
    "# import package\n",
    "\n",
    "# model\n",
    "import torch\n",
    "import torch.nn as nn\n",
    "import torch.nn.functional as F\n",
    "from torchsummary import summary\n",
    "from torch import optim\n",
    "from torch.optim.lr_scheduler import StepLR\n",
    "\n",
    "# dataset and transformation\n",
    "from torchvision import datasets\n",
    "import torchvision.transforms as transforms\n",
    "from torch.utils.data import DataLoader\n",
    "import os\n",
    "from torchvision import models\n",
    "import torch.nn as nn\n",
    "import torch.nn.functional as F\n",
    "import torchvision\n",
    "\n",
    "# display images\n",
    "from torchvision import utils\n",
    "import matplotlib.pyplot as plt\n",
    "%matplotlib inline\n",
    "\n",
    "\n",
    "# utils\n",
    "import numpy as np\n",
    "from torchsummary import summary\n",
    "import time\n",
    "import copy\n",
    "\n",
    "import os\n",
    "from tqdm.notebook import tqdm\n",
    "from warnings import filterwarnings\n",
    "filterwarnings('ignore')\n",
    "\n",
    "import torch\n",
    "from torch import nn, optim\n",
    "from torch.backends import cudnn\n",
    "cudnn.benchmark = True\n"
   ],
   "metadata": {
    "collapsed": false,
    "ExecuteTime": {
     "end_time": "2023-10-12T01:42:33.461853500Z",
     "start_time": "2023-10-12T01:42:31.895982900Z"
    }
   },
   "id": "db12b97a04b1d87c"
  },
  {
   "cell_type": "code",
   "execution_count": 4,
   "outputs": [],
   "source": [
    "def display_images():\n",
    "    fig, subplots = plt.subplots(1,5, figsize=(13,6))\n",
    "    for i in range(5):\n",
    "        axil = subplots.flat[i]\n",
    "        original_img = Image.fromarray(cifar10.data[i])\n",
    "        axil.imshow(original_img)\n",
    "        axil.set_title('original_img')"
   ],
   "metadata": {
    "collapsed": false,
    "ExecuteTime": {
     "end_time": "2023-10-12T01:42:33.478813100Z",
     "start_time": "2023-10-12T01:42:33.463848Z"
    }
   },
   "id": "fd1b88330cd6a5c7"
  },
  {
   "cell_type": "code",
   "execution_count": 5,
   "outputs": [],
   "source": [
    "import os\n",
    "os.environ['KMP_DUPLICATE_LIB_OK']='True'"
   ],
   "metadata": {
    "collapsed": false,
    "ExecuteTime": {
     "end_time": "2023-10-12T01:42:33.514690500Z",
     "start_time": "2023-10-12T01:42:33.479809900Z"
    }
   },
   "id": "1dafd83c95386566"
  },
  {
   "cell_type": "code",
   "execution_count": 6,
   "outputs": [],
   "source": [
    "# 데이터셋의 루트 디렉터리와 이미지 폴더를 지정합니다.\n",
    "root_dir = '../data/'  # 데이터셋의 루트 디렉터리 경로\n",
    "train_folder = 'kfood_train/train'  # 이미지가 있는 폴더의 이름\n",
    "val_folder = 'kfood_val/val'  # 이미지가 있는 폴더의 이름"
   ],
   "metadata": {
    "collapsed": false,
    "ExecuteTime": {
     "end_time": "2023-10-12T01:42:33.515688500Z",
     "start_time": "2023-10-12T01:42:33.495237100Z"
    }
   },
   "id": "4345067e3723576d"
  },
  {
   "cell_type": "code",
   "execution_count": 7,
   "outputs": [],
   "source": [
    "# 이미지 전처리를 위한 변환(transform)을 정의합니다.\n",
    "transform = transforms.Compose([\n",
    "    transforms.Resize((244, 244)),  # 이미지 크기를 조절합니다.\n",
    "    transforms.ToTensor(),  # 이미지를 Tensor로 변환합니다.\n",
    "])"
   ],
   "metadata": {
    "collapsed": false,
    "ExecuteTime": {
     "end_time": "2023-10-12T01:42:33.531645200Z",
     "start_time": "2023-10-12T01:42:33.510700700Z"
    }
   },
   "id": "371045b46cee9438"
  },
  {
   "cell_type": "code",
   "execution_count": 8,
   "outputs": [],
   "source": [
    "# 데이터셋을 불러옵니다.\n",
    "train_ds = torchvision.datasets.ImageFolder(\n",
    "    root=root_dir + train_folder,\n",
    "    transform=transform\n",
    ")"
   ],
   "metadata": {
    "collapsed": false,
    "ExecuteTime": {
     "end_time": "2023-10-12T01:42:33.920453200Z",
     "start_time": "2023-10-12T01:42:33.524663800Z"
    }
   },
   "id": "ee8bee522679d7bc"
  },
  {
   "cell_type": "code",
   "execution_count": 9,
   "outputs": [],
   "source": [
    "# 데이터셋을 불러옵니다.\n",
    "val_ds = torchvision.datasets.ImageFolder(\n",
    "    root=root_dir + val_folder,\n",
    "    transform=transform\n",
    ")"
   ],
   "metadata": {
    "collapsed": false,
    "ExecuteTime": {
     "end_time": "2023-10-12T01:42:34.015833500Z",
     "start_time": "2023-10-12T01:42:33.920453200Z"
    }
   },
   "id": "25fc01d3c03f53df"
  },
  {
   "cell_type": "code",
   "execution_count": 10,
   "outputs": [
    {
     "name": "stdout",
     "output_type": "stream",
     "text": [
      "33593\n"
     ]
    }
   ],
   "source": [
    "print(len(train_ds))"
   ],
   "metadata": {
    "collapsed": false,
    "ExecuteTime": {
     "end_time": "2023-10-12T01:42:34.031789300Z",
     "start_time": "2023-10-12T01:42:34.016830500Z"
    }
   },
   "id": "39666c9ea5c7481c"
  },
  {
   "cell_type": "code",
   "execution_count": 11,
   "outputs": [
    {
     "name": "stdout",
     "output_type": "stream",
     "text": [
      "4198\n"
     ]
    }
   ],
   "source": [
    "print(len(val_ds))"
   ],
   "metadata": {
    "collapsed": false,
    "ExecuteTime": {
     "end_time": "2023-10-12T01:42:34.109612400Z",
     "start_time": "2023-10-12T01:42:34.031789300Z"
    }
   },
   "id": "4a136f4bfc2a0c90"
  },
  {
   "cell_type": "code",
   "execution_count": 12,
   "outputs": [
    {
     "name": "stderr",
     "output_type": "stream",
     "text": [
      "c:\\python39\\lib\\site-packages\\PIL\\Image.py:970: UserWarning: Palette images with Transparency expressed in bytes should be converted to RGBA images\n",
      "  warnings.warn(\n"
     ]
    },
    {
     "name": "stdout",
     "output_type": "stream",
     "text": [
      "0.58394545 0.51387334 0.42269564\n",
      "0.58470017 0.51500267 0.4244054\n"
     ]
    }
   ],
   "source": [
    "# To normalize the dataset, calculate the mean and std\n",
    "train_meanRGB = [np.mean(x.numpy(), axis=(1,2)) for x, _ in train_ds]\n",
    "train_stdRGB = [np.std(x.numpy(), axis=(1,2)) for x, _ in train_ds]\n",
    "\n",
    "train_meanR = np.mean([m[0] for m in train_meanRGB])\n",
    "train_meanG = np.mean([m[1] for m in train_meanRGB])\n",
    "train_meanB = np.mean([m[2] for m in train_meanRGB])\n",
    "train_stdR = np.mean([s[0] for s in train_stdRGB])\n",
    "train_stdG = np.mean([s[1] for s in train_stdRGB])\n",
    "train_stdB = np.mean([s[2] for s in train_stdRGB])\n",
    "\n",
    "val_meanRGB = [np.mean(x.numpy(), axis=(1,2)) for x, _ in val_ds]\n",
    "val_stdRGB = [np.std(x.numpy(), axis=(1,2)) for x, _ in val_ds]\n",
    "\n",
    "val_meanR = np.mean([m[0] for m in val_meanRGB])\n",
    "val_meanG = np.mean([m[1] for m in val_meanRGB])\n",
    "val_meanB = np.mean([m[2] for m in val_meanRGB])\n",
    "\n",
    "val_stdR = np.mean([s[0] for s in val_stdRGB])\n",
    "val_stdG = np.mean([s[1] for s in val_stdRGB])\n",
    "val_stdB = np.mean([s[2] for s in val_stdRGB])\n",
    "\n",
    "print(train_meanR, train_meanG, train_meanB)\n",
    "print(val_meanR, val_meanG, val_meanB)"
   ],
   "metadata": {
    "collapsed": false,
    "ExecuteTime": {
     "end_time": "2023-10-12T01:49:30.140695400Z",
     "start_time": "2023-10-12T01:42:34.047747100Z"
    }
   },
   "id": "31660e0c08ada3b1"
  },
  {
   "cell_type": "code",
   "execution_count": 13,
   "outputs": [
    {
     "name": "stdout",
     "output_type": "stream",
     "text": [
      "0.58394545 0.51387334 0.42269564\n",
      "0.58470017 0.51500267 0.4244054\n",
      "0.22759153 0.23792826 0.25431448\n",
      "0.22711068 0.2372811 0.25347996\n"
     ]
    }
   ],
   "source": [
    "print(train_meanR, train_meanG, train_meanB)\n",
    "print(val_meanR, val_meanG, val_meanB)\n",
    "print(train_stdR,train_stdG ,train_stdB)\n",
    "print(val_stdR,val_stdG,val_stdB)"
   ],
   "metadata": {
    "collapsed": false,
    "ExecuteTime": {
     "end_time": "2023-10-12T01:49:30.200724300Z",
     "start_time": "2023-10-12T01:49:30.141694700Z"
    }
   },
   "id": "a6a62898d41ac27d"
  },
  {
   "cell_type": "code",
   "execution_count": 14,
   "outputs": [],
   "source": [
    "train_meanR=0.58394545\n",
    "train_meanG=0.51387334\n",
    "train_meanB=0.42269564\n",
    "val_meanR=0.58470017\n",
    "val_meanG=0.51500267\n",
    "val_meanB=0.4244054\n",
    "train_stdR=0.22759153\n",
    "train_stdG=0.23792826\n",
    "train_stdB=0.25431448\n",
    "val_stdR=0.22711068\n",
    "val_stdG=0.2372811\n",
    "val_stdB=0.25347996"
   ],
   "metadata": {
    "collapsed": false,
    "ExecuteTime": {
     "end_time": "2023-10-12T01:49:30.206709800Z",
     "start_time": "2023-10-12T01:49:30.159834500Z"
    }
   },
   "id": "cc4c035d4722532c"
  },
  {
   "cell_type": "code",
   "execution_count": 15,
   "outputs": [],
   "source": [
    "# train_meanR=0.91402346\n",
    "# train_meanG=1.0215707\n",
    "# train_meanB=-1.1350155\n",
    "# val_meanR=0.9156754\n",
    "# val_meanG=1.023939\n",
    "# val_meanB=-1.138371\n",
    "# train_stdR=0.50687706\n",
    "# train_stdG=0.5069017\n",
    "# train_stdB=0.5066239\n",
    "# val_stdR=0.5059219\n",
    "# val_stdG=0.5056665\n",
    "# val_stdB=0.50509274"
   ],
   "metadata": {
    "collapsed": false,
    "ExecuteTime": {
     "end_time": "2023-10-12T01:49:30.207706500Z",
     "start_time": "2023-10-12T01:49:30.172801500Z"
    }
   },
   "id": "ffe6218df00b9d6f"
  },
  {
   "cell_type": "code",
   "execution_count": 16,
   "outputs": [],
   "source": [
    "# train_meanR=0.5\n",
    "# train_meanG=0.5\n",
    "# train_meanB=0.5\n",
    "# val_meanR=0.5\n",
    "# val_meanG=0.5\n",
    "# val_meanB=0.5\n",
    "# train_stdR=0.5\n",
    "# train_stdG=0.5\n",
    "# train_stdB=0.5\n",
    "# val_stdR=0.5\n",
    "# val_stdG=0.5\n",
    "# val_stdB=0.5"
   ],
   "metadata": {
    "collapsed": false,
    "ExecuteTime": {
     "end_time": "2023-10-12T01:49:30.209701Z",
     "start_time": "2023-10-12T01:49:30.186762100Z"
    }
   },
   "id": "4418991cbebdebff"
  },
  {
   "cell_type": "code",
   "execution_count": 17,
   "outputs": [],
   "source": [
    "# define the image transformation\n",
    "train_transformation = transforms.Compose([\n",
    "    transforms.ToTensor(),\n",
    "    transforms.Resize((224,224)),\n",
    "    transforms.Normalize([train_meanR, train_meanG, train_meanB],[train_stdR, train_stdG, train_stdB]),\n",
    "    transforms.RandomHorizontalFlip(),\n",
    "])\n",
    "\n",
    "val_transformation = transforms.Compose([\n",
    "    transforms.ToTensor(),\n",
    "    transforms.Resize((224,224)),\n",
    "    transforms.Normalize([train_meanR, train_meanG, train_meanB],[train_stdR, train_stdG, train_stdB]),\n",
    "])"
   ],
   "metadata": {
    "collapsed": false,
    "ExecuteTime": {
     "end_time": "2023-10-12T01:49:30.223663500Z",
     "start_time": "2023-10-12T01:49:30.205711800Z"
    }
   },
   "id": "e36a046eb17b1257"
  },
  {
   "cell_type": "code",
   "execution_count": 18,
   "outputs": [],
   "source": [
    "# apply transforamtion\n",
    "train_ds.transform = train_transformation\n",
    "val_ds.transform = val_transformation\n",
    "\n",
    "# create DataLoader\n",
    "train_dl = DataLoader(train_ds, batch_size=64, shuffle=True)\n",
    "val_dl = DataLoader(val_ds, batch_size=64, shuffle=False)"
   ],
   "metadata": {
    "collapsed": false,
    "ExecuteTime": {
     "end_time": "2023-10-12T01:49:30.255022600Z",
     "start_time": "2023-10-12T01:49:30.220671800Z"
    }
   },
   "id": "cba71615be3fe69d"
  },
  {
   "cell_type": "code",
   "execution_count": 19,
   "outputs": [
    {
     "name": "stdout",
     "output_type": "stream",
     "text": [
      "image indices: [33003 12172  5192 32511]\n"
     ]
    },
    {
     "name": "stderr",
     "output_type": "stream",
     "text": [
      "C:\\Users\\SJ\\anaconda3\\lib\\site-packages\\torchvision\\transforms\\functional.py:1603: UserWarning: The default value of the antialias parameter of all the resizing transforms (Resize(), RandomResizedCrop(), etc.) will change from None to True in v0.17, in order to be consistent across the PIL and Tensor backends. To suppress this warning, directly pass antialias=True (recommended, future default), antialias=None (current default, which means False for Tensors and True for PIL), or antialias=False (only works on Tensors - PIL will still use antialiasing). This also applies if you are using the inference transforms from the models weights: update the call to weights.transforms(antialias=True).\n",
      "  warnings.warn(\n",
      "Clipping input data to the valid range for imshow with RGB data ([0..1] for floats or [0..255] for integers).\n"
     ]
    },
    {
     "data": {
      "text/plain": "<Figure size 640x480 with 1 Axes>",
      "image/png": "[encoded data removed]"
     },
     "metadata": {},
     "output_type": "display_data"
    }
   ],
   "source": [
    "# display sample images \n",
    "def show(img, y=None, color=True):\n",
    "    npimg = img.numpy()\n",
    "    npimg_tr = np.transpose(npimg, (1,2,0))\n",
    "    plt.imshow(npimg_tr)\n",
    "\n",
    "    if y is not None:\n",
    "        plt.title('labels :' + str(y))\n",
    "\n",
    "np.random.seed(1)\n",
    "torch.manual_seed(1)\n",
    "\n",
    "grid_size = 4\n",
    "rnd_inds = np.random.randint(0, len(train_ds), grid_size)\n",
    "print('image indices:',rnd_inds)\n",
    "\n",
    "x_grid = [train_ds[i][0] for i in rnd_inds]\n",
    "y_grid = [train_ds[i][1] for i in rnd_inds]\n",
    "\n",
    "x_grid = utils.make_grid(x_grid, nrow=grid_size, padding=2)\n",
    "\n",
    "show(x_grid, y_grid)"
   ],
   "metadata": {
    "collapsed": false,
    "ExecuteTime": {
     "end_time": "2023-10-12T01:49:30.605933600Z",
     "start_time": "2023-10-12T01:49:30.237069200Z"
    }
   },
   "id": "1a83ac8a48ee7b3e"
  },
  {
   "cell_type": "code",
   "execution_count": 20,
   "outputs": [],
   "source": [
    "class BasicBlock(nn.Module):\n",
    "    expansion = 1\n",
    "    def __init__(self, in_channels, out_channels, stride=1):\n",
    "        super().__init__()\n",
    "\n",
    "        # BatchNorm에 bias가 포함되어 있으므로, conv2d는 bias=False로 설정합니다.\n",
    "        self.residual_function = nn.Sequential(\n",
    "            nn.Conv2d(in_channels, out_channels, kernel_size=3, stride=stride, padding=1, bias=False),\n",
    "            nn.BatchNorm2d(out_channels),\n",
    "            nn.ReLU(),\n",
    "            nn.Conv2d(out_channels, out_channels * BasicBlock.expansion, kernel_size=3, stride=1, padding=1, bias=False),\n",
    "            nn.BatchNorm2d(out_channels * BasicBlock.expansion),\n",
    "        )\n",
    "\n",
    "        # identity mapping, input과 output의 feature map size, filter 수가 동일한 경우 사용.\n",
    "        self.shortcut = nn.Sequential()\n",
    "\n",
    "        self.relu = nn.ReLU()\n",
    "\n",
    "        # projection mapping using 1x1conv\n",
    "        if stride != 1 or in_channels != BasicBlock.expansion * out_channels:\n",
    "            self.shortcut = nn.Sequential(\n",
    "                nn.Conv2d(in_channels, out_channels * BasicBlock.expansion, kernel_size=1, stride=stride, bias=False),\n",
    "                nn.BatchNorm2d(out_channels * BasicBlock.expansion)\n",
    "            )\n",
    "\n",
    "    def forward(self, x):\n",
    "        x = self.residual_function(x) + self.shortcut(x)\n",
    "        x = self.relu(x)\n",
    "        return x\n",
    "\n",
    "\n",
    "class BottleNeck(nn.Module):\n",
    "    expansion = 4\n",
    "    def __init__(self, in_channels, out_channels, stride=1):\n",
    "        super().__init__()\n",
    "\n",
    "        self.residual_function = nn.Sequential(\n",
    "            nn.Conv2d(in_channels, out_channels, kernel_size=1, stride=1, bias=False),\n",
    "            nn.BatchNorm2d(out_channels),\n",
    "            nn.ReLU(),\n",
    "            nn.Conv2d(out_channels, out_channels, kernel_size=3, stride=stride, padding=1, bias=False),\n",
    "            nn.BatchNorm2d(out_channels),\n",
    "            nn.ReLU(),\n",
    "            nn.Conv2d(out_channels, out_channels * BottleNeck.expansion, kernel_size=1, stride=1, bias=False),\n",
    "            nn.BatchNorm2d(out_channels * BottleNeck.expansion),\n",
    "        )\n",
    "\n",
    "        self.shortcut = nn.Sequential()\n",
    "\n",
    "        self.relu = nn.ReLU()\n",
    "\n",
    "        if stride != 1 or in_channels != out_channels * BottleNeck.expansion:\n",
    "            self.shortcut = nn.Sequential(\n",
    "                nn.Conv2d(in_channels, out_channels*BottleNeck.expansion, kernel_size=1, stride=stride, bias=False),\n",
    "                nn.BatchNorm2d(out_channels*BottleNeck.expansion)\n",
    "            )\n",
    "\n",
    "    def forward(self, x):\n",
    "        x = self.residual_function(x) + self.shortcut(x)\n",
    "        x = self.relu(x)\n",
    "        return x"
   ],
   "metadata": {
    "collapsed": false,
    "ExecuteTime": {
     "end_time": "2023-10-12T01:49:30.664646200Z",
     "start_time": "2023-10-12T01:49:30.612914800Z"
    }
   },
   "id": "dde43a71ae047551"
  },
  {
   "cell_type": "code",
   "execution_count": 21,
   "outputs": [],
   "source": [
    "class ResNet(nn.Module):\n",
    "    def __init__(self, block, num_block, num_classes=10, init_weights=True):\n",
    "        super().__init__()\n",
    "\n",
    "        self.in_channels=64\n",
    "\n",
    "        self.conv1 = nn.Sequential(\n",
    "            nn.Conv2d(3, 64, kernel_size=7, stride=2, padding=3, bias=False),\n",
    "            nn.BatchNorm2d(64),\n",
    "            nn.ReLU(),\n",
    "            nn.MaxPool2d(kernel_size=3, stride=2, padding=1)\n",
    "        )\n",
    "\n",
    "        self.conv2_x = self._make_layer(block, 64, num_block[0], 1)\n",
    "        self.conv3_x = self._make_layer(block, 128, num_block[1], 2)\n",
    "        self.conv4_x = self._make_layer(block, 256, num_block[2], 2)\n",
    "        self.conv5_x = self._make_layer(block, 512, num_block[3], 2)\n",
    "\n",
    "        self.avg_pool = nn.AdaptiveAvgPool2d((1,1))\n",
    "        self.fc = nn.Linear(512 * block.expansion, num_classes)\n",
    "\n",
    "        # weights inittialization\n",
    "        if init_weights:\n",
    "            self._initialize_weights()\n",
    "\n",
    "    def _make_layer(self, block, out_channels, num_blocks, stride):\n",
    "        strides = [stride] + [1] * (num_blocks - 1)\n",
    "        layers = []\n",
    "        for stride in strides:\n",
    "            layers.append(block(self.in_channels, out_channels, stride))\n",
    "            self.in_channels = out_channels * block.expansion\n",
    "\n",
    "        return nn.Sequential(*layers)\n",
    "\n",
    "    def forward(self,x):\n",
    "        output = self.conv1(x)\n",
    "        output = self.conv2_x(output)\n",
    "        x = self.conv3_x(output)\n",
    "        x = self.conv4_x(x)\n",
    "        x = self.conv5_x(x)\n",
    "        x = self.avg_pool(x)\n",
    "        x = x.view(x.size(0), -1)\n",
    "        x = self.fc(x)\n",
    "        return x\n",
    "\n",
    "    # define weight initialization function\n",
    "    def _initialize_weights(self):\n",
    "        for m in self.modules():\n",
    "            if isinstance(m, nn.Conv2d):\n",
    "                nn.init.kaiming_normal_(m.weight, mode='fan_out', nonlinearity='relu')\n",
    "                if m.bias is not None:\n",
    "                    nn.init.constant_(m.bias, 0)\n",
    "            elif isinstance(m, nn.BatchNorm2d):\n",
    "                nn.init.constant_(m.weight, 1)\n",
    "                nn.init.constant_(m.bias, 0)\n",
    "            elif isinstance(m, nn.Linear):\n",
    "                nn.init.normal_(m.weight, 0, 0.01)\n",
    "                nn.init.constant_(m.bias, 0)\n",
    "\n",
    "def resnet18():\n",
    "    return ResNet(BasicBlock, [2,2,2,2])\n",
    "\n",
    "def resnet34():\n",
    "    return ResNet(BasicBlock, [3, 4, 6, 3])\n",
    "\n",
    "def resnet50():\n",
    "    return ResNet(BottleNeck, [3,4,6,3])\n",
    "\n",
    "def resnet101():\n",
    "    return ResNet(BottleNeck, [3, 4, 23, 3])\n",
    "\n",
    "def resnet152():\n",
    "    return ResNet(BottleNeck, [3, 8, 36, 3])"
   ],
   "metadata": {
    "collapsed": false,
    "ExecuteTime": {
     "end_time": "2023-10-12T01:49:30.665643900Z",
     "start_time": "2023-10-12T01:49:30.621891300Z"
    }
   },
   "id": "6ee17f0a54be7c6"
  },
  {
   "cell_type": "code",
   "execution_count": 22,
   "outputs": [
    {
     "name": "stdout",
     "output_type": "stream",
     "text": [
      "torch.Size([3, 10])\n"
     ]
    }
   ],
   "source": [
    "device = torch.device('cuda' if torch.cuda.is_available() else 'cpu')\n",
    "model = resnet101().to(device)\n",
    "x = torch.randn(3, 3, 224, 224).to(device)\n",
    "output = model(x)\n",
    "print(output.size())"
   ],
   "metadata": {
    "collapsed": false,
    "ExecuteTime": {
     "end_time": "2023-10-12T01:49:38.975408100Z",
     "start_time": "2023-10-12T01:49:30.637848200Z"
    }
   },
   "id": "b53bc01377baf8ee"
  },
  {
   "cell_type": "code",
   "execution_count": 23,
   "outputs": [],
   "source": [
    "fc_in_features = model.fc.in_features\n",
    "model.fc = nn.Linear(fc_in_features, 42)\n",
    "model = model.to(device)"
   ],
   "metadata": {
    "collapsed": false,
    "ExecuteTime": {
     "end_time": "2023-10-12T01:49:39.067853700Z",
     "start_time": "2023-10-12T01:49:38.976405500Z"
    }
   },
   "id": "e35f795d6a43df36"
  },
  {
   "cell_type": "code",
   "execution_count": 24,
   "outputs": [
    {
     "name": "stdout",
     "output_type": "stream",
     "text": [
      "----------------------------------------------------------------\n",
      "        Layer (type)               Output Shape         Param #\n",
      "================================================================\n",
      "            Conv2d-1         [-1, 64, 122, 122]           9,408\n",
      "       BatchNorm2d-2         [-1, 64, 122, 122]             128\n",
      "              ReLU-3         [-1, 64, 122, 122]               0\n",
      "         MaxPool2d-4           [-1, 64, 61, 61]               0\n",
      "            Conv2d-5           [-1, 64, 61, 61]           4,096\n",
      "       BatchNorm2d-6           [-1, 64, 61, 61]             128\n",
      "              ReLU-7           [-1, 64, 61, 61]               0\n",
      "            Conv2d-8           [-1, 64, 61, 61]          36,864\n",
      "       BatchNorm2d-9           [-1, 64, 61, 61]             128\n",
      "             ReLU-10           [-1, 64, 61, 61]               0\n",
      "           Conv2d-11          [-1, 256, 61, 61]          16,384\n",
      "      BatchNorm2d-12          [-1, 256, 61, 61]             512\n",
      "           Conv2d-13          [-1, 256, 61, 61]          16,384\n",
      "      BatchNorm2d-14          [-1, 256, 61, 61]             512\n",
      "             ReLU-15          [-1, 256, 61, 61]               0\n",
      "       BottleNeck-16          [-1, 256, 61, 61]               0\n",
      "           Conv2d-17           [-1, 64, 61, 61]          16,384\n",
      "      BatchNorm2d-18           [-1, 64, 61, 61]             128\n",
      "             ReLU-19           [-1, 64, 61, 61]               0\n",
      "           Conv2d-20           [-1, 64, 61, 61]          36,864\n",
      "      BatchNorm2d-21           [-1, 64, 61, 61]             128\n",
      "             ReLU-22           [-1, 64, 61, 61]               0\n",
      "           Conv2d-23          [-1, 256, 61, 61]          16,384\n",
      "      BatchNorm2d-24          [-1, 256, 61, 61]             512\n",
      "             ReLU-25          [-1, 256, 61, 61]               0\n",
      "       BottleNeck-26          [-1, 256, 61, 61]               0\n",
      "           Conv2d-27           [-1, 64, 61, 61]          16,384\n",
      "      BatchNorm2d-28           [-1, 64, 61, 61]             128\n",
      "             ReLU-29           [-1, 64, 61, 61]               0\n",
      "           Conv2d-30           [-1, 64, 61, 61]          36,864\n",
      "      BatchNorm2d-31           [-1, 64, 61, 61]             128\n",
      "             ReLU-32           [-1, 64, 61, 61]               0\n",
      "           Conv2d-33          [-1, 256, 61, 61]          16,384\n",
      "      BatchNorm2d-34          [-1, 256, 61, 61]             512\n",
      "             ReLU-35          [-1, 256, 61, 61]               0\n",
      "       BottleNeck-36          [-1, 256, 61, 61]               0\n",
      "           Conv2d-37          [-1, 128, 61, 61]          32,768\n",
      "      BatchNorm2d-38          [-1, 128, 61, 61]             256\n",
      "             ReLU-39          [-1, 128, 61, 61]               0\n",
      "           Conv2d-40          [-1, 128, 31, 31]         147,456\n",
      "      BatchNorm2d-41          [-1, 128, 31, 31]             256\n",
      "             ReLU-42          [-1, 128, 31, 31]               0\n",
      "           Conv2d-43          [-1, 512, 31, 31]          65,536\n",
      "      BatchNorm2d-44          [-1, 512, 31, 31]           1,024\n",
      "           Conv2d-45          [-1, 512, 31, 31]         131,072\n",
      "      BatchNorm2d-46          [-1, 512, 31, 31]           1,024\n",
      "             ReLU-47          [-1, 512, 31, 31]               0\n",
      "       BottleNeck-48          [-1, 512, 31, 31]               0\n",
      "           Conv2d-49          [-1, 128, 31, 31]          65,536\n",
      "      BatchNorm2d-50          [-1, 128, 31, 31]             256\n",
      "             ReLU-51          [-1, 128, 31, 31]               0\n",
      "           Conv2d-52          [-1, 128, 31, 31]         147,456\n",
      "      BatchNorm2d-53          [-1, 128, 31, 31]             256\n",
      "             ReLU-54          [-1, 128, 31, 31]               0\n",
      "           Conv2d-55          [-1, 512, 31, 31]          65,536\n",
      "      BatchNorm2d-56          [-1, 512, 31, 31]           1,024\n",
      "             ReLU-57          [-1, 512, 31, 31]               0\n",
      "       BottleNeck-58          [-1, 512, 31, 31]               0\n",
      "           Conv2d-59          [-1, 128, 31, 31]          65,536\n",
      "      BatchNorm2d-60          [-1, 128, 31, 31]             256\n",
      "             ReLU-61          [-1, 128, 31, 31]               0\n",
      "           Conv2d-62          [-1, 128, 31, 31]         147,456\n",
      "      BatchNorm2d-63          [-1, 128, 31, 31]             256\n",
      "             ReLU-64          [-1, 128, 31, 31]               0\n",
      "           Conv2d-65          [-1, 512, 31, 31]          65,536\n",
      "      BatchNorm2d-66          [-1, 512, 31, 31]           1,024\n",
      "             ReLU-67          [-1, 512, 31, 31]               0\n",
      "       BottleNeck-68          [-1, 512, 31, 31]               0\n",
      "           Conv2d-69          [-1, 128, 31, 31]          65,536\n",
      "      BatchNorm2d-70          [-1, 128, 31, 31]             256\n",
      "             ReLU-71          [-1, 128, 31, 31]               0\n",
      "           Conv2d-72          [-1, 128, 31, 31]         147,456\n",
      "      BatchNorm2d-73          [-1, 128, 31, 31]             256\n",
      "             ReLU-74          [-1, 128, 31, 31]               0\n",
      "           Conv2d-75          [-1, 512, 31, 31]          65,536\n",
      "      BatchNorm2d-76          [-1, 512, 31, 31]           1,024\n",
      "             ReLU-77          [-1, 512, 31, 31]               0\n",
      "       BottleNeck-78          [-1, 512, 31, 31]               0\n",
      "           Conv2d-79          [-1, 256, 31, 31]         131,072\n",
      "      BatchNorm2d-80          [-1, 256, 31, 31]             512\n",
      "             ReLU-81          [-1, 256, 31, 31]               0\n",
      "           Conv2d-82          [-1, 256, 16, 16]         589,824\n",
      "      BatchNorm2d-83          [-1, 256, 16, 16]             512\n",
      "             ReLU-84          [-1, 256, 16, 16]               0\n",
      "           Conv2d-85         [-1, 1024, 16, 16]         262,144\n",
      "      BatchNorm2d-86         [-1, 1024, 16, 16]           2,048\n",
      "           Conv2d-87         [-1, 1024, 16, 16]         524,288\n",
      "      BatchNorm2d-88         [-1, 1024, 16, 16]           2,048\n",
      "             ReLU-89         [-1, 1024, 16, 16]               0\n",
      "       BottleNeck-90         [-1, 1024, 16, 16]               0\n",
      "           Conv2d-91          [-1, 256, 16, 16]         262,144\n",
      "      BatchNorm2d-92          [-1, 256, 16, 16]             512\n",
      "             ReLU-93          [-1, 256, 16, 16]               0\n",
      "           Conv2d-94          [-1, 256, 16, 16]         589,824\n",
      "      BatchNorm2d-95          [-1, 256, 16, 16]             512\n",
      "             ReLU-96          [-1, 256, 16, 16]               0\n",
      "           Conv2d-97         [-1, 1024, 16, 16]         262,144\n",
      "      BatchNorm2d-98         [-1, 1024, 16, 16]           2,048\n",
      "             ReLU-99         [-1, 1024, 16, 16]               0\n",
      "      BottleNeck-100         [-1, 1024, 16, 16]               0\n",
      "          Conv2d-101          [-1, 256, 16, 16]         262,144\n",
      "     BatchNorm2d-102          [-1, 256, 16, 16]             512\n",
      "            ReLU-103          [-1, 256, 16, 16]               0\n",
      "          Conv2d-104          [-1, 256, 16, 16]         589,824\n",
      "     BatchNorm2d-105          [-1, 256, 16, 16]             512\n",
      "            ReLU-106          [-1, 256, 16, 16]               0\n",
      "          Conv2d-107         [-1, 1024, 16, 16]         262,144\n",
      "     BatchNorm2d-108         [-1, 1024, 16, 16]           2,048\n",
      "            ReLU-109         [-1, 1024, 16, 16]               0\n",
      "      BottleNeck-110         [-1, 1024, 16, 16]               0\n",
      "          Conv2d-111          [-1, 256, 16, 16]         262,144\n",
      "     BatchNorm2d-112          [-1, 256, 16, 16]             512\n",
      "            ReLU-113          [-1, 256, 16, 16]               0\n",
      "          Conv2d-114          [-1, 256, 16, 16]         589,824\n",
      "     BatchNorm2d-115          [-1, 256, 16, 16]             512\n",
      "            ReLU-116          [-1, 256, 16, 16]               0\n",
      "          Conv2d-117         [-1, 1024, 16, 16]         262,144\n",
      "     BatchNorm2d-118         [-1, 1024, 16, 16]           2,048\n",
      "            ReLU-119         [-1, 1024, 16, 16]               0\n",
      "      BottleNeck-120         [-1, 1024, 16, 16]               0\n",
      "          Conv2d-121          [-1, 256, 16, 16]         262,144\n",
      "     BatchNorm2d-122          [-1, 256, 16, 16]             512\n",
      "            ReLU-123          [-1, 256, 16, 16]               0\n",
      "          Conv2d-124          [-1, 256, 16, 16]         589,824\n",
      "     BatchNorm2d-125          [-1, 256, 16, 16]             512\n",
      "            ReLU-126          [-1, 256, 16, 16]               0\n",
      "          Conv2d-127         [-1, 1024, 16, 16]         262,144\n",
      "     BatchNorm2d-128         [-1, 1024, 16, 16]           2,048\n",
      "            ReLU-129         [-1, 1024, 16, 16]               0\n",
      "      BottleNeck-130         [-1, 1024, 16, 16]               0\n",
      "          Conv2d-131          [-1, 256, 16, 16]         262,144\n",
      "     BatchNorm2d-132          [-1, 256, 16, 16]             512\n",
      "            ReLU-133          [-1, 256, 16, 16]               0\n",
      "          Conv2d-134          [-1, 256, 16, 16]         589,824\n",
      "     BatchNorm2d-135          [-1, 256, 16, 16]             512\n",
      "            ReLU-136          [-1, 256, 16, 16]               0\n",
      "          Conv2d-137         [-1, 1024, 16, 16]         262,144\n",
      "     BatchNorm2d-138         [-1, 1024, 16, 16]           2,048\n",
      "            ReLU-139         [-1, 1024, 16, 16]               0\n",
      "      BottleNeck-140         [-1, 1024, 16, 16]               0\n",
      "          Conv2d-141          [-1, 256, 16, 16]         262,144\n",
      "     BatchNorm2d-142          [-1, 256, 16, 16]             512\n",
      "            ReLU-143          [-1, 256, 16, 16]               0\n",
      "          Conv2d-144          [-1, 256, 16, 16]         589,824\n",
      "     BatchNorm2d-145          [-1, 256, 16, 16]             512\n",
      "            ReLU-146          [-1, 256, 16, 16]               0\n",
      "          Conv2d-147         [-1, 1024, 16, 16]         262,144\n",
      "     BatchNorm2d-148         [-1, 1024, 16, 16]           2,048\n",
      "            ReLU-149         [-1, 1024, 16, 16]               0\n",
      "      BottleNeck-150         [-1, 1024, 16, 16]               0\n",
      "          Conv2d-151          [-1, 256, 16, 16]         262,144\n",
      "     BatchNorm2d-152          [-1, 256, 16, 16]             512\n",
      "            ReLU-153          [-1, 256, 16, 16]               0\n",
      "          Conv2d-154          [-1, 256, 16, 16]         589,824\n",
      "     BatchNorm2d-155          [-1, 256, 16, 16]             512\n",
      "            ReLU-156          [-1, 256, 16, 16]               0\n",
      "          Conv2d-157         [-1, 1024, 16, 16]         262,144\n",
      "     BatchNorm2d-158         [-1, 1024, 16, 16]           2,048\n",
      "            ReLU-159         [-1, 1024, 16, 16]               0\n",
      "      BottleNeck-160         [-1, 1024, 16, 16]               0\n",
      "          Conv2d-161          [-1, 256, 16, 16]         262,144\n",
      "     BatchNorm2d-162          [-1, 256, 16, 16]             512\n",
      "            ReLU-163          [-1, 256, 16, 16]               0\n",
      "          Conv2d-164          [-1, 256, 16, 16]         589,824\n",
      "     BatchNorm2d-165          [-1, 256, 16, 16]             512\n",
      "            ReLU-166          [-1, 256, 16, 16]               0\n",
      "          Conv2d-167         [-1, 1024, 16, 16]         262,144\n",
      "     BatchNorm2d-168         [-1, 1024, 16, 16]           2,048\n",
      "            ReLU-169         [-1, 1024, 16, 16]               0\n",
      "      BottleNeck-170         [-1, 1024, 16, 16]               0\n",
      "          Conv2d-171          [-1, 256, 16, 16]         262,144\n",
      "     BatchNorm2d-172          [-1, 256, 16, 16]             512\n",
      "            ReLU-173          [-1, 256, 16, 16]               0\n",
      "          Conv2d-174          [-1, 256, 16, 16]         589,824\n",
      "     BatchNorm2d-175          [-1, 256, 16, 16]             512\n",
      "            ReLU-176          [-1, 256, 16, 16]               0\n",
      "          Conv2d-177         [-1, 1024, 16, 16]         262,144\n",
      "     BatchNorm2d-178         [-1, 1024, 16, 16]           2,048\n",
      "            ReLU-179         [-1, 1024, 16, 16]               0\n",
      "      BottleNeck-180         [-1, 1024, 16, 16]               0\n",
      "          Conv2d-181          [-1, 256, 16, 16]         262,144\n",
      "     BatchNorm2d-182          [-1, 256, 16, 16]             512\n",
      "            ReLU-183          [-1, 256, 16, 16]               0\n",
      "          Conv2d-184          [-1, 256, 16, 16]         589,824\n",
      "     BatchNorm2d-185          [-1, 256, 16, 16]             512\n",
      "            ReLU-186          [-1, 256, 16, 16]               0\n",
      "          Conv2d-187         [-1, 1024, 16, 16]         262,144\n",
      "     BatchNorm2d-188         [-1, 1024, 16, 16]           2,048\n",
      "            ReLU-189         [-1, 1024, 16, 16]               0\n",
      "      BottleNeck-190         [-1, 1024, 16, 16]               0\n",
      "          Conv2d-191          [-1, 256, 16, 16]         262,144\n",
      "     BatchNorm2d-192          [-1, 256, 16, 16]             512\n",
      "            ReLU-193          [-1, 256, 16, 16]               0\n",
      "          Conv2d-194          [-1, 256, 16, 16]         589,824\n",
      "     BatchNorm2d-195          [-1, 256, 16, 16]             512\n",
      "            ReLU-196          [-1, 256, 16, 16]               0\n",
      "          Conv2d-197         [-1, 1024, 16, 16]         262,144\n",
      "     BatchNorm2d-198         [-1, 1024, 16, 16]           2,048\n",
      "            ReLU-199         [-1, 1024, 16, 16]               0\n",
      "      BottleNeck-200         [-1, 1024, 16, 16]               0\n",
      "          Conv2d-201          [-1, 256, 16, 16]         262,144\n",
      "     BatchNorm2d-202          [-1, 256, 16, 16]             512\n",
      "            ReLU-203          [-1, 256, 16, 16]               0\n",
      "          Conv2d-204          [-1, 256, 16, 16]         589,824\n",
      "     BatchNorm2d-205          [-1, 256, 16, 16]             512\n",
      "            ReLU-206          [-1, 256, 16, 16]               0\n",
      "          Conv2d-207         [-1, 1024, 16, 16]         262,144\n",
      "     BatchNorm2d-208         [-1, 1024, 16, 16]           2,048\n",
      "            ReLU-209         [-1, 1024, 16, 16]               0\n",
      "      BottleNeck-210         [-1, 1024, 16, 16]               0\n",
      "          Conv2d-211          [-1, 256, 16, 16]         262,144\n",
      "     BatchNorm2d-212          [-1, 256, 16, 16]             512\n",
      "            ReLU-213          [-1, 256, 16, 16]               0\n",
      "          Conv2d-214          [-1, 256, 16, 16]         589,824\n",
      "     BatchNorm2d-215          [-1, 256, 16, 16]             512\n",
      "            ReLU-216          [-1, 256, 16, 16]               0\n",
      "          Conv2d-217         [-1, 1024, 16, 16]         262,144\n",
      "     BatchNorm2d-218         [-1, 1024, 16, 16]           2,048\n",
      "            ReLU-219         [-1, 1024, 16, 16]               0\n",
      "      BottleNeck-220         [-1, 1024, 16, 16]               0\n",
      "          Conv2d-221          [-1, 256, 16, 16]         262,144\n",
      "     BatchNorm2d-222          [-1, 256, 16, 16]             512\n",
      "            ReLU-223          [-1, 256, 16, 16]               0\n",
      "          Conv2d-224          [-1, 256, 16, 16]         589,824\n",
      "     BatchNorm2d-225          [-1, 256, 16, 16]             512\n",
      "            ReLU-226          [-1, 256, 16, 16]               0\n",
      "          Conv2d-227         [-1, 1024, 16, 16]         262,144\n",
      "     BatchNorm2d-228         [-1, 1024, 16, 16]           2,048\n",
      "            ReLU-229         [-1, 1024, 16, 16]               0\n",
      "      BottleNeck-230         [-1, 1024, 16, 16]               0\n",
      "          Conv2d-231          [-1, 256, 16, 16]         262,144\n",
      "     BatchNorm2d-232          [-1, 256, 16, 16]             512\n",
      "            ReLU-233          [-1, 256, 16, 16]               0\n",
      "          Conv2d-234          [-1, 256, 16, 16]         589,824\n",
      "     BatchNorm2d-235          [-1, 256, 16, 16]             512\n",
      "            ReLU-236          [-1, 256, 16, 16]               0\n",
      "          Conv2d-237         [-1, 1024, 16, 16]         262,144\n",
      "     BatchNorm2d-238         [-1, 1024, 16, 16]           2,048\n",
      "            ReLU-239         [-1, 1024, 16, 16]               0\n",
      "      BottleNeck-240         [-1, 1024, 16, 16]               0\n",
      "          Conv2d-241          [-1, 256, 16, 16]         262,144\n",
      "     BatchNorm2d-242          [-1, 256, 16, 16]             512\n",
      "            ReLU-243          [-1, 256, 16, 16]               0\n",
      "          Conv2d-244          [-1, 256, 16, 16]         589,824\n",
      "     BatchNorm2d-245          [-1, 256, 16, 16]             512\n",
      "            ReLU-246          [-1, 256, 16, 16]               0\n",
      "          Conv2d-247         [-1, 1024, 16, 16]         262,144\n",
      "     BatchNorm2d-248         [-1, 1024, 16, 16]           2,048\n",
      "            ReLU-249         [-1, 1024, 16, 16]               0\n",
      "      BottleNeck-250         [-1, 1024, 16, 16]               0\n",
      "          Conv2d-251          [-1, 256, 16, 16]         262,144\n",
      "     BatchNorm2d-252          [-1, 256, 16, 16]             512\n",
      "            ReLU-253          [-1, 256, 16, 16]               0\n",
      "          Conv2d-254          [-1, 256, 16, 16]         589,824\n",
      "     BatchNorm2d-255          [-1, 256, 16, 16]             512\n",
      "            ReLU-256          [-1, 256, 16, 16]               0\n",
      "          Conv2d-257         [-1, 1024, 16, 16]         262,144\n",
      "     BatchNorm2d-258         [-1, 1024, 16, 16]           2,048\n",
      "            ReLU-259         [-1, 1024, 16, 16]               0\n",
      "      BottleNeck-260         [-1, 1024, 16, 16]               0\n",
      "          Conv2d-261          [-1, 256, 16, 16]         262,144\n",
      "     BatchNorm2d-262          [-1, 256, 16, 16]             512\n",
      "            ReLU-263          [-1, 256, 16, 16]               0\n",
      "          Conv2d-264          [-1, 256, 16, 16]         589,824\n",
      "     BatchNorm2d-265          [-1, 256, 16, 16]             512\n",
      "            ReLU-266          [-1, 256, 16, 16]               0\n",
      "          Conv2d-267         [-1, 1024, 16, 16]         262,144\n",
      "     BatchNorm2d-268         [-1, 1024, 16, 16]           2,048\n",
      "            ReLU-269         [-1, 1024, 16, 16]               0\n",
      "      BottleNeck-270         [-1, 1024, 16, 16]               0\n",
      "          Conv2d-271          [-1, 256, 16, 16]         262,144\n",
      "     BatchNorm2d-272          [-1, 256, 16, 16]             512\n",
      "            ReLU-273          [-1, 256, 16, 16]               0\n",
      "          Conv2d-274          [-1, 256, 16, 16]         589,824\n",
      "     BatchNorm2d-275          [-1, 256, 16, 16]             512\n",
      "            ReLU-276          [-1, 256, 16, 16]               0\n",
      "          Conv2d-277         [-1, 1024, 16, 16]         262,144\n",
      "     BatchNorm2d-278         [-1, 1024, 16, 16]           2,048\n",
      "            ReLU-279         [-1, 1024, 16, 16]               0\n",
      "      BottleNeck-280         [-1, 1024, 16, 16]               0\n",
      "          Conv2d-281          [-1, 256, 16, 16]         262,144\n",
      "     BatchNorm2d-282          [-1, 256, 16, 16]             512\n",
      "            ReLU-283          [-1, 256, 16, 16]               0\n",
      "          Conv2d-284          [-1, 256, 16, 16]         589,824\n",
      "     BatchNorm2d-285          [-1, 256, 16, 16]             512\n",
      "            ReLU-286          [-1, 256, 16, 16]               0\n",
      "          Conv2d-287         [-1, 1024, 16, 16]         262,144\n",
      "     BatchNorm2d-288         [-1, 1024, 16, 16]           2,048\n",
      "            ReLU-289         [-1, 1024, 16, 16]               0\n",
      "      BottleNeck-290         [-1, 1024, 16, 16]               0\n",
      "          Conv2d-291          [-1, 256, 16, 16]         262,144\n",
      "     BatchNorm2d-292          [-1, 256, 16, 16]             512\n",
      "            ReLU-293          [-1, 256, 16, 16]               0\n",
      "          Conv2d-294          [-1, 256, 16, 16]         589,824\n",
      "     BatchNorm2d-295          [-1, 256, 16, 16]             512\n",
      "            ReLU-296          [-1, 256, 16, 16]               0\n",
      "          Conv2d-297         [-1, 1024, 16, 16]         262,144\n",
      "     BatchNorm2d-298         [-1, 1024, 16, 16]           2,048\n",
      "            ReLU-299         [-1, 1024, 16, 16]               0\n",
      "      BottleNeck-300         [-1, 1024, 16, 16]               0\n",
      "          Conv2d-301          [-1, 256, 16, 16]         262,144\n",
      "     BatchNorm2d-302          [-1, 256, 16, 16]             512\n",
      "            ReLU-303          [-1, 256, 16, 16]               0\n",
      "          Conv2d-304          [-1, 256, 16, 16]         589,824\n",
      "     BatchNorm2d-305          [-1, 256, 16, 16]             512\n",
      "            ReLU-306          [-1, 256, 16, 16]               0\n",
      "          Conv2d-307         [-1, 1024, 16, 16]         262,144\n",
      "     BatchNorm2d-308         [-1, 1024, 16, 16]           2,048\n",
      "            ReLU-309         [-1, 1024, 16, 16]               0\n",
      "      BottleNeck-310         [-1, 1024, 16, 16]               0\n",
      "          Conv2d-311          [-1, 512, 16, 16]         524,288\n",
      "     BatchNorm2d-312          [-1, 512, 16, 16]           1,024\n",
      "            ReLU-313          [-1, 512, 16, 16]               0\n",
      "          Conv2d-314            [-1, 512, 8, 8]       2,359,296\n",
      "     BatchNorm2d-315            [-1, 512, 8, 8]           1,024\n",
      "            ReLU-316            [-1, 512, 8, 8]               0\n",
      "          Conv2d-317           [-1, 2048, 8, 8]       1,048,576\n",
      "     BatchNorm2d-318           [-1, 2048, 8, 8]           4,096\n",
      "          Conv2d-319           [-1, 2048, 8, 8]       2,097,152\n",
      "     BatchNorm2d-320           [-1, 2048, 8, 8]           4,096\n",
      "            ReLU-321           [-1, 2048, 8, 8]               0\n",
      "      BottleNeck-322           [-1, 2048, 8, 8]               0\n",
      "          Conv2d-323            [-1, 512, 8, 8]       1,048,576\n",
      "     BatchNorm2d-324            [-1, 512, 8, 8]           1,024\n",
      "            ReLU-325            [-1, 512, 8, 8]               0\n",
      "          Conv2d-326            [-1, 512, 8, 8]       2,359,296\n",
      "     BatchNorm2d-327            [-1, 512, 8, 8]           1,024\n",
      "            ReLU-328            [-1, 512, 8, 8]               0\n",
      "          Conv2d-329           [-1, 2048, 8, 8]       1,048,576\n",
      "     BatchNorm2d-330           [-1, 2048, 8, 8]           4,096\n",
      "            ReLU-331           [-1, 2048, 8, 8]               0\n",
      "      BottleNeck-332           [-1, 2048, 8, 8]               0\n",
      "          Conv2d-333            [-1, 512, 8, 8]       1,048,576\n",
      "     BatchNorm2d-334            [-1, 512, 8, 8]           1,024\n",
      "            ReLU-335            [-1, 512, 8, 8]               0\n",
      "          Conv2d-336            [-1, 512, 8, 8]       2,359,296\n",
      "     BatchNorm2d-337            [-1, 512, 8, 8]           1,024\n",
      "            ReLU-338            [-1, 512, 8, 8]               0\n",
      "          Conv2d-339           [-1, 2048, 8, 8]       1,048,576\n",
      "     BatchNorm2d-340           [-1, 2048, 8, 8]           4,096\n",
      "            ReLU-341           [-1, 2048, 8, 8]               0\n",
      "      BottleNeck-342           [-1, 2048, 8, 8]               0\n",
      "AdaptiveAvgPool2d-343           [-1, 2048, 1, 1]               0\n",
      "          Linear-344                   [-1, 42]          86,058\n",
      "================================================================\n",
      "Total params: 42,586,218\n",
      "Trainable params: 42,586,218\n",
      "Non-trainable params: 0\n",
      "----------------------------------------------------------------\n",
      "Input size (MB): 0.68\n",
      "Forward/backward pass size (MB): 538.15\n",
      "Params size (MB): 162.45\n",
      "Estimated Total Size (MB): 701.28\n",
      "----------------------------------------------------------------\n"
     ]
    }
   ],
   "source": [
    "from torchsummary import summary\n",
    "summary(model, (3,244,244))"
   ],
   "metadata": {
    "collapsed": false,
    "ExecuteTime": {
     "end_time": "2023-10-12T01:49:39.221969100Z",
     "start_time": "2023-10-12T01:49:39.068839900Z"
    }
   },
   "id": "c7333ac2bd85c65f"
  },
  {
   "cell_type": "code",
   "execution_count": 25,
   "outputs": [
    {
     "name": "stdout",
     "output_type": "stream",
     "text": [
      "----------------------------------------------------------------\n",
      "        Layer (type)               Output Shape         Param #\n",
      "================================================================\n",
      "            Conv2d-1         [-1, 64, 112, 112]           9,408\n",
      "       BatchNorm2d-2         [-1, 64, 112, 112]             128\n",
      "              ReLU-3         [-1, 64, 112, 112]               0\n",
      "         MaxPool2d-4           [-1, 64, 56, 56]               0\n",
      "            Conv2d-5           [-1, 64, 56, 56]           4,096\n",
      "       BatchNorm2d-6           [-1, 64, 56, 56]             128\n",
      "              ReLU-7           [-1, 64, 56, 56]               0\n",
      "            Conv2d-8           [-1, 64, 56, 56]          36,864\n",
      "       BatchNorm2d-9           [-1, 64, 56, 56]             128\n",
      "             ReLU-10           [-1, 64, 56, 56]               0\n",
      "           Conv2d-11          [-1, 256, 56, 56]          16,384\n",
      "      BatchNorm2d-12          [-1, 256, 56, 56]             512\n",
      "           Conv2d-13          [-1, 256, 56, 56]          16,384\n",
      "      BatchNorm2d-14          [-1, 256, 56, 56]             512\n",
      "             ReLU-15          [-1, 256, 56, 56]               0\n",
      "       BottleNeck-16          [-1, 256, 56, 56]               0\n",
      "           Conv2d-17           [-1, 64, 56, 56]          16,384\n",
      "      BatchNorm2d-18           [-1, 64, 56, 56]             128\n",
      "             ReLU-19           [-1, 64, 56, 56]               0\n",
      "           Conv2d-20           [-1, 64, 56, 56]          36,864\n",
      "      BatchNorm2d-21           [-1, 64, 56, 56]             128\n",
      "             ReLU-22           [-1, 64, 56, 56]               0\n",
      "           Conv2d-23          [-1, 256, 56, 56]          16,384\n",
      "      BatchNorm2d-24          [-1, 256, 56, 56]             512\n",
      "             ReLU-25          [-1, 256, 56, 56]               0\n",
      "       BottleNeck-26          [-1, 256, 56, 56]               0\n",
      "           Conv2d-27           [-1, 64, 56, 56]          16,384\n",
      "      BatchNorm2d-28           [-1, 64, 56, 56]             128\n",
      "             ReLU-29           [-1, 64, 56, 56]               0\n",
      "           Conv2d-30           [-1, 64, 56, 56]          36,864\n",
      "      BatchNorm2d-31           [-1, 64, 56, 56]             128\n",
      "             ReLU-32           [-1, 64, 56, 56]               0\n",
      "           Conv2d-33          [-1, 256, 56, 56]          16,384\n",
      "      BatchNorm2d-34          [-1, 256, 56, 56]             512\n",
      "             ReLU-35          [-1, 256, 56, 56]               0\n",
      "       BottleNeck-36          [-1, 256, 56, 56]               0\n",
      "           Conv2d-37          [-1, 128, 56, 56]          32,768\n",
      "      BatchNorm2d-38          [-1, 128, 56, 56]             256\n",
      "             ReLU-39          [-1, 128, 56, 56]               0\n",
      "           Conv2d-40          [-1, 128, 28, 28]         147,456\n",
      "      BatchNorm2d-41          [-1, 128, 28, 28]             256\n",
      "             ReLU-42          [-1, 128, 28, 28]               0\n",
      "           Conv2d-43          [-1, 512, 28, 28]          65,536\n",
      "      BatchNorm2d-44          [-1, 512, 28, 28]           1,024\n",
      "           Conv2d-45          [-1, 512, 28, 28]         131,072\n",
      "      BatchNorm2d-46          [-1, 512, 28, 28]           1,024\n",
      "             ReLU-47          [-1, 512, 28, 28]               0\n",
      "       BottleNeck-48          [-1, 512, 28, 28]               0\n",
      "           Conv2d-49          [-1, 128, 28, 28]          65,536\n",
      "      BatchNorm2d-50          [-1, 128, 28, 28]             256\n",
      "             ReLU-51          [-1, 128, 28, 28]               0\n",
      "           Conv2d-52          [-1, 128, 28, 28]         147,456\n",
      "      BatchNorm2d-53          [-1, 128, 28, 28]             256\n",
      "             ReLU-54          [-1, 128, 28, 28]               0\n",
      "           Conv2d-55          [-1, 512, 28, 28]          65,536\n",
      "      BatchNorm2d-56          [-1, 512, 28, 28]           1,024\n",
      "             ReLU-57          [-1, 512, 28, 28]               0\n",
      "       BottleNeck-58          [-1, 512, 28, 28]               0\n",
      "           Conv2d-59          [-1, 128, 28, 28]          65,536\n",
      "      BatchNorm2d-60          [-1, 128, 28, 28]             256\n",
      "             ReLU-61          [-1, 128, 28, 28]               0\n",
      "           Conv2d-62          [-1, 128, 28, 28]         147,456\n",
      "      BatchNorm2d-63          [-1, 128, 28, 28]             256\n",
      "             ReLU-64          [-1, 128, 28, 28]               0\n",
      "           Conv2d-65          [-1, 512, 28, 28]          65,536\n",
      "      BatchNorm2d-66          [-1, 512, 28, 28]           1,024\n",
      "             ReLU-67          [-1, 512, 28, 28]               0\n",
      "       BottleNeck-68          [-1, 512, 28, 28]               0\n",
      "           Conv2d-69          [-1, 128, 28, 28]          65,536\n",
      "      BatchNorm2d-70          [-1, 128, 28, 28]             256\n",
      "             ReLU-71          [-1, 128, 28, 28]               0\n",
      "           Conv2d-72          [-1, 128, 28, 28]         147,456\n",
      "      BatchNorm2d-73          [-1, 128, 28, 28]             256\n",
      "             ReLU-74          [-1, 128, 28, 28]               0\n",
      "           Conv2d-75          [-1, 512, 28, 28]          65,536\n",
      "      BatchNorm2d-76          [-1, 512, 28, 28]           1,024\n",
      "             ReLU-77          [-1, 512, 28, 28]               0\n",
      "       BottleNeck-78          [-1, 512, 28, 28]               0\n",
      "           Conv2d-79          [-1, 256, 28, 28]         131,072\n",
      "      BatchNorm2d-80          [-1, 256, 28, 28]             512\n",
      "             ReLU-81          [-1, 256, 28, 28]               0\n",
      "           Conv2d-82          [-1, 256, 14, 14]         589,824\n",
      "      BatchNorm2d-83          [-1, 256, 14, 14]             512\n",
      "             ReLU-84          [-1, 256, 14, 14]               0\n",
      "           Conv2d-85         [-1, 1024, 14, 14]         262,144\n",
      "      BatchNorm2d-86         [-1, 1024, 14, 14]           2,048\n",
      "           Conv2d-87         [-1, 1024, 14, 14]         524,288\n",
      "      BatchNorm2d-88         [-1, 1024, 14, 14]           2,048\n",
      "             ReLU-89         [-1, 1024, 14, 14]               0\n",
      "       BottleNeck-90         [-1, 1024, 14, 14]               0\n",
      "           Conv2d-91          [-1, 256, 14, 14]         262,144\n",
      "      BatchNorm2d-92          [-1, 256, 14, 14]             512\n",
      "             ReLU-93          [-1, 256, 14, 14]               0\n",
      "           Conv2d-94          [-1, 256, 14, 14]         589,824\n",
      "      BatchNorm2d-95          [-1, 256, 14, 14]             512\n",
      "             ReLU-96          [-1, 256, 14, 14]               0\n",
      "           Conv2d-97         [-1, 1024, 14, 14]         262,144\n",
      "      BatchNorm2d-98         [-1, 1024, 14, 14]           2,048\n",
      "             ReLU-99         [-1, 1024, 14, 14]               0\n",
      "      BottleNeck-100         [-1, 1024, 14, 14]               0\n",
      "          Conv2d-101          [-1, 256, 14, 14]         262,144\n",
      "     BatchNorm2d-102          [-1, 256, 14, 14]             512\n",
      "            ReLU-103          [-1, 256, 14, 14]               0\n",
      "          Conv2d-104          [-1, 256, 14, 14]         589,824\n",
      "     BatchNorm2d-105          [-1, 256, 14, 14]             512\n",
      "            ReLU-106          [-1, 256, 14, 14]               0\n",
      "          Conv2d-107         [-1, 1024, 14, 14]         262,144\n",
      "     BatchNorm2d-108         [-1, 1024, 14, 14]           2,048\n",
      "            ReLU-109         [-1, 1024, 14, 14]               0\n",
      "      BottleNeck-110         [-1, 1024, 14, 14]               0\n",
      "          Conv2d-111          [-1, 256, 14, 14]         262,144\n",
      "     BatchNorm2d-112          [-1, 256, 14, 14]             512\n",
      "            ReLU-113          [-1, 256, 14, 14]               0\n",
      "          Conv2d-114          [-1, 256, 14, 14]         589,824\n",
      "     BatchNorm2d-115          [-1, 256, 14, 14]             512\n",
      "            ReLU-116          [-1, 256, 14, 14]               0\n",
      "          Conv2d-117         [-1, 1024, 14, 14]         262,144\n",
      "     BatchNorm2d-118         [-1, 1024, 14, 14]           2,048\n",
      "            ReLU-119         [-1, 1024, 14, 14]               0\n",
      "      BottleNeck-120         [-1, 1024, 14, 14]               0\n",
      "          Conv2d-121          [-1, 256, 14, 14]         262,144\n",
      "     BatchNorm2d-122          [-1, 256, 14, 14]             512\n",
      "            ReLU-123          [-1, 256, 14, 14]               0\n",
      "          Conv2d-124          [-1, 256, 14, 14]         589,824\n",
      "     BatchNorm2d-125          [-1, 256, 14, 14]             512\n",
      "            ReLU-126          [-1, 256, 14, 14]               0\n",
      "          Conv2d-127         [-1, 1024, 14, 14]         262,144\n",
      "     BatchNorm2d-128         [-1, 1024, 14, 14]           2,048\n",
      "            ReLU-129         [-1, 1024, 14, 14]               0\n",
      "      BottleNeck-130         [-1, 1024, 14, 14]               0\n",
      "          Conv2d-131          [-1, 256, 14, 14]         262,144\n",
      "     BatchNorm2d-132          [-1, 256, 14, 14]             512\n",
      "            ReLU-133          [-1, 256, 14, 14]               0\n",
      "          Conv2d-134          [-1, 256, 14, 14]         589,824\n",
      "     BatchNorm2d-135          [-1, 256, 14, 14]             512\n",
      "            ReLU-136          [-1, 256, 14, 14]               0\n",
      "          Conv2d-137         [-1, 1024, 14, 14]         262,144\n",
      "     BatchNorm2d-138         [-1, 1024, 14, 14]           2,048\n",
      "            ReLU-139         [-1, 1024, 14, 14]               0\n",
      "      BottleNeck-140         [-1, 1024, 14, 14]               0\n",
      "          Conv2d-141          [-1, 256, 14, 14]         262,144\n",
      "     BatchNorm2d-142          [-1, 256, 14, 14]             512\n",
      "            ReLU-143          [-1, 256, 14, 14]               0\n",
      "          Conv2d-144          [-1, 256, 14, 14]         589,824\n",
      "     BatchNorm2d-145          [-1, 256, 14, 14]             512\n",
      "            ReLU-146          [-1, 256, 14, 14]               0\n",
      "          Conv2d-147         [-1, 1024, 14, 14]         262,144\n",
      "     BatchNorm2d-148         [-1, 1024, 14, 14]           2,048\n",
      "            ReLU-149         [-1, 1024, 14, 14]               0\n",
      "      BottleNeck-150         [-1, 1024, 14, 14]               0\n",
      "          Conv2d-151          [-1, 256, 14, 14]         262,144\n",
      "     BatchNorm2d-152          [-1, 256, 14, 14]             512\n",
      "            ReLU-153          [-1, 256, 14, 14]               0\n",
      "          Conv2d-154          [-1, 256, 14, 14]         589,824\n",
      "     BatchNorm2d-155          [-1, 256, 14, 14]             512\n",
      "            ReLU-156          [-1, 256, 14, 14]               0\n",
      "          Conv2d-157         [-1, 1024, 14, 14]         262,144\n",
      "     BatchNorm2d-158         [-1, 1024, 14, 14]           2,048\n",
      "            ReLU-159         [-1, 1024, 14, 14]               0\n",
      "      BottleNeck-160         [-1, 1024, 14, 14]               0\n",
      "          Conv2d-161          [-1, 256, 14, 14]         262,144\n",
      "     BatchNorm2d-162          [-1, 256, 14, 14]             512\n",
      "            ReLU-163          [-1, 256, 14, 14]               0\n",
      "          Conv2d-164          [-1, 256, 14, 14]         589,824\n",
      "     BatchNorm2d-165          [-1, 256, 14, 14]             512\n",
      "            ReLU-166          [-1, 256, 14, 14]               0\n",
      "          Conv2d-167         [-1, 1024, 14, 14]         262,144\n",
      "     BatchNorm2d-168         [-1, 1024, 14, 14]           2,048\n",
      "            ReLU-169         [-1, 1024, 14, 14]               0\n",
      "      BottleNeck-170         [-1, 1024, 14, 14]               0\n",
      "          Conv2d-171          [-1, 256, 14, 14]         262,144\n",
      "     BatchNorm2d-172          [-1, 256, 14, 14]             512\n",
      "            ReLU-173          [-1, 256, 14, 14]               0\n",
      "          Conv2d-174          [-1, 256, 14, 14]         589,824\n",
      "     BatchNorm2d-175          [-1, 256, 14, 14]             512\n",
      "            ReLU-176          [-1, 256, 14, 14]               0\n",
      "          Conv2d-177         [-1, 1024, 14, 14]         262,144\n",
      "     BatchNorm2d-178         [-1, 1024, 14, 14]           2,048\n",
      "            ReLU-179         [-1, 1024, 14, 14]               0\n",
      "      BottleNeck-180         [-1, 1024, 14, 14]               0\n",
      "          Conv2d-181          [-1, 256, 14, 14]         262,144\n",
      "     BatchNorm2d-182          [-1, 256, 14, 14]             512\n",
      "            ReLU-183          [-1, 256, 14, 14]               0\n",
      "          Conv2d-184          [-1, 256, 14, 14]         589,824\n",
      "     BatchNorm2d-185          [-1, 256, 14, 14]             512\n",
      "            ReLU-186          [-1, 256, 14, 14]               0\n",
      "          Conv2d-187         [-1, 1024, 14, 14]         262,144\n",
      "     BatchNorm2d-188         [-1, 1024, 14, 14]           2,048\n",
      "            ReLU-189         [-1, 1024, 14, 14]               0\n",
      "      BottleNeck-190         [-1, 1024, 14, 14]               0\n",
      "          Conv2d-191          [-1, 256, 14, 14]         262,144\n",
      "     BatchNorm2d-192          [-1, 256, 14, 14]             512\n",
      "            ReLU-193          [-1, 256, 14, 14]               0\n",
      "          Conv2d-194          [-1, 256, 14, 14]         589,824\n",
      "     BatchNorm2d-195          [-1, 256, 14, 14]             512\n",
      "            ReLU-196          [-1, 256, 14, 14]               0\n",
      "          Conv2d-197         [-1, 1024, 14, 14]         262,144\n",
      "     BatchNorm2d-198         [-1, 1024, 14, 14]           2,048\n",
      "            ReLU-199         [-1, 1024, 14, 14]               0\n",
      "      BottleNeck-200         [-1, 1024, 14, 14]               0\n",
      "          Conv2d-201          [-1, 256, 14, 14]         262,144\n",
      "     BatchNorm2d-202          [-1, 256, 14, 14]             512\n",
      "            ReLU-203          [-1, 256, 14, 14]               0\n",
      "          Conv2d-204          [-1, 256, 14, 14]         589,824\n",
      "     BatchNorm2d-205          [-1, 256, 14, 14]             512\n",
      "            ReLU-206          [-1, 256, 14, 14]               0\n",
      "          Conv2d-207         [-1, 1024, 14, 14]         262,144\n",
      "     BatchNorm2d-208         [-1, 1024, 14, 14]           2,048\n",
      "            ReLU-209         [-1, 1024, 14, 14]               0\n",
      "      BottleNeck-210         [-1, 1024, 14, 14]               0\n",
      "          Conv2d-211          [-1, 256, 14, 14]         262,144\n",
      "     BatchNorm2d-212          [-1, 256, 14, 14]             512\n",
      "            ReLU-213          [-1, 256, 14, 14]               0\n",
      "          Conv2d-214          [-1, 256, 14, 14]         589,824\n",
      "     BatchNorm2d-215          [-1, 256, 14, 14]             512\n",
      "            ReLU-216          [-1, 256, 14, 14]               0\n",
      "          Conv2d-217         [-1, 1024, 14, 14]         262,144\n",
      "     BatchNorm2d-218         [-1, 1024, 14, 14]           2,048\n",
      "            ReLU-219         [-1, 1024, 14, 14]               0\n",
      "      BottleNeck-220         [-1, 1024, 14, 14]               0\n",
      "          Conv2d-221          [-1, 256, 14, 14]         262,144\n",
      "     BatchNorm2d-222          [-1, 256, 14, 14]             512\n",
      "            ReLU-223          [-1, 256, 14, 14]               0\n",
      "          Conv2d-224          [-1, 256, 14, 14]         589,824\n",
      "     BatchNorm2d-225          [-1, 256, 14, 14]             512\n",
      "            ReLU-226          [-1, 256, 14, 14]               0\n",
      "          Conv2d-227         [-1, 1024, 14, 14]         262,144\n",
      "     BatchNorm2d-228         [-1, 1024, 14, 14]           2,048\n",
      "            ReLU-229         [-1, 1024, 14, 14]               0\n",
      "      BottleNeck-230         [-1, 1024, 14, 14]               0\n",
      "          Conv2d-231          [-1, 256, 14, 14]         262,144\n",
      "     BatchNorm2d-232          [-1, 256, 14, 14]             512\n",
      "            ReLU-233          [-1, 256, 14, 14]               0\n",
      "          Conv2d-234          [-1, 256, 14, 14]         589,824\n",
      "     BatchNorm2d-235          [-1, 256, 14, 14]             512\n",
      "            ReLU-236          [-1, 256, 14, 14]               0\n",
      "          Conv2d-237         [-1, 1024, 14, 14]         262,144\n",
      "     BatchNorm2d-238         [-1, 1024, 14, 14]           2,048\n",
      "            ReLU-239         [-1, 1024, 14, 14]               0\n",
      "      BottleNeck-240         [-1, 1024, 14, 14]               0\n",
      "          Conv2d-241          [-1, 256, 14, 14]         262,144\n",
      "     BatchNorm2d-242          [-1, 256, 14, 14]             512\n",
      "            ReLU-243          [-1, 256, 14, 14]               0\n",
      "          Conv2d-244          [-1, 256, 14, 14]         589,824\n",
      "     BatchNorm2d-245          [-1, 256, 14, 14]             512\n",
      "            ReLU-246          [-1, 256, 14, 14]               0\n",
      "          Conv2d-247         [-1, 1024, 14, 14]         262,144\n",
      "     BatchNorm2d-248         [-1, 1024, 14, 14]           2,048\n",
      "            ReLU-249         [-1, 1024, 14, 14]               0\n",
      "      BottleNeck-250         [-1, 1024, 14, 14]               0\n",
      "          Conv2d-251          [-1, 256, 14, 14]         262,144\n",
      "     BatchNorm2d-252          [-1, 256, 14, 14]             512\n",
      "            ReLU-253          [-1, 256, 14, 14]               0\n",
      "          Conv2d-254          [-1, 256, 14, 14]         589,824\n",
      "     BatchNorm2d-255          [-1, 256, 14, 14]             512\n",
      "            ReLU-256          [-1, 256, 14, 14]               0\n",
      "          Conv2d-257         [-1, 1024, 14, 14]         262,144\n",
      "     BatchNorm2d-258         [-1, 1024, 14, 14]           2,048\n",
      "            ReLU-259         [-1, 1024, 14, 14]               0\n",
      "      BottleNeck-260         [-1, 1024, 14, 14]               0\n",
      "          Conv2d-261          [-1, 256, 14, 14]         262,144\n",
      "     BatchNorm2d-262          [-1, 256, 14, 14]             512\n",
      "            ReLU-263          [-1, 256, 14, 14]               0\n",
      "          Conv2d-264          [-1, 256, 14, 14]         589,824\n",
      "     BatchNorm2d-265          [-1, 256, 14, 14]             512\n",
      "            ReLU-266          [-1, 256, 14, 14]               0\n",
      "          Conv2d-267         [-1, 1024, 14, 14]         262,144\n",
      "     BatchNorm2d-268         [-1, 1024, 14, 14]           2,048\n",
      "            ReLU-269         [-1, 1024, 14, 14]               0\n",
      "      BottleNeck-270         [-1, 1024, 14, 14]               0\n",
      "          Conv2d-271          [-1, 256, 14, 14]         262,144\n",
      "     BatchNorm2d-272          [-1, 256, 14, 14]             512\n",
      "            ReLU-273          [-1, 256, 14, 14]               0\n",
      "          Conv2d-274          [-1, 256, 14, 14]         589,824\n",
      "     BatchNorm2d-275          [-1, 256, 14, 14]             512\n",
      "            ReLU-276          [-1, 256, 14, 14]               0\n",
      "          Conv2d-277         [-1, 1024, 14, 14]         262,144\n",
      "     BatchNorm2d-278         [-1, 1024, 14, 14]           2,048\n",
      "            ReLU-279         [-1, 1024, 14, 14]               0\n",
      "      BottleNeck-280         [-1, 1024, 14, 14]               0\n",
      "          Conv2d-281          [-1, 256, 14, 14]         262,144\n",
      "     BatchNorm2d-282          [-1, 256, 14, 14]             512\n",
      "            ReLU-283          [-1, 256, 14, 14]               0\n",
      "          Conv2d-284          [-1, 256, 14, 14]         589,824\n",
      "     BatchNorm2d-285          [-1, 256, 14, 14]             512\n",
      "            ReLU-286          [-1, 256, 14, 14]               0\n",
      "          Conv2d-287         [-1, 1024, 14, 14]         262,144\n",
      "     BatchNorm2d-288         [-1, 1024, 14, 14]           2,048\n",
      "            ReLU-289         [-1, 1024, 14, 14]               0\n",
      "      BottleNeck-290         [-1, 1024, 14, 14]               0\n",
      "          Conv2d-291          [-1, 256, 14, 14]         262,144\n",
      "     BatchNorm2d-292          [-1, 256, 14, 14]             512\n",
      "            ReLU-293          [-1, 256, 14, 14]               0\n",
      "          Conv2d-294          [-1, 256, 14, 14]         589,824\n",
      "     BatchNorm2d-295          [-1, 256, 14, 14]             512\n",
      "            ReLU-296          [-1, 256, 14, 14]               0\n",
      "          Conv2d-297         [-1, 1024, 14, 14]         262,144\n",
      "     BatchNorm2d-298         [-1, 1024, 14, 14]           2,048\n",
      "            ReLU-299         [-1, 1024, 14, 14]               0\n",
      "      BottleNeck-300         [-1, 1024, 14, 14]               0\n",
      "          Conv2d-301          [-1, 256, 14, 14]         262,144\n",
      "     BatchNorm2d-302          [-1, 256, 14, 14]             512\n",
      "            ReLU-303          [-1, 256, 14, 14]               0\n",
      "          Conv2d-304          [-1, 256, 14, 14]         589,824\n",
      "     BatchNorm2d-305          [-1, 256, 14, 14]             512\n",
      "            ReLU-306          [-1, 256, 14, 14]               0\n",
      "          Conv2d-307         [-1, 1024, 14, 14]         262,144\n",
      "     BatchNorm2d-308         [-1, 1024, 14, 14]           2,048\n",
      "            ReLU-309         [-1, 1024, 14, 14]               0\n",
      "      BottleNeck-310         [-1, 1024, 14, 14]               0\n",
      "          Conv2d-311          [-1, 512, 14, 14]         524,288\n",
      "     BatchNorm2d-312          [-1, 512, 14, 14]           1,024\n",
      "            ReLU-313          [-1, 512, 14, 14]               0\n",
      "          Conv2d-314            [-1, 512, 7, 7]       2,359,296\n",
      "     BatchNorm2d-315            [-1, 512, 7, 7]           1,024\n",
      "            ReLU-316            [-1, 512, 7, 7]               0\n",
      "          Conv2d-317           [-1, 2048, 7, 7]       1,048,576\n",
      "     BatchNorm2d-318           [-1, 2048, 7, 7]           4,096\n",
      "          Conv2d-319           [-1, 2048, 7, 7]       2,097,152\n",
      "     BatchNorm2d-320           [-1, 2048, 7, 7]           4,096\n",
      "            ReLU-321           [-1, 2048, 7, 7]               0\n",
      "      BottleNeck-322           [-1, 2048, 7, 7]               0\n",
      "          Conv2d-323            [-1, 512, 7, 7]       1,048,576\n",
      "     BatchNorm2d-324            [-1, 512, 7, 7]           1,024\n",
      "            ReLU-325            [-1, 512, 7, 7]               0\n",
      "          Conv2d-326            [-1, 512, 7, 7]       2,359,296\n",
      "     BatchNorm2d-327            [-1, 512, 7, 7]           1,024\n",
      "            ReLU-328            [-1, 512, 7, 7]               0\n",
      "          Conv2d-329           [-1, 2048, 7, 7]       1,048,576\n",
      "     BatchNorm2d-330           [-1, 2048, 7, 7]           4,096\n",
      "            ReLU-331           [-1, 2048, 7, 7]               0\n",
      "      BottleNeck-332           [-1, 2048, 7, 7]               0\n",
      "          Conv2d-333            [-1, 512, 7, 7]       1,048,576\n",
      "     BatchNorm2d-334            [-1, 512, 7, 7]           1,024\n",
      "            ReLU-335            [-1, 512, 7, 7]               0\n",
      "          Conv2d-336            [-1, 512, 7, 7]       2,359,296\n",
      "     BatchNorm2d-337            [-1, 512, 7, 7]           1,024\n",
      "            ReLU-338            [-1, 512, 7, 7]               0\n",
      "          Conv2d-339           [-1, 2048, 7, 7]       1,048,576\n",
      "     BatchNorm2d-340           [-1, 2048, 7, 7]           4,096\n",
      "            ReLU-341           [-1, 2048, 7, 7]               0\n",
      "      BottleNeck-342           [-1, 2048, 7, 7]               0\n",
      "AdaptiveAvgPool2d-343           [-1, 2048, 1, 1]               0\n",
      "          Linear-344                   [-1, 42]          86,058\n",
      "================================================================\n",
      "Total params: 42,586,218\n",
      "Trainable params: 42,586,218\n",
      "Non-trainable params: 0\n",
      "----------------------------------------------------------------\n",
      "Input size (MB): 0.57\n",
      "Forward/backward pass size (MB): 429.72\n",
      "Params size (MB): 162.45\n",
      "Estimated Total Size (MB): 592.75\n",
      "----------------------------------------------------------------\n"
     ]
    }
   ],
   "source": [
    "summary(model, (3, 224, 224), device=device.type)"
   ],
   "metadata": {
    "collapsed": false,
    "ExecuteTime": {
     "end_time": "2023-10-12T01:49:39.365063700Z",
     "start_time": "2023-10-12T01:49:39.223933Z"
    }
   },
   "id": "38e4032559928e25"
  },
  {
   "cell_type": "code",
   "execution_count": 26,
   "outputs": [],
   "source": [
    "loss_func = nn.CrossEntropyLoss(reduction='sum')\n",
    "opt = optim.Adam(model.parameters(), lr=0.001)\n",
    "\n",
    "from torch.optim.lr_scheduler import ReduceLROnPlateau\n",
    "lr_scheduler = ReduceLROnPlateau(opt, mode='min', factor=0.1, patience=5)"
   ],
   "metadata": {
    "collapsed": false,
    "ExecuteTime": {
     "end_time": "2023-10-12T01:49:39.409943500Z",
     "start_time": "2023-10-12T01:49:39.366061900Z"
    }
   },
   "id": "8e1bbd83e7722a51"
  },
  {
   "cell_type": "code",
   "execution_count": 27,
   "outputs": [],
   "source": [
    "# function to get current lr\n",
    "def get_lr(opt):\n",
    "    for param_group in opt.param_groups:\n",
    "        return param_group['lr']"
   ],
   "metadata": {
    "collapsed": false,
    "ExecuteTime": {
     "end_time": "2023-10-12T01:49:39.413933800Z",
     "start_time": "2023-10-12T01:49:39.382019800Z"
    }
   },
   "id": "8d9d92dddc184708"
  },
  {
   "cell_type": "code",
   "execution_count": 28,
   "outputs": [],
   "source": [
    "# function to calculate metric per mini-batch\n",
    "def metric_batch(output, target):\n",
    "    pred = output.argmax(1, keepdim=True)\n",
    "    corrects = pred.eq(target.view_as(pred)).sum().item()\n",
    "    return corrects\n",
    "\n",
    "\n",
    "# function to calculate loss per mini-batch\n",
    "def loss_batch(loss_func, output, target, opt=None):\n",
    "    loss = loss_func(output, target)\n",
    "    metric_b = metric_batch(output, target)\n",
    "\n",
    "    if opt is not None:\n",
    "        opt.zero_grad()\n",
    "        loss.backward()\n",
    "        opt.step()\n",
    "\n",
    "    return loss.item(), metric_b"
   ],
   "metadata": {
    "collapsed": false,
    "ExecuteTime": {
     "end_time": "2023-10-12T01:49:39.414931Z",
     "start_time": "2023-10-12T01:49:39.396978100Z"
    }
   },
   "id": "96a04a3fd638d01c"
  },
  {
   "cell_type": "code",
   "execution_count": 29,
   "outputs": [],
   "source": [
    "# function to calculate loss and metric per epoch\n",
    "def loss_epoch(model, loss_func, dataset_dl, sanity_check=False, opt=None):\n",
    "    running_loss = 0.0\n",
    "    running_metric = 0.0\n",
    "    len_data = len(dataset_dl.dataset)\n",
    "\n",
    "    for xb, yb in dataset_dl:\n",
    "        xb = xb.to(device)\n",
    "        yb = yb.to(device)\n",
    "        output = model(xb)\n",
    "\n",
    "        loss_b, metric_b = loss_batch(loss_func, output, yb, opt)\n",
    "\n",
    "        running_loss += loss_b\n",
    "\n",
    "        if metric_b is not None:\n",
    "            running_metric += metric_b\n",
    "\n",
    "        if sanity_check is True:\n",
    "            break\n",
    "\n",
    "    loss = running_loss / len_data\n",
    "    metric = running_metric / len_data\n",
    "\n",
    "    return loss, metric"
   ],
   "metadata": {
    "collapsed": false,
    "ExecuteTime": {
     "end_time": "2023-10-12T01:49:39.431884700Z",
     "start_time": "2023-10-12T01:49:39.414931Z"
    }
   },
   "id": "a86f06bae5883252"
  },
  {
   "cell_type": "code",
   "execution_count": 30,
   "outputs": [],
   "source": [
    "# function to start training\n",
    "def train_val(model, params):\n",
    "    num_epochs=params['num_epochs']\n",
    "    loss_func=params[\"loss_func\"]\n",
    "    opt=params[\"optimizer\"]\n",
    "    train_dl=params[\"train_dl\"]\n",
    "    val_dl=params[\"val_dl\"]\n",
    "    sanity_check=params[\"sanity_check\"]\n",
    "    lr_scheduler=params[\"lr_scheduler\"]\n",
    "    path2weights=params[\"path2weights\"]\n",
    "\n",
    "    loss_history = {'train': [], 'val': []}\n",
    "    metric_history = {'train': [], 'val': []}\n",
    "\n",
    "    # # GPU out of memoty error\n",
    "    # best_model_wts = copy.deepcopy(model.state_dict())\n",
    "\n",
    "    best_loss = float('inf')\n",
    "\n",
    "    start_time = time.time()\n",
    "\n",
    "    for epoch in range(num_epochs):\n",
    "        current_lr = get_lr(opt)\n",
    "        print('Epoch {}/{}, current lr={}'.format(epoch, num_epochs-1, current_lr))\n",
    "\n",
    "        model.train()\n",
    "        train_loss, train_metric = loss_epoch(model, loss_func, train_dl, sanity_check, opt)\n",
    "        loss_history['train'].append(train_loss)\n",
    "        metric_history['train'].append(train_metric)\n",
    "\n",
    "        model.eval()\n",
    "        with torch.no_grad():\n",
    "            val_loss, val_metric = loss_epoch(model, loss_func, val_dl, sanity_check)\n",
    "        loss_history['val'].append(val_loss)\n",
    "        metric_history['val'].append(val_metric)\n",
    "\n",
    "        if val_loss < best_loss:\n",
    "            best_loss = val_loss\n",
    "            # best_model_wts = copy.deepcopy(model.state_dict())\n",
    "\n",
    "            # torch.save(model.state_dict(), path2weights)\n",
    "            # print('Copied best model weights!')\n",
    "            print('Get best val_loss')\n",
    "\n",
    "        lr_scheduler.step(val_loss)\n",
    "\n",
    "        print('train loss: %.6f, val loss: %.6f, accuracy: %.2f, time: %.4f min' %(train_loss, val_loss, 100*val_metric, (time.time()-start_time)/60))\n",
    "        print('-'*10)\n",
    "\n",
    "    # model.load_state_dict(best_model_wts)\n",
    "\n",
    "    return model, loss_history, metric_history"
   ],
   "metadata": {
    "collapsed": false,
    "ExecuteTime": {
     "end_time": "2023-10-12T01:49:39.451831200Z",
     "start_time": "2023-10-12T01:49:39.428893300Z"
    }
   },
   "id": "11c6eb7f4a25fdfb"
  },
  {
   "cell_type": "code",
   "execution_count": 31,
   "outputs": [],
   "source": [
    "# definc the training parameters\n",
    "params_train = {\n",
    "    'num_epochs':40,\n",
    "    'optimizer':opt,\n",
    "    'loss_func':loss_func,\n",
    "    'train_dl':train_dl,\n",
    "    'val_dl':val_dl,\n",
    "    'sanity_check':False,\n",
    "    'lr_scheduler':lr_scheduler,\n",
    "    'path2weights':'./models/weights.pt',\n",
    "}\n",
    "\n",
    "# create the directory that stores weights.pt\n",
    "def createFolder(directory):\n",
    "    try:\n",
    "        if not os.path.exists(directory):\n",
    "            os.makedirs(directory)\n",
    "    except OSerror:\n",
    "        print('Error')\n",
    "createFolder('./models')"
   ],
   "metadata": {
    "collapsed": false,
    "ExecuteTime": {
     "end_time": "2023-10-12T01:49:39.461805200Z",
     "start_time": "2023-10-12T01:49:39.444850900Z"
    }
   },
   "id": "9e29c028c9697193"
  },
  {
   "cell_type": "code",
   "execution_count": 32,
   "outputs": [
    {
     "name": "stdout",
     "output_type": "stream",
     "text": [
      "Epoch 0/39, current lr=0.001\n",
      "Get best val_loss\n",
      "train loss: 3.247722, val loss: 3.181009, accuracy: 17.98, time: 9.2479 min\n",
      "----------\n",
      "Epoch 1/39, current lr=0.001\n",
      "Get best val_loss\n",
      "train loss: 2.685634, val loss: 2.649706, accuracy: 25.68, time: 18.4789 min\n",
      "----------\n",
      "Epoch 2/39, current lr=0.001\n",
      "Get best val_loss\n",
      "train loss: 2.283662, val loss: 2.274575, accuracy: 34.56, time: 27.7013 min\n",
      "----------\n",
      "Epoch 3/39, current lr=0.001\n",
      "Get best val_loss\n",
      "train loss: 1.974797, val loss: 2.149427, accuracy: 37.90, time: 36.9253 min\n",
      "----------\n",
      "Epoch 4/39, current lr=0.001\n",
      "train loss: 1.709401, val loss: 3.055174, accuracy: 45.83, time: 46.1509 min\n",
      "----------\n",
      "Epoch 5/39, current lr=0.001\n",
      "Get best val_loss\n",
      "train loss: 1.529392, val loss: 1.893905, accuracy: 51.26, time: 55.3787 min\n",
      "----------\n",
      "Epoch 6/39, current lr=0.001\n",
      "Get best val_loss\n",
      "train loss: 1.373881, val loss: 1.586340, accuracy: 53.33, time: 64.6025 min\n",
      "----------\n",
      "Epoch 7/39, current lr=0.001\n",
      "train loss: 1.274909, val loss: 2.344053, accuracy: 57.05, time: 73.8245 min\n",
      "----------\n",
      "Epoch 8/39, current lr=0.001\n",
      "train loss: 1.133060, val loss: 5.281050, accuracy: 57.86, time: 83.0664 min\n",
      "----------\n",
      "Epoch 9/39, current lr=0.001\n",
      "train loss: 1.018006, val loss: 1.681560, accuracy: 62.91, time: 92.3134 min\n",
      "----------\n",
      "Epoch 10/39, current lr=0.001\n",
      "Get best val_loss\n",
      "train loss: 0.908059, val loss: 1.481791, accuracy: 65.29, time: 101.6060 min\n",
      "----------\n",
      "Epoch 11/39, current lr=0.001\n",
      "Get best val_loss\n",
      "train loss: 0.816902, val loss: 1.344497, accuracy: 60.41, time: 111.0227 min\n",
      "----------\n",
      "Epoch 12/39, current lr=0.001\n",
      "Get best val_loss\n",
      "train loss: 0.740067, val loss: 1.136959, accuracy: 67.34, time: 120.4435 min\n",
      "----------\n",
      "Epoch 13/39, current lr=0.001\n",
      "train loss: 0.640159, val loss: 1.260125, accuracy: 68.01, time: 129.8573 min\n",
      "----------\n",
      "Epoch 14/39, current lr=0.001\n",
      "train loss: 0.573199, val loss: 1.154831, accuracy: 67.98, time: 139.3192 min\n",
      "----------\n",
      "Epoch 15/39, current lr=0.001\n",
      "Get best val_loss\n",
      "train loss: 0.485584, val loss: 1.113773, accuracy: 69.53, time: 148.7466 min\n",
      "----------\n",
      "Epoch 16/39, current lr=0.001\n",
      "Get best val_loss\n",
      "train loss: 0.411911, val loss: 1.103758, accuracy: 70.22, time: 158.1639 min\n",
      "----------\n",
      "Epoch 17/39, current lr=0.001\n",
      "train loss: 0.365531, val loss: 1.318056, accuracy: 70.08, time: 167.5890 min\n",
      "----------\n",
      "Epoch 18/39, current lr=0.001\n",
      "train loss: 0.299198, val loss: 1.239811, accuracy: 68.48, time: 177.0139 min\n",
      "----------\n",
      "Epoch 19/39, current lr=0.001\n",
      "train loss: 0.253391, val loss: 1.322154, accuracy: 70.25, time: 186.4351 min\n",
      "----------\n",
      "Epoch 20/39, current lr=0.001\n",
      "train loss: 0.219077, val loss: 1.462019, accuracy: 67.48, time: 195.8514 min\n",
      "----------\n",
      "Epoch 21/39, current lr=0.001\n",
      "train loss: 0.199417, val loss: 1.609707, accuracy: 70.15, time: 205.2654 min\n",
      "----------\n",
      "Epoch 22/39, current lr=0.001\n",
      "train loss: 0.171633, val loss: 1.348753, accuracy: 70.75, time: 214.6781 min\n",
      "----------\n",
      "Epoch 23/39, current lr=0.0001\n",
      "train loss: 0.052338, val loss: 1.171579, accuracy: 77.66, time: 224.0937 min\n",
      "----------\n",
      "Epoch 24/39, current lr=0.0001\n",
      "train loss: 0.026884, val loss: 1.120578, accuracy: 78.20, time: 233.5275 min\n",
      "----------\n",
      "Epoch 25/39, current lr=0.0001\n",
      "train loss: 0.020369, val loss: 1.200541, accuracy: 78.32, time: 242.9492 min\n",
      "----------\n",
      "Epoch 26/39, current lr=0.0001\n",
      "train loss: 0.015416, val loss: 1.319279, accuracy: 78.20, time: 252.3966 min\n",
      "----------\n",
      "Epoch 27/39, current lr=0.0001\n",
      "train loss: 0.012558, val loss: 1.200090, accuracy: 78.51, time: 261.8186 min\n",
      "----------\n",
      "Epoch 28/39, current lr=0.0001\n",
      "train loss: 0.011090, val loss: 1.187176, accuracy: 78.63, time: 271.2325 min\n",
      "----------\n",
      "Epoch 29/39, current lr=1e-05\n",
      "train loss: 0.009245, val loss: 1.210350, accuracy: 78.73, time: 280.6512 min\n",
      "----------\n",
      "Epoch 30/39, current lr=1e-05\n",
      "train loss: 0.007098, val loss: 1.415284, accuracy: 78.78, time: 290.0826 min\n",
      "----------\n",
      "Epoch 31/39, current lr=1e-05\n",
      "train loss: 0.006679, val loss: 1.327936, accuracy: 79.11, time: 299.5797 min\n",
      "----------\n",
      "Epoch 32/39, current lr=1e-05\n",
      "train loss: 0.006294, val loss: 1.293314, accuracy: 78.92, time: 308.8179 min\n",
      "----------\n",
      "Epoch 33/39, current lr=1e-05\n",
      "train loss: 0.006219, val loss: 1.263877, accuracy: 79.20, time: 318.0837 min\n",
      "----------\n",
      "Epoch 34/39, current lr=1e-05\n",
      "train loss: 0.005785, val loss: 1.267118, accuracy: 79.01, time: 327.3455 min\n",
      "----------\n",
      "Epoch 35/39, current lr=1.0000000000000002e-06\n",
      "train loss: 0.005112, val loss: 1.330295, accuracy: 79.04, time: 336.6616 min\n",
      "----------\n",
      "Epoch 36/39, current lr=1.0000000000000002e-06\n",
      "train loss: 0.005018, val loss: 1.684254, accuracy: 78.54, time: 346.1355 min\n",
      "----------\n",
      "Epoch 37/39, current lr=1.0000000000000002e-06\n",
      "train loss: 0.005741, val loss: 1.459709, accuracy: 78.82, time: 355.5855 min\n",
      "----------\n",
      "Epoch 38/39, current lr=1.0000000000000002e-06\n",
      "train loss: 0.004957, val loss: 1.262644, accuracy: 79.04, time: 365.1265 min\n",
      "----------\n",
      "Epoch 39/39, current lr=1.0000000000000002e-06\n",
      "train loss: 0.005059, val loss: 1.183545, accuracy: 79.28, time: 375.2176 min\n",
      "----------\n"
     ]
    }
   ],
   "source": [
    "model, loss_hist, metric_hist = train_val(model, params_train)"
   ],
   "metadata": {
    "collapsed": false,
    "ExecuteTime": {
     "end_time": "2023-10-12T08:04:52.531855900Z",
     "start_time": "2023-10-12T01:49:39.459810100Z"
    }
   },
   "id": "8f4658fb186b28e9"
  },
  {
   "cell_type": "code",
   "execution_count": 34,
   "outputs": [
    {
     "name": "stdout",
     "output_type": "stream",
     "text": [
      "Accuracy 79 %\n"
     ]
    }
   ],
   "source": [
    "\n",
    "correct = 0\n",
    "total = 0\n",
    "# since we're not training, we don't need to calculate the gradients for our outputs\n",
    "\n",
    "with torch.no_grad():\n",
    "    for data in val_dl:\n",
    "        images, labels = data[0].to(device), data[1].to(device)\n",
    "        # calculate outputs by running images through the network\n",
    "        outputs = model(images.to(device))\n",
    "        # the class with the highest energy is what we choose as prediction\n",
    "        _ , predicted = torch.max(outputs.data, 1)\n",
    "        total += labels.size(0)\n",
    "        correct += (predicted == labels).sum().item()\n",
    "\n",
    "print(f'Accuracy {100 * correct // total} %')"
   ],
   "metadata": {
    "collapsed": false,
    "ExecuteTime": {
     "end_time": "2023-10-12T08:06:33.676080300Z",
     "start_time": "2023-10-12T08:05:47.907897800Z"
    }
   },
   "id": "da977e2b3673b322"
  },
  {
   "cell_type": "code",
   "execution_count": 35,
   "outputs": [],
   "source": [
    "PATH = '../weight/baseline_resnet101_1.pth'\n",
    "torch.save(model.state_dict(), PATH)"
   ],
   "metadata": {
    "collapsed": false,
    "ExecuteTime": {
     "end_time": "2023-10-12T08:06:36.860681900Z",
     "start_time": "2023-10-12T08:06:36.591491200Z"
    }
   },
   "id": "5ccdd3887925b08d"
  },
  {
   "cell_type": "code",
   "execution_count": null,
   "outputs": [],
   "source": [],
   "metadata": {
    "collapsed": false,
    "ExecuteTime": {
     "start_time": "2023-10-12T08:04:53.854333600Z"
    }
   },
   "id": "15988d3716c28a44"
  },
  {
   "cell_type": "code",
   "execution_count": 36,
   "outputs": [
    {
     "data": {
      "text/plain": "<Figure size 640x480 with 1 Axes>",
      "image/png": "[encoded data removed]"
     },
     "metadata": {},
     "output_type": "display_data"
    },
    {
     "data": {
      "text/plain": "<Figure size 640x480 with 1 Axes>",
      "image/png": "[encoded data removed]"
     },
     "metadata": {},
     "output_type": "display_data"
    }
   ],
   "source": [
    "# Train-Validation Progress\n",
    "num_epochs=params_train[\"num_epochs\"]\n",
    "\n",
    "# plot loss progress\n",
    "plt.title(\"Train-Val Loss\")\n",
    "plt.plot(range(1,num_epochs+1),loss_hist[\"train\"],label=\"train\")\n",
    "plt.plot(range(1,num_epochs+1),loss_hist[\"val\"],label=\"val\")\n",
    "plt.ylabel(\"Loss\")\n",
    "plt.xlabel(\"Training Epochs\")\n",
    "plt.legend()\n",
    "plt.show()\n",
    "\n",
    "# plot accuracy progress\n",
    "plt.title(\"Train-Val Accuracy\")\n",
    "plt.plot(range(1,num_epochs+1),metric_hist[\"train\"],label=\"train\")\n",
    "plt.plot(range(1,num_epochs+1),metric_hist[\"val\"],label=\"val\")\n",
    "plt.ylabel(\"Accuracy\")\n",
    "plt.xlabel(\"Training Epochs\")\n",
    "plt.legend()\n",
    "plt.show()"
   ],
   "metadata": {
    "collapsed": false,
    "ExecuteTime": {
     "end_time": "2023-10-12T08:06:38.725861700Z",
     "start_time": "2023-10-12T08:06:38.397162600Z"
    }
   },
   "id": "76ed73b296d12106"
  },
  {
   "cell_type": "code",
   "execution_count": 51,
   "outputs": [],
   "source": [
    "# 채점시 사용되는 코드\n",
    "# 본인의 코드에 사용해도 된다.\n",
    "\n",
    "@torch.no_grad()\n",
    "def validate_epoch(model: nn.Module, data_loader: DataLoader, device: torch.device):\n",
    "    ''' data_loader provides inputs and GTs.\n",
    "        model receives input images from data_loader and produces logits.\n",
    "        returns the accuracy of model in percent.\n",
    "    '''\n",
    "    model.eval()\n",
    "    accuracies = []\n",
    "    for images, labels in tqdm(data_loader, total=len(data_loader), mininterval=1, desc='measuring accuracy'):\n",
    "        images = images.to(device)\n",
    "        labels = labels.to(device)\n",
    "\n",
    "        logits = model(images)\n",
    "        pred = torch.argmax(logits, dim=1)\n",
    "\n",
    "        accuracies.append(pred == labels)\n",
    "\n",
    "    accuracy = torch.concat(accuracies).float().mean() * 100\n",
    "    return accuracy.item()"
   ],
   "metadata": {
    "collapsed": false,
    "ExecuteTime": {
     "end_time": "2023-10-12T11:04:33.178354600Z",
     "start_time": "2023-10-12T11:04:33.164392800Z"
    }
   },
   "id": "7c6f5392a51876eb"
  },
  {
   "cell_type": "code",
   "execution_count": 52,
   "outputs": [
    {
     "data": {
      "text/plain": "measuring accuracy:   0%|          | 0/66 [00:00<?, ?it/s]",
      "application/vnd.jupyter.widget-view+json": {
       "version_major": 2,
       "version_minor": 0,
       "model_id": "a8d164f72e9b4fc1ba2a57ff2be70721"
      }
     },
     "metadata": {},
     "output_type": "display_data"
    },
    {
     "data": {
      "text/plain": "79.27584838867188"
     },
     "execution_count": 52,
     "metadata": {},
     "output_type": "execute_result"
    }
   ],
   "source": [
    "validate_epoch(model, val_dl, device)"
   ],
   "metadata": {
    "collapsed": false,
    "ExecuteTime": {
     "end_time": "2023-10-12T11:05:04.174805Z",
     "start_time": "2023-10-12T11:04:35.160351300Z"
    }
   },
   "id": "e976967c33ddad64"
  },
  {
   "cell_type": "code",
   "execution_count": null,
   "outputs": [],
   "source": [],
   "metadata": {
    "collapsed": false
   },
   "id": "c5dcd205748f3b46"
  }
 ],
 "metadata": {
  "kernelspec": {
   "display_name": "Python 3",
   "language": "python",
   "name": "python3"
  },
  "language_info": {
   "codemirror_mode": {
    "name": "ipython",
    "version": 2
   },
   "file_extension": ".py",
   "mimetype": "text/x-python",
   "name": "python",
   "nbconvert_exporter": "python",
   "pygments_lexer": "ipython2",
   "version": "2.7.6"
  }
 },
 "nbformat": 4,
 "nbformat_minor": 5
}
