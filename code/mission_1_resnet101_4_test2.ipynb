{
 "cells": [
  {
   "cell_type": "code",
   "execution_count": 1,
   "id": "initial_id",
   "metadata": {
    "collapsed": true,
    "ExecuteTime": {
     "end_time": "2023-10-26T11:19:03.233765300Z",
     "start_time": "2023-10-26T11:18:59.680349300Z"
    }
   },
   "outputs": [
    {
     "name": "stdout",
     "output_type": "stream",
     "text": [
      "cuda:0\n"
     ]
    }
   ],
   "source": [
    "import torch\n",
    "import numpy as np\n",
    "\n",
    "device = torch.device('cuda:0' if torch.cuda.is_available() else 'cpu')\n",
    "\n",
    "print(device)"
   ]
  },
  {
   "cell_type": "code",
   "execution_count": 2,
   "outputs": [],
   "source": [
    "# import package\n",
    "\n",
    "# model\n",
    "import torch\n",
    "import torch.nn as nn\n",
    "import torch.nn.functional as F\n",
    "from torchsummary import summary\n",
    "from torch import optim\n",
    "from torch.optim.lr_scheduler import StepLR\n",
    "\n",
    "# dataset and transformation\n",
    "from torchvision import datasets\n",
    "import torchvision.transforms as transforms\n",
    "from torch.utils.data import DataLoader\n",
    "import os\n",
    "from torchvision import models\n",
    "import torch.nn as nn\n",
    "import torch.nn.functional as F\n",
    "import torchvision\n",
    "\n",
    "# display images\n",
    "from torchvision import utils\n",
    "import matplotlib.pyplot as plt\n",
    "%matplotlib inline\n",
    "\n",
    "\n",
    "# utils\n",
    "import numpy as np\n",
    "from torchsummary import summary\n",
    "import time\n",
    "import copy\n",
    "\n",
    "import os\n",
    "from tqdm.notebook import tqdm\n",
    "from warnings import filterwarnings\n",
    "filterwarnings('ignore')\n",
    "\n",
    "import torch\n",
    "from torch import nn, optim\n",
    "from torch.backends import cudnn\n",
    "cudnn.benchmark = True\n",
    "from randaugment import RandAugment, ImageNetPolicy"
   ],
   "metadata": {
    "collapsed": false,
    "ExecuteTime": {
     "end_time": "2023-10-26T11:19:07.964414800Z",
     "start_time": "2023-10-26T11:19:05.811918Z"
    }
   },
   "id": "db12b97a04b1d87c"
  },
  {
   "cell_type": "code",
   "execution_count": 3,
   "outputs": [],
   "source": [
    "def display_images():\n",
    "    fig, subplots = plt.subplots(1,5, figsize=(13,6))\n",
    "    for i in range(5):\n",
    "        axil = subplots.flat[i]\n",
    "        original_img = Image.fromarray(cifar10.data[i])\n",
    "        axil.imshow(original_img)\n",
    "        axil.set_title('original_img')"
   ],
   "metadata": {
    "collapsed": false,
    "ExecuteTime": {
     "end_time": "2023-10-26T11:19:08.689137600Z",
     "start_time": "2023-10-26T11:19:08.671158800Z"
    }
   },
   "id": "fd1b88330cd6a5c7"
  },
  {
   "cell_type": "code",
   "execution_count": 4,
   "outputs": [],
   "source": [
    "import os\n",
    "os.environ['KMP_DUPLICATE_LIB_OK']='True'"
   ],
   "metadata": {
    "collapsed": false,
    "ExecuteTime": {
     "end_time": "2023-10-26T11:19:09.175807700Z",
     "start_time": "2023-10-26T11:19:09.136912900Z"
    }
   },
   "id": "1dafd83c95386566"
  },
  {
   "cell_type": "code",
   "execution_count": 5,
   "outputs": [],
   "source": [
    "# 데이터셋의 루트 디렉터리와 이미지 폴더를 지정합니다.\n",
    "root_dir = '../data/'  # 데이터셋의 루트 디렉터리 경로\n",
    "train_folder = 'kfood_train/train'  # 이미지가 있는 폴더의 이름\n",
    "val_folder = 'kfood_val/val'  # 이미지가 있는 폴더의 이름"
   ],
   "metadata": {
    "collapsed": false,
    "ExecuteTime": {
     "end_time": "2023-10-26T11:19:09.521359600Z",
     "start_time": "2023-10-26T11:19:09.496395700Z"
    }
   },
   "id": "4345067e3723576d"
  },
  {
   "cell_type": "code",
   "execution_count": 6,
   "outputs": [],
   "source": [
    "# 이미지 전처리를 위한 변환(transform)을 정의합니다.\n",
    "transform = transforms.Compose([\n",
    "    transforms.Resize((244, 244)),  # 이미지 크기를 조절합니다.\n",
    "    transforms.ToTensor(),  # 이미지를 Tensor로 변환합니다.\n",
    "])"
   ],
   "metadata": {
    "collapsed": false,
    "ExecuteTime": {
     "end_time": "2023-10-26T11:19:09.988890100Z",
     "start_time": "2023-10-26T11:19:09.958971400Z"
    }
   },
   "id": "371045b46cee9438"
  },
  {
   "cell_type": "code",
   "execution_count": 7,
   "outputs": [],
   "source": [
    "# 데이터셋을 불러옵니다.\n",
    "train_ds = torchvision.datasets.ImageFolder(\n",
    "    root=root_dir + train_folder,\n",
    "    transform=transform\n",
    ")"
   ],
   "metadata": {
    "collapsed": false,
    "ExecuteTime": {
     "end_time": "2023-10-26T11:19:10.687691800Z",
     "start_time": "2023-10-26T11:19:10.434697300Z"
    }
   },
   "id": "ee8bee522679d7bc"
  },
  {
   "cell_type": "code",
   "execution_count": 8,
   "outputs": [],
   "source": [
    "# 데이터셋을 불러옵니다.\n",
    "val_ds = torchvision.datasets.ImageFolder(\n",
    "    root=root_dir + val_folder,\n",
    "    transform=transform\n",
    ")"
   ],
   "metadata": {
    "collapsed": false,
    "ExecuteTime": {
     "end_time": "2023-10-26T11:19:10.845761100Z",
     "start_time": "2023-10-26T11:19:10.763019100Z"
    }
   },
   "id": "25fc01d3c03f53df"
  },
  {
   "cell_type": "code",
   "execution_count": 9,
   "outputs": [
    {
     "name": "stdout",
     "output_type": "stream",
     "text": [
      "33593\n"
     ]
    }
   ],
   "source": [
    "print(len(train_ds))"
   ],
   "metadata": {
    "collapsed": false,
    "ExecuteTime": {
     "end_time": "2023-10-26T11:19:11.213750900Z",
     "start_time": "2023-10-26T11:19:11.190811100Z"
    }
   },
   "id": "39666c9ea5c7481c"
  },
  {
   "cell_type": "code",
   "execution_count": 10,
   "outputs": [
    {
     "name": "stdout",
     "output_type": "stream",
     "text": [
      "4198\n"
     ]
    }
   ],
   "source": [
    "print(len(val_ds))"
   ],
   "metadata": {
    "collapsed": false,
    "ExecuteTime": {
     "end_time": "2023-10-26T11:19:11.611685200Z",
     "start_time": "2023-10-26T11:19:11.578772600Z"
    }
   },
   "id": "4a136f4bfc2a0c90"
  },
  {
   "cell_type": "code",
   "execution_count": 11,
   "outputs": [],
   "source": [
    "# # To normalize the dataset, calculate the mean and std\n",
    "# train_meanRGB = [np.mean(x.numpy(), axis=(1,2)) for x, _ in train_ds]\n",
    "# train_stdRGB = [np.std(x.numpy(), axis=(1,2)) for x, _ in train_ds]\n",
    "# \n",
    "# train_meanR = np.mean([m[0] for m in train_meanRGB])\n",
    "# train_meanG = np.mean([m[1] for m in train_meanRGB])\n",
    "# train_meanB = np.mean([m[2] for m in train_meanRGB])\n",
    "# train_stdR = np.mean([s[0] for s in train_stdRGB])\n",
    "# train_stdG = np.mean([s[1] for s in train_stdRGB])\n",
    "# train_stdB = np.mean([s[2] for s in train_stdRGB])\n",
    "# \n",
    "# val_meanRGB = [np.mean(x.numpy(), axis=(1,2)) for x, _ in val_ds]\n",
    "# val_stdRGB = [np.std(x.numpy(), axis=(1,2)) for x, _ in val_ds]\n",
    "# \n",
    "# val_meanR = np.mean([m[0] for m in val_meanRGB])\n",
    "# val_meanG = np.mean([m[1] for m in val_meanRGB])\n",
    "# val_meanB = np.mean([m[2] for m in val_meanRGB])\n",
    "# \n",
    "# val_stdR = np.mean([s[0] for s in val_stdRGB])\n",
    "# val_stdG = np.mean([s[1] for s in val_stdRGB])\n",
    "# val_stdB = np.mean([s[2] for s in val_stdRGB])\n",
    "# \n",
    "# print(train_meanR, train_meanG, train_meanB)\n",
    "# print(val_meanR, val_meanG, val_meanB)"
   ],
   "metadata": {
    "collapsed": false,
    "ExecuteTime": {
     "end_time": "2023-10-26T11:19:11.962160100Z",
     "start_time": "2023-10-26T11:19:11.942212400Z"
    }
   },
   "id": "31660e0c08ada3b1"
  },
  {
   "cell_type": "code",
   "execution_count": 12,
   "outputs": [
    {
     "ename": "NameError",
     "evalue": "name 'train_meanR' is not defined",
     "output_type": "error",
     "traceback": [
      "\u001B[1;31m---------------------------------------------------------------------------\u001B[0m",
      "\u001B[1;31mNameError\u001B[0m                                 Traceback (most recent call last)",
      "Cell \u001B[1;32mIn[12], line 1\u001B[0m\n\u001B[1;32m----> 1\u001B[0m \u001B[38;5;28mprint\u001B[39m(\u001B[43mtrain_meanR\u001B[49m, train_meanG, train_meanB)\n\u001B[0;32m      2\u001B[0m \u001B[38;5;28mprint\u001B[39m(val_meanR, val_meanG, val_meanB)\n\u001B[0;32m      3\u001B[0m \u001B[38;5;28mprint\u001B[39m(train_stdR,train_stdG ,train_stdB)\n",
      "\u001B[1;31mNameError\u001B[0m: name 'train_meanR' is not defined"
     ]
    }
   ],
   "source": [
    "# print(train_meanR, train_meanG, train_meanB)\n",
    "# print(val_meanR, val_meanG, val_meanB)\n",
    "# print(train_stdR,train_stdG ,train_stdB)\n",
    "# print(val_stdR,val_stdG,val_stdB)"
   ],
   "metadata": {
    "collapsed": false,
    "ExecuteTime": {
     "end_time": "2023-10-26T11:19:13.918119900Z",
     "start_time": "2023-10-26T11:19:12.486755700Z"
    }
   },
   "id": "a6a62898d41ac27d"
  },
  {
   "cell_type": "code",
   "execution_count": 13,
   "outputs": [],
   "source": [
    "train_meanR=0.58394545\n",
    "train_meanG=0.51387334\n",
    "train_meanB=0.42269564\n",
    "val_meanR=0.58470017\n",
    "val_meanG=0.51500267\n",
    "val_meanB=0.4244054\n",
    "train_stdR=0.22759153\n",
    "train_stdG=0.23792826\n",
    "train_stdB=0.25431448\n",
    "val_stdR=0.22711068\n",
    "val_stdG=0.2372811\n",
    "val_stdB=0.25347996"
   ],
   "metadata": {
    "collapsed": false,
    "ExecuteTime": {
     "end_time": "2023-10-26T11:19:17.941934500Z",
     "start_time": "2023-10-26T11:19:17.873118400Z"
    }
   },
   "id": "cc4c035d4722532c"
  },
  {
   "cell_type": "code",
   "execution_count": 14,
   "outputs": [],
   "source": [
    "# train_meanR=0.91402346\n",
    "# train_meanG=1.0215707\n",
    "# train_meanB=-1.1350155\n",
    "# val_meanR=0.9156754\n",
    "# val_meanG=1.023939\n",
    "# val_meanB=-1.138371\n",
    "# train_stdR=0.50687706\n",
    "# train_stdG=0.5069017\n",
    "# train_stdB=0.5066239\n",
    "# val_stdR=0.5059219\n",
    "# val_stdG=0.5056665\n",
    "# val_stdB=0.50509274"
   ],
   "metadata": {
    "collapsed": false,
    "ExecuteTime": {
     "end_time": "2023-10-26T11:19:18.758973200Z",
     "start_time": "2023-10-26T11:19:18.736034700Z"
    }
   },
   "id": "ffe6218df00b9d6f"
  },
  {
   "cell_type": "code",
   "execution_count": 15,
   "outputs": [],
   "source": [
    "# train_meanR=0.5\n",
    "# train_meanG=0.5\n",
    "# train_meanB=0.5\n",
    "# val_meanR=0.5\n",
    "# val_meanG=0.5\n",
    "# val_meanB=0.5\n",
    "# train_stdR=0.5\n",
    "# train_stdG=0.5\n",
    "# train_stdB=0.5\n",
    "# val_stdR=0.5\n",
    "# val_stdG=0.5\n",
    "# val_stdB=0.5"
   ],
   "metadata": {
    "collapsed": false,
    "ExecuteTime": {
     "end_time": "2023-10-26T11:19:18.991368100Z",
     "start_time": "2023-10-26T11:19:18.962446300Z"
    }
   },
   "id": "4418991cbebdebff"
  },
  {
   "cell_type": "code",
   "execution_count": 16,
   "outputs": [],
   "source": [
    "# define the image transformation\n",
    "train_transformation = transforms.Compose([\n",
    "    RandAugment(),\n",
    "    transforms.ToTensor(),\n",
    "    transforms.Resize((224,224)),\n",
    "    transforms.Normalize([train_meanR, train_meanG, train_meanB],[train_stdR, train_stdG, train_stdB]),\n",
    "    transforms.RandomHorizontalFlip(),\n",
    "    \n",
    "])\n",
    "\n",
    "val_transformation = transforms.Compose([\n",
    "    transforms.ToTensor(),\n",
    "    transforms.Resize((224,224)),\n",
    "    transforms.Normalize([train_meanR, train_meanG, train_meanB],[train_stdR, train_stdG, train_stdB]),\n",
    "])"
   ],
   "metadata": {
    "collapsed": false,
    "ExecuteTime": {
     "end_time": "2023-10-26T11:19:21.341792900Z",
     "start_time": "2023-10-26T11:19:21.322843800Z"
    }
   },
   "id": "e36a046eb17b1257"
  },
  {
   "cell_type": "code",
   "execution_count": 17,
   "outputs": [],
   "source": [
    "# apply transforamtion\n",
    "train_ds.transform = train_transformation\n",
    "val_ds.transform = val_transformation\n",
    "\n",
    "# create DataLoader\n",
    "train_dl = DataLoader(train_ds, batch_size=32, shuffle=True)\n",
    "val_dl = DataLoader(val_ds, batch_size=32, shuffle=False)"
   ],
   "metadata": {
    "collapsed": false,
    "ExecuteTime": {
     "end_time": "2023-10-26T11:19:23.370403400Z",
     "start_time": "2023-10-26T11:19:23.351455Z"
    }
   },
   "id": "cba71615be3fe69d"
  },
  {
   "cell_type": "code",
   "execution_count": 18,
   "outputs": [
    {
     "name": "stderr",
     "output_type": "stream",
     "text": [
      "Clipping input data to the valid range for imshow with RGB data ([0..1] for floats or [0..255] for integers).\n"
     ]
    },
    {
     "name": "stdout",
     "output_type": "stream",
     "text": [
      "image indices: [33003 12172  5192 32511]\n"
     ]
    },
    {
     "data": {
      "text/plain": "<Figure size 640x480 with 1 Axes>",
      "image/png": "[encoded data removed]"
     },
     "metadata": {},
     "output_type": "display_data"
    }
   ],
   "source": [
    "# display sample images \n",
    "def show(img, y=None, color=True):\n",
    "    npimg = img.numpy()\n",
    "    npimg_tr = np.transpose(npimg, (1,2,0))\n",
    "    plt.imshow(npimg_tr)\n",
    "\n",
    "    if y is not None:\n",
    "        plt.title('labels :' + str(y))\n",
    "\n",
    "np.random.seed(1)\n",
    "torch.manual_seed(1)\n",
    "\n",
    "grid_size = 4\n",
    "rnd_inds = np.random.randint(0, len(train_ds), grid_size)\n",
    "print('image indices:',rnd_inds)\n",
    "\n",
    "x_grid = [train_ds[i][0] for i in rnd_inds]\n",
    "y_grid = [train_ds[i][1] for i in rnd_inds]\n",
    "\n",
    "x_grid = utils.make_grid(x_grid, nrow=grid_size, padding=2)\n",
    "\n",
    "show(x_grid, y_grid)"
   ],
   "metadata": {
    "collapsed": false,
    "ExecuteTime": {
     "end_time": "2023-10-26T11:19:24.723010400Z",
     "start_time": "2023-10-26T11:19:24.260338500Z"
    }
   },
   "id": "1a83ac8a48ee7b3e"
  },
  {
   "cell_type": "code",
   "execution_count": 19,
   "outputs": [],
   "source": [
    "class BasicBlock(nn.Module):\n",
    "    expansion = 1\n",
    "    def __init__(self, in_channels, out_channels, stride=1):\n",
    "        super().__init__()\n",
    "\n",
    "        # BatchNorm에 bias가 포함되어 있으므로, conv2d는 bias=False로 설정합니다.\n",
    "        self.residual_function = nn.Sequential(\n",
    "            nn.Conv2d(in_channels, out_channels, kernel_size=3, stride=stride, padding=1, bias=False),\n",
    "            nn.BatchNorm2d(out_channels),\n",
    "            nn.ReLU(),\n",
    "            nn.Conv2d(out_channels, out_channels * BasicBlock.expansion, kernel_size=3, stride=1, padding=1, bias=False),\n",
    "            nn.BatchNorm2d(out_channels * BasicBlock.expansion),\n",
    "        )\n",
    "\n",
    "        # identity mapping, input과 output의 feature map size, filter 수가 동일한 경우 사용.\n",
    "        self.shortcut = nn.Sequential()\n",
    "\n",
    "        self.relu = nn.ReLU()\n",
    "\n",
    "        # projection mapping using 1x1conv\n",
    "        if stride != 1 or in_channels != BasicBlock.expansion * out_channels:\n",
    "            self.shortcut = nn.Sequential(\n",
    "                nn.Conv2d(in_channels, out_channels * BasicBlock.expansion, kernel_size=1, stride=stride, bias=False),\n",
    "                nn.BatchNorm2d(out_channels * BasicBlock.expansion)\n",
    "            )\n",
    "\n",
    "    def forward(self, x):\n",
    "        x = self.residual_function(x) + self.shortcut(x)\n",
    "        x = self.relu(x)\n",
    "        return x\n",
    "\n",
    "\n",
    "class BottleNeck(nn.Module):\n",
    "    expansion = 4\n",
    "    def __init__(self, in_channels, out_channels, stride=1):\n",
    "        super().__init__()\n",
    "\n",
    "        self.residual_function = nn.Sequential(\n",
    "            nn.Conv2d(in_channels, out_channels, kernel_size=1, stride=1, bias=False),\n",
    "            nn.BatchNorm2d(out_channels),\n",
    "            nn.ReLU(),\n",
    "            nn.Conv2d(out_channels, out_channels, kernel_size=3, stride=stride, padding=1, bias=False),\n",
    "            nn.BatchNorm2d(out_channels),\n",
    "            nn.ReLU(),\n",
    "            nn.Conv2d(out_channels, out_channels * BottleNeck.expansion, kernel_size=1, stride=1, bias=False),\n",
    "            nn.BatchNorm2d(out_channels * BottleNeck.expansion),\n",
    "        )\n",
    "\n",
    "        self.shortcut = nn.Sequential()\n",
    "\n",
    "        self.relu = nn.ReLU()\n",
    "\n",
    "        if stride != 1 or in_channels != out_channels * BottleNeck.expansion:\n",
    "            self.shortcut = nn.Sequential(\n",
    "                nn.Conv2d(in_channels, out_channels*BottleNeck.expansion, kernel_size=1, stride=stride, bias=False),\n",
    "                nn.BatchNorm2d(out_channels*BottleNeck.expansion)\n",
    "            )\n",
    "\n",
    "    def forward(self, x):\n",
    "        x = self.residual_function(x) + self.shortcut(x)\n",
    "        x = self.relu(x)\n",
    "        return x"
   ],
   "metadata": {
    "collapsed": false,
    "ExecuteTime": {
     "end_time": "2023-10-26T11:19:25.781999400Z",
     "start_time": "2023-10-26T11:19:25.754075200Z"
    }
   },
   "id": "dde43a71ae047551"
  },
  {
   "cell_type": "code",
   "execution_count": 20,
   "outputs": [],
   "source": [
    "class ResNet(nn.Module):\n",
    "    def __init__(self, block, num_block, num_classes=10, init_weights=True):\n",
    "        super().__init__()\n",
    "\n",
    "        self.in_channels=64\n",
    "\n",
    "        self.conv1 = nn.Sequential(\n",
    "            nn.Conv2d(3, 64, kernel_size=7, stride=2, padding=3, bias=False),\n",
    "            nn.BatchNorm2d(64),\n",
    "            nn.ReLU(),\n",
    "            nn.MaxPool2d(kernel_size=3, stride=2, padding=1)\n",
    "        )\n",
    "\n",
    "        self.conv2_x = self._make_layer(block, 64, num_block[0], 1)\n",
    "        self.conv3_x = self._make_layer(block, 128, num_block[1], 2)\n",
    "        self.conv4_x = self._make_layer(block, 256, num_block[2], 2)\n",
    "        self.conv5_x = self._make_layer(block, 512, num_block[3], 2)\n",
    "\n",
    "        self.avg_pool = nn.AdaptiveAvgPool2d((1,1))\n",
    "        self.fc = nn.Linear(512 * block.expansion, num_classes)\n",
    "\n",
    "        # weights inittialization\n",
    "        if init_weights:\n",
    "            self._initialize_weights()\n",
    "\n",
    "    def _make_layer(self, block, out_channels, num_blocks, stride):\n",
    "        strides = [stride] + [1] * (num_blocks - 1)\n",
    "        layers = []\n",
    "        for stride in strides:\n",
    "            layers.append(block(self.in_channels, out_channels, stride))\n",
    "            self.in_channels = out_channels * block.expansion\n",
    "\n",
    "        return nn.Sequential(*layers)\n",
    "\n",
    "    def forward(self,x):\n",
    "        output = self.conv1(x)\n",
    "        output = self.conv2_x(output)\n",
    "        x = self.conv3_x(output)\n",
    "        x = self.conv4_x(x)\n",
    "        x = self.conv5_x(x)\n",
    "        x = self.avg_pool(x)\n",
    "        x = x.view(x.size(0), -1)\n",
    "        x = self.fc(x)\n",
    "        return x\n",
    "\n",
    "    # define weight initialization function\n",
    "    def _initialize_weights(self):\n",
    "        for m in self.modules():\n",
    "            if isinstance(m, nn.Conv2d):\n",
    "                nn.init.kaiming_normal_(m.weight, mode='fan_out', nonlinearity='relu')\n",
    "                if m.bias is not None:\n",
    "                    nn.init.constant_(m.bias, 0)\n",
    "            elif isinstance(m, nn.BatchNorm2d):\n",
    "                nn.init.constant_(m.weight, 1)\n",
    "                nn.init.constant_(m.bias, 0)\n",
    "            elif isinstance(m, nn.Linear):\n",
    "                nn.init.normal_(m.weight, 0, 0.01)\n",
    "                nn.init.constant_(m.bias, 0)\n",
    "\n",
    "def resnet18():\n",
    "    return ResNet(BasicBlock, [2,2,2,2])\n",
    "\n",
    "def resnet34():\n",
    "    return ResNet(BasicBlock, [3, 4, 6, 3])\n",
    "\n",
    "def resnet50():\n",
    "    return ResNet(BottleNeck, [3,4,6,3])\n",
    "\n",
    "def resnet101():\n",
    "    return ResNet(BottleNeck, [3, 4, 23, 3])\n",
    "\n",
    "def resnet152():\n",
    "    return ResNet(BottleNeck, [3, 8, 36, 3])"
   ],
   "metadata": {
    "collapsed": false,
    "ExecuteTime": {
     "end_time": "2023-10-26T11:19:26.939999100Z",
     "start_time": "2023-10-26T11:19:26.909661300Z"
    }
   },
   "id": "6ee17f0a54be7c6"
  },
  {
   "cell_type": "code",
   "execution_count": 21,
   "outputs": [
    {
     "name": "stdout",
     "output_type": "stream",
     "text": [
      "torch.Size([3, 10])\n"
     ]
    }
   ],
   "source": [
    "device = torch.device('cuda' if torch.cuda.is_available() else 'cpu')\n",
    "model = resnet101().to(device)\n",
    "x = torch.randn(3, 3, 224, 224).to(device)\n",
    "output = model(x)\n",
    "print(output.size())"
   ],
   "metadata": {
    "collapsed": false,
    "ExecuteTime": {
     "end_time": "2023-10-26T11:19:34.115200100Z",
     "start_time": "2023-10-26T11:19:29.379054200Z"
    }
   },
   "id": "b53bc01377baf8ee"
  },
  {
   "cell_type": "code",
   "execution_count": 22,
   "outputs": [],
   "source": [
    "fc_in_features = model.fc.in_features\n",
    "model.fc = nn.Linear(fc_in_features, 42)\n",
    "model = model.to(device)"
   ],
   "metadata": {
    "collapsed": false,
    "ExecuteTime": {
     "end_time": "2023-10-26T11:19:35.037262800Z",
     "start_time": "2023-10-26T11:19:35.001358Z"
    }
   },
   "id": "e35f795d6a43df36"
  },
  {
   "cell_type": "code",
   "execution_count": 23,
   "outputs": [
    {
     "data": {
      "text/plain": "<All keys matched successfully>"
     },
     "execution_count": 23,
     "metadata": {},
     "output_type": "execute_result"
    }
   ],
   "source": [
    "weight_path = '../weight/101_3_1.pth'\n",
    "# 가중치 로드\n",
    "model.load_state_dict(torch.load(weight_path))"
   ],
   "metadata": {
    "collapsed": false,
    "ExecuteTime": {
     "end_time": "2023-10-26T11:19:47.705078Z",
     "start_time": "2023-10-26T11:19:46.632101Z"
    }
   },
   "id": "102e698878ecc8b9"
  },
  {
   "cell_type": "code",
   "execution_count": 24,
   "outputs": [
    {
     "name": "stdout",
     "output_type": "stream",
     "text": [
      "----------------------------------------------------------------\n",
      "        Layer (type)               Output Shape         Param #\n",
      "================================================================\n",
      "            Conv2d-1         [-1, 64, 122, 122]           9,408\n",
      "       BatchNorm2d-2         [-1, 64, 122, 122]             128\n",
      "              ReLU-3         [-1, 64, 122, 122]               0\n",
      "         MaxPool2d-4           [-1, 64, 61, 61]               0\n",
      "            Conv2d-5           [-1, 64, 61, 61]           4,096\n",
      "       BatchNorm2d-6           [-1, 64, 61, 61]             128\n",
      "              ReLU-7           [-1, 64, 61, 61]               0\n",
      "            Conv2d-8           [-1, 64, 61, 61]          36,864\n",
      "       BatchNorm2d-9           [-1, 64, 61, 61]             128\n",
      "             ReLU-10           [-1, 64, 61, 61]               0\n",
      "           Conv2d-11          [-1, 256, 61, 61]          16,384\n",
      "      BatchNorm2d-12          [-1, 256, 61, 61]             512\n",
      "           Conv2d-13          [-1, 256, 61, 61]          16,384\n",
      "      BatchNorm2d-14          [-1, 256, 61, 61]             512\n",
      "             ReLU-15          [-1, 256, 61, 61]               0\n",
      "       BottleNeck-16          [-1, 256, 61, 61]               0\n",
      "           Conv2d-17           [-1, 64, 61, 61]          16,384\n",
      "      BatchNorm2d-18           [-1, 64, 61, 61]             128\n",
      "             ReLU-19           [-1, 64, 61, 61]               0\n",
      "           Conv2d-20           [-1, 64, 61, 61]          36,864\n",
      "      BatchNorm2d-21           [-1, 64, 61, 61]             128\n",
      "             ReLU-22           [-1, 64, 61, 61]               0\n",
      "           Conv2d-23          [-1, 256, 61, 61]          16,384\n",
      "      BatchNorm2d-24          [-1, 256, 61, 61]             512\n",
      "             ReLU-25          [-1, 256, 61, 61]               0\n",
      "       BottleNeck-26          [-1, 256, 61, 61]               0\n",
      "           Conv2d-27           [-1, 64, 61, 61]          16,384\n",
      "      BatchNorm2d-28           [-1, 64, 61, 61]             128\n",
      "             ReLU-29           [-1, 64, 61, 61]               0\n",
      "           Conv2d-30           [-1, 64, 61, 61]          36,864\n",
      "      BatchNorm2d-31           [-1, 64, 61, 61]             128\n",
      "             ReLU-32           [-1, 64, 61, 61]               0\n",
      "           Conv2d-33          [-1, 256, 61, 61]          16,384\n",
      "      BatchNorm2d-34          [-1, 256, 61, 61]             512\n",
      "             ReLU-35          [-1, 256, 61, 61]               0\n",
      "       BottleNeck-36          [-1, 256, 61, 61]               0\n",
      "           Conv2d-37          [-1, 128, 61, 61]          32,768\n",
      "      BatchNorm2d-38          [-1, 128, 61, 61]             256\n",
      "             ReLU-39          [-1, 128, 61, 61]               0\n",
      "           Conv2d-40          [-1, 128, 31, 31]         147,456\n",
      "      BatchNorm2d-41          [-1, 128, 31, 31]             256\n",
      "             ReLU-42          [-1, 128, 31, 31]               0\n",
      "           Conv2d-43          [-1, 512, 31, 31]          65,536\n",
      "      BatchNorm2d-44          [-1, 512, 31, 31]           1,024\n",
      "           Conv2d-45          [-1, 512, 31, 31]         131,072\n",
      "      BatchNorm2d-46          [-1, 512, 31, 31]           1,024\n",
      "             ReLU-47          [-1, 512, 31, 31]               0\n",
      "       BottleNeck-48          [-1, 512, 31, 31]               0\n",
      "           Conv2d-49          [-1, 128, 31, 31]          65,536\n",
      "      BatchNorm2d-50          [-1, 128, 31, 31]             256\n",
      "             ReLU-51          [-1, 128, 31, 31]               0\n",
      "           Conv2d-52          [-1, 128, 31, 31]         147,456\n",
      "      BatchNorm2d-53          [-1, 128, 31, 31]             256\n",
      "             ReLU-54          [-1, 128, 31, 31]               0\n",
      "           Conv2d-55          [-1, 512, 31, 31]          65,536\n",
      "      BatchNorm2d-56          [-1, 512, 31, 31]           1,024\n",
      "             ReLU-57          [-1, 512, 31, 31]               0\n",
      "       BottleNeck-58          [-1, 512, 31, 31]               0\n",
      "           Conv2d-59          [-1, 128, 31, 31]          65,536\n",
      "      BatchNorm2d-60          [-1, 128, 31, 31]             256\n",
      "             ReLU-61          [-1, 128, 31, 31]               0\n",
      "           Conv2d-62          [-1, 128, 31, 31]         147,456\n",
      "      BatchNorm2d-63          [-1, 128, 31, 31]             256\n",
      "             ReLU-64          [-1, 128, 31, 31]               0\n",
      "           Conv2d-65          [-1, 512, 31, 31]          65,536\n",
      "      BatchNorm2d-66          [-1, 512, 31, 31]           1,024\n",
      "             ReLU-67          [-1, 512, 31, 31]               0\n",
      "       BottleNeck-68          [-1, 512, 31, 31]               0\n",
      "           Conv2d-69          [-1, 128, 31, 31]          65,536\n",
      "      BatchNorm2d-70          [-1, 128, 31, 31]             256\n",
      "             ReLU-71          [-1, 128, 31, 31]               0\n",
      "           Conv2d-72          [-1, 128, 31, 31]         147,456\n",
      "      BatchNorm2d-73          [-1, 128, 31, 31]             256\n",
      "             ReLU-74          [-1, 128, 31, 31]               0\n",
      "           Conv2d-75          [-1, 512, 31, 31]          65,536\n",
      "      BatchNorm2d-76          [-1, 512, 31, 31]           1,024\n",
      "             ReLU-77          [-1, 512, 31, 31]               0\n",
      "       BottleNeck-78          [-1, 512, 31, 31]               0\n",
      "           Conv2d-79          [-1, 256, 31, 31]         131,072\n",
      "      BatchNorm2d-80          [-1, 256, 31, 31]             512\n",
      "             ReLU-81          [-1, 256, 31, 31]               0\n",
      "           Conv2d-82          [-1, 256, 16, 16]         589,824\n",
      "      BatchNorm2d-83          [-1, 256, 16, 16]             512\n",
      "             ReLU-84          [-1, 256, 16, 16]               0\n",
      "           Conv2d-85         [-1, 1024, 16, 16]         262,144\n",
      "      BatchNorm2d-86         [-1, 1024, 16, 16]           2,048\n",
      "           Conv2d-87         [-1, 1024, 16, 16]         524,288\n",
      "      BatchNorm2d-88         [-1, 1024, 16, 16]           2,048\n",
      "             ReLU-89         [-1, 1024, 16, 16]               0\n",
      "       BottleNeck-90         [-1, 1024, 16, 16]               0\n",
      "           Conv2d-91          [-1, 256, 16, 16]         262,144\n",
      "      BatchNorm2d-92          [-1, 256, 16, 16]             512\n",
      "             ReLU-93          [-1, 256, 16, 16]               0\n",
      "           Conv2d-94          [-1, 256, 16, 16]         589,824\n",
      "      BatchNorm2d-95          [-1, 256, 16, 16]             512\n",
      "             ReLU-96          [-1, 256, 16, 16]               0\n",
      "           Conv2d-97         [-1, 1024, 16, 16]         262,144\n",
      "      BatchNorm2d-98         [-1, 1024, 16, 16]           2,048\n",
      "             ReLU-99         [-1, 1024, 16, 16]               0\n",
      "      BottleNeck-100         [-1, 1024, 16, 16]               0\n",
      "          Conv2d-101          [-1, 256, 16, 16]         262,144\n",
      "     BatchNorm2d-102          [-1, 256, 16, 16]             512\n",
      "            ReLU-103          [-1, 256, 16, 16]               0\n",
      "          Conv2d-104          [-1, 256, 16, 16]         589,824\n",
      "     BatchNorm2d-105          [-1, 256, 16, 16]             512\n",
      "            ReLU-106          [-1, 256, 16, 16]               0\n",
      "          Conv2d-107         [-1, 1024, 16, 16]         262,144\n",
      "     BatchNorm2d-108         [-1, 1024, 16, 16]           2,048\n",
      "            ReLU-109         [-1, 1024, 16, 16]               0\n",
      "      BottleNeck-110         [-1, 1024, 16, 16]               0\n",
      "          Conv2d-111          [-1, 256, 16, 16]         262,144\n",
      "     BatchNorm2d-112          [-1, 256, 16, 16]             512\n",
      "            ReLU-113          [-1, 256, 16, 16]               0\n",
      "          Conv2d-114          [-1, 256, 16, 16]         589,824\n",
      "     BatchNorm2d-115          [-1, 256, 16, 16]             512\n",
      "            ReLU-116          [-1, 256, 16, 16]               0\n",
      "          Conv2d-117         [-1, 1024, 16, 16]         262,144\n",
      "     BatchNorm2d-118         [-1, 1024, 16, 16]           2,048\n",
      "            ReLU-119         [-1, 1024, 16, 16]               0\n",
      "      BottleNeck-120         [-1, 1024, 16, 16]               0\n",
      "          Conv2d-121          [-1, 256, 16, 16]         262,144\n",
      "     BatchNorm2d-122          [-1, 256, 16, 16]             512\n",
      "            ReLU-123          [-1, 256, 16, 16]               0\n",
      "          Conv2d-124          [-1, 256, 16, 16]         589,824\n",
      "     BatchNorm2d-125          [-1, 256, 16, 16]             512\n",
      "            ReLU-126          [-1, 256, 16, 16]               0\n",
      "          Conv2d-127         [-1, 1024, 16, 16]         262,144\n",
      "     BatchNorm2d-128         [-1, 1024, 16, 16]           2,048\n",
      "            ReLU-129         [-1, 1024, 16, 16]               0\n",
      "      BottleNeck-130         [-1, 1024, 16, 16]               0\n",
      "          Conv2d-131          [-1, 256, 16, 16]         262,144\n",
      "     BatchNorm2d-132          [-1, 256, 16, 16]             512\n",
      "            ReLU-133          [-1, 256, 16, 16]               0\n",
      "          Conv2d-134          [-1, 256, 16, 16]         589,824\n",
      "     BatchNorm2d-135          [-1, 256, 16, 16]             512\n",
      "            ReLU-136          [-1, 256, 16, 16]               0\n",
      "          Conv2d-137         [-1, 1024, 16, 16]         262,144\n",
      "     BatchNorm2d-138         [-1, 1024, 16, 16]           2,048\n",
      "            ReLU-139         [-1, 1024, 16, 16]               0\n",
      "      BottleNeck-140         [-1, 1024, 16, 16]               0\n",
      "          Conv2d-141          [-1, 256, 16, 16]         262,144\n",
      "     BatchNorm2d-142          [-1, 256, 16, 16]             512\n",
      "            ReLU-143          [-1, 256, 16, 16]               0\n",
      "          Conv2d-144          [-1, 256, 16, 16]         589,824\n",
      "     BatchNorm2d-145          [-1, 256, 16, 16]             512\n",
      "            ReLU-146          [-1, 256, 16, 16]               0\n",
      "          Conv2d-147         [-1, 1024, 16, 16]         262,144\n",
      "     BatchNorm2d-148         [-1, 1024, 16, 16]           2,048\n",
      "            ReLU-149         [-1, 1024, 16, 16]               0\n",
      "      BottleNeck-150         [-1, 1024, 16, 16]               0\n",
      "          Conv2d-151          [-1, 256, 16, 16]         262,144\n",
      "     BatchNorm2d-152          [-1, 256, 16, 16]             512\n",
      "            ReLU-153          [-1, 256, 16, 16]               0\n",
      "          Conv2d-154          [-1, 256, 16, 16]         589,824\n",
      "     BatchNorm2d-155          [-1, 256, 16, 16]             512\n",
      "            ReLU-156          [-1, 256, 16, 16]               0\n",
      "          Conv2d-157         [-1, 1024, 16, 16]         262,144\n",
      "     BatchNorm2d-158         [-1, 1024, 16, 16]           2,048\n",
      "            ReLU-159         [-1, 1024, 16, 16]               0\n",
      "      BottleNeck-160         [-1, 1024, 16, 16]               0\n",
      "          Conv2d-161          [-1, 256, 16, 16]         262,144\n",
      "     BatchNorm2d-162          [-1, 256, 16, 16]             512\n",
      "            ReLU-163          [-1, 256, 16, 16]               0\n",
      "          Conv2d-164          [-1, 256, 16, 16]         589,824\n",
      "     BatchNorm2d-165          [-1, 256, 16, 16]             512\n",
      "            ReLU-166          [-1, 256, 16, 16]               0\n",
      "          Conv2d-167         [-1, 1024, 16, 16]         262,144\n",
      "     BatchNorm2d-168         [-1, 1024, 16, 16]           2,048\n",
      "            ReLU-169         [-1, 1024, 16, 16]               0\n",
      "      BottleNeck-170         [-1, 1024, 16, 16]               0\n",
      "          Conv2d-171          [-1, 256, 16, 16]         262,144\n",
      "     BatchNorm2d-172          [-1, 256, 16, 16]             512\n",
      "            ReLU-173          [-1, 256, 16, 16]               0\n",
      "          Conv2d-174          [-1, 256, 16, 16]         589,824\n",
      "     BatchNorm2d-175          [-1, 256, 16, 16]             512\n",
      "            ReLU-176          [-1, 256, 16, 16]               0\n",
      "          Conv2d-177         [-1, 1024, 16, 16]         262,144\n",
      "     BatchNorm2d-178         [-1, 1024, 16, 16]           2,048\n",
      "            ReLU-179         [-1, 1024, 16, 16]               0\n",
      "      BottleNeck-180         [-1, 1024, 16, 16]               0\n",
      "          Conv2d-181          [-1, 256, 16, 16]         262,144\n",
      "     BatchNorm2d-182          [-1, 256, 16, 16]             512\n",
      "            ReLU-183          [-1, 256, 16, 16]               0\n",
      "          Conv2d-184          [-1, 256, 16, 16]         589,824\n",
      "     BatchNorm2d-185          [-1, 256, 16, 16]             512\n",
      "            ReLU-186          [-1, 256, 16, 16]               0\n",
      "          Conv2d-187         [-1, 1024, 16, 16]         262,144\n",
      "     BatchNorm2d-188         [-1, 1024, 16, 16]           2,048\n",
      "            ReLU-189         [-1, 1024, 16, 16]               0\n",
      "      BottleNeck-190         [-1, 1024, 16, 16]               0\n",
      "          Conv2d-191          [-1, 256, 16, 16]         262,144\n",
      "     BatchNorm2d-192          [-1, 256, 16, 16]             512\n",
      "            ReLU-193          [-1, 256, 16, 16]               0\n",
      "          Conv2d-194          [-1, 256, 16, 16]         589,824\n",
      "     BatchNorm2d-195          [-1, 256, 16, 16]             512\n",
      "            ReLU-196          [-1, 256, 16, 16]               0\n",
      "          Conv2d-197         [-1, 1024, 16, 16]         262,144\n",
      "     BatchNorm2d-198         [-1, 1024, 16, 16]           2,048\n",
      "            ReLU-199         [-1, 1024, 16, 16]               0\n",
      "      BottleNeck-200         [-1, 1024, 16, 16]               0\n",
      "          Conv2d-201          [-1, 256, 16, 16]         262,144\n",
      "     BatchNorm2d-202          [-1, 256, 16, 16]             512\n",
      "            ReLU-203          [-1, 256, 16, 16]               0\n",
      "          Conv2d-204          [-1, 256, 16, 16]         589,824\n",
      "     BatchNorm2d-205          [-1, 256, 16, 16]             512\n",
      "            ReLU-206          [-1, 256, 16, 16]               0\n",
      "          Conv2d-207         [-1, 1024, 16, 16]         262,144\n",
      "     BatchNorm2d-208         [-1, 1024, 16, 16]           2,048\n",
      "            ReLU-209         [-1, 1024, 16, 16]               0\n",
      "      BottleNeck-210         [-1, 1024, 16, 16]               0\n",
      "          Conv2d-211          [-1, 256, 16, 16]         262,144\n",
      "     BatchNorm2d-212          [-1, 256, 16, 16]             512\n",
      "            ReLU-213          [-1, 256, 16, 16]               0\n",
      "          Conv2d-214          [-1, 256, 16, 16]         589,824\n",
      "     BatchNorm2d-215          [-1, 256, 16, 16]             512\n",
      "            ReLU-216          [-1, 256, 16, 16]               0\n",
      "          Conv2d-217         [-1, 1024, 16, 16]         262,144\n",
      "     BatchNorm2d-218         [-1, 1024, 16, 16]           2,048\n",
      "            ReLU-219         [-1, 1024, 16, 16]               0\n",
      "      BottleNeck-220         [-1, 1024, 16, 16]               0\n",
      "          Conv2d-221          [-1, 256, 16, 16]         262,144\n",
      "     BatchNorm2d-222          [-1, 256, 16, 16]             512\n",
      "            ReLU-223          [-1, 256, 16, 16]               0\n",
      "          Conv2d-224          [-1, 256, 16, 16]         589,824\n",
      "     BatchNorm2d-225          [-1, 256, 16, 16]             512\n",
      "            ReLU-226          [-1, 256, 16, 16]               0\n",
      "          Conv2d-227         [-1, 1024, 16, 16]         262,144\n",
      "     BatchNorm2d-228         [-1, 1024, 16, 16]           2,048\n",
      "            ReLU-229         [-1, 1024, 16, 16]               0\n",
      "      BottleNeck-230         [-1, 1024, 16, 16]               0\n",
      "          Conv2d-231          [-1, 256, 16, 16]         262,144\n",
      "     BatchNorm2d-232          [-1, 256, 16, 16]             512\n",
      "            ReLU-233          [-1, 256, 16, 16]               0\n",
      "          Conv2d-234          [-1, 256, 16, 16]         589,824\n",
      "     BatchNorm2d-235          [-1, 256, 16, 16]             512\n",
      "            ReLU-236          [-1, 256, 16, 16]               0\n",
      "          Conv2d-237         [-1, 1024, 16, 16]         262,144\n",
      "     BatchNorm2d-238         [-1, 1024, 16, 16]           2,048\n",
      "            ReLU-239         [-1, 1024, 16, 16]               0\n",
      "      BottleNeck-240         [-1, 1024, 16, 16]               0\n",
      "          Conv2d-241          [-1, 256, 16, 16]         262,144\n",
      "     BatchNorm2d-242          [-1, 256, 16, 16]             512\n",
      "            ReLU-243          [-1, 256, 16, 16]               0\n",
      "          Conv2d-244          [-1, 256, 16, 16]         589,824\n",
      "     BatchNorm2d-245          [-1, 256, 16, 16]             512\n",
      "            ReLU-246          [-1, 256, 16, 16]               0\n",
      "          Conv2d-247         [-1, 1024, 16, 16]         262,144\n",
      "     BatchNorm2d-248         [-1, 1024, 16, 16]           2,048\n",
      "            ReLU-249         [-1, 1024, 16, 16]               0\n",
      "      BottleNeck-250         [-1, 1024, 16, 16]               0\n",
      "          Conv2d-251          [-1, 256, 16, 16]         262,144\n",
      "     BatchNorm2d-252          [-1, 256, 16, 16]             512\n",
      "            ReLU-253          [-1, 256, 16, 16]               0\n",
      "          Conv2d-254          [-1, 256, 16, 16]         589,824\n",
      "     BatchNorm2d-255          [-1, 256, 16, 16]             512\n",
      "            ReLU-256          [-1, 256, 16, 16]               0\n",
      "          Conv2d-257         [-1, 1024, 16, 16]         262,144\n",
      "     BatchNorm2d-258         [-1, 1024, 16, 16]           2,048\n",
      "            ReLU-259         [-1, 1024, 16, 16]               0\n",
      "      BottleNeck-260         [-1, 1024, 16, 16]               0\n",
      "          Conv2d-261          [-1, 256, 16, 16]         262,144\n",
      "     BatchNorm2d-262          [-1, 256, 16, 16]             512\n",
      "            ReLU-263          [-1, 256, 16, 16]               0\n",
      "          Conv2d-264          [-1, 256, 16, 16]         589,824\n",
      "     BatchNorm2d-265          [-1, 256, 16, 16]             512\n",
      "            ReLU-266          [-1, 256, 16, 16]               0\n",
      "          Conv2d-267         [-1, 1024, 16, 16]         262,144\n",
      "     BatchNorm2d-268         [-1, 1024, 16, 16]           2,048\n",
      "            ReLU-269         [-1, 1024, 16, 16]               0\n",
      "      BottleNeck-270         [-1, 1024, 16, 16]               0\n",
      "          Conv2d-271          [-1, 256, 16, 16]         262,144\n",
      "     BatchNorm2d-272          [-1, 256, 16, 16]             512\n",
      "            ReLU-273          [-1, 256, 16, 16]               0\n",
      "          Conv2d-274          [-1, 256, 16, 16]         589,824\n",
      "     BatchNorm2d-275          [-1, 256, 16, 16]             512\n",
      "            ReLU-276          [-1, 256, 16, 16]               0\n",
      "          Conv2d-277         [-1, 1024, 16, 16]         262,144\n",
      "     BatchNorm2d-278         [-1, 1024, 16, 16]           2,048\n",
      "            ReLU-279         [-1, 1024, 16, 16]               0\n",
      "      BottleNeck-280         [-1, 1024, 16, 16]               0\n",
      "          Conv2d-281          [-1, 256, 16, 16]         262,144\n",
      "     BatchNorm2d-282          [-1, 256, 16, 16]             512\n",
      "            ReLU-283          [-1, 256, 16, 16]               0\n",
      "          Conv2d-284          [-1, 256, 16, 16]         589,824\n",
      "     BatchNorm2d-285          [-1, 256, 16, 16]             512\n",
      "            ReLU-286          [-1, 256, 16, 16]               0\n",
      "          Conv2d-287         [-1, 1024, 16, 16]         262,144\n",
      "     BatchNorm2d-288         [-1, 1024, 16, 16]           2,048\n",
      "            ReLU-289         [-1, 1024, 16, 16]               0\n",
      "      BottleNeck-290         [-1, 1024, 16, 16]               0\n",
      "          Conv2d-291          [-1, 256, 16, 16]         262,144\n",
      "     BatchNorm2d-292          [-1, 256, 16, 16]             512\n",
      "            ReLU-293          [-1, 256, 16, 16]               0\n",
      "          Conv2d-294          [-1, 256, 16, 16]         589,824\n",
      "     BatchNorm2d-295          [-1, 256, 16, 16]             512\n",
      "            ReLU-296          [-1, 256, 16, 16]               0\n",
      "          Conv2d-297         [-1, 1024, 16, 16]         262,144\n",
      "     BatchNorm2d-298         [-1, 1024, 16, 16]           2,048\n",
      "            ReLU-299         [-1, 1024, 16, 16]               0\n",
      "      BottleNeck-300         [-1, 1024, 16, 16]               0\n",
      "          Conv2d-301          [-1, 256, 16, 16]         262,144\n",
      "     BatchNorm2d-302          [-1, 256, 16, 16]             512\n",
      "            ReLU-303          [-1, 256, 16, 16]               0\n",
      "          Conv2d-304          [-1, 256, 16, 16]         589,824\n",
      "     BatchNorm2d-305          [-1, 256, 16, 16]             512\n",
      "            ReLU-306          [-1, 256, 16, 16]               0\n",
      "          Conv2d-307         [-1, 1024, 16, 16]         262,144\n",
      "     BatchNorm2d-308         [-1, 1024, 16, 16]           2,048\n",
      "            ReLU-309         [-1, 1024, 16, 16]               0\n",
      "      BottleNeck-310         [-1, 1024, 16, 16]               0\n",
      "          Conv2d-311          [-1, 512, 16, 16]         524,288\n",
      "     BatchNorm2d-312          [-1, 512, 16, 16]           1,024\n",
      "            ReLU-313          [-1, 512, 16, 16]               0\n",
      "          Conv2d-314            [-1, 512, 8, 8]       2,359,296\n",
      "     BatchNorm2d-315            [-1, 512, 8, 8]           1,024\n",
      "            ReLU-316            [-1, 512, 8, 8]               0\n",
      "          Conv2d-317           [-1, 2048, 8, 8]       1,048,576\n",
      "     BatchNorm2d-318           [-1, 2048, 8, 8]           4,096\n",
      "          Conv2d-319           [-1, 2048, 8, 8]       2,097,152\n",
      "     BatchNorm2d-320           [-1, 2048, 8, 8]           4,096\n",
      "            ReLU-321           [-1, 2048, 8, 8]               0\n",
      "      BottleNeck-322           [-1, 2048, 8, 8]               0\n",
      "          Conv2d-323            [-1, 512, 8, 8]       1,048,576\n",
      "     BatchNorm2d-324            [-1, 512, 8, 8]           1,024\n",
      "            ReLU-325            [-1, 512, 8, 8]               0\n",
      "          Conv2d-326            [-1, 512, 8, 8]       2,359,296\n",
      "     BatchNorm2d-327            [-1, 512, 8, 8]           1,024\n",
      "            ReLU-328            [-1, 512, 8, 8]               0\n",
      "          Conv2d-329           [-1, 2048, 8, 8]       1,048,576\n",
      "     BatchNorm2d-330           [-1, 2048, 8, 8]           4,096\n",
      "            ReLU-331           [-1, 2048, 8, 8]               0\n",
      "      BottleNeck-332           [-1, 2048, 8, 8]               0\n",
      "          Conv2d-333            [-1, 512, 8, 8]       1,048,576\n",
      "     BatchNorm2d-334            [-1, 512, 8, 8]           1,024\n",
      "            ReLU-335            [-1, 512, 8, 8]               0\n",
      "          Conv2d-336            [-1, 512, 8, 8]       2,359,296\n",
      "     BatchNorm2d-337            [-1, 512, 8, 8]           1,024\n",
      "            ReLU-338            [-1, 512, 8, 8]               0\n",
      "          Conv2d-339           [-1, 2048, 8, 8]       1,048,576\n",
      "     BatchNorm2d-340           [-1, 2048, 8, 8]           4,096\n",
      "            ReLU-341           [-1, 2048, 8, 8]               0\n",
      "      BottleNeck-342           [-1, 2048, 8, 8]               0\n",
      "AdaptiveAvgPool2d-343           [-1, 2048, 1, 1]               0\n",
      "          Linear-344                   [-1, 42]          86,058\n",
      "================================================================\n",
      "Total params: 42,586,218\n",
      "Trainable params: 42,586,218\n",
      "Non-trainable params: 0\n",
      "----------------------------------------------------------------\n",
      "Input size (MB): 0.68\n",
      "Forward/backward pass size (MB): 538.15\n",
      "Params size (MB): 162.45\n",
      "Estimated Total Size (MB): 701.28\n",
      "----------------------------------------------------------------\n"
     ]
    }
   ],
   "source": [
    "from torchsummary import summary\n",
    "summary(model, (3,244,244))"
   ],
   "metadata": {
    "collapsed": false,
    "ExecuteTime": {
     "end_time": "2023-10-26T11:19:49.094382100Z",
     "start_time": "2023-10-26T11:19:48.603682100Z"
    }
   },
   "id": "c7333ac2bd85c65f"
  },
  {
   "cell_type": "code",
   "execution_count": 25,
   "outputs": [
    {
     "name": "stdout",
     "output_type": "stream",
     "text": [
      "----------------------------------------------------------------\n",
      "        Layer (type)               Output Shape         Param #\n",
      "================================================================\n",
      "            Conv2d-1         [-1, 64, 112, 112]           9,408\n",
      "       BatchNorm2d-2         [-1, 64, 112, 112]             128\n",
      "              ReLU-3         [-1, 64, 112, 112]               0\n",
      "         MaxPool2d-4           [-1, 64, 56, 56]               0\n",
      "            Conv2d-5           [-1, 64, 56, 56]           4,096\n",
      "       BatchNorm2d-6           [-1, 64, 56, 56]             128\n",
      "              ReLU-7           [-1, 64, 56, 56]               0\n",
      "            Conv2d-8           [-1, 64, 56, 56]          36,864\n",
      "       BatchNorm2d-9           [-1, 64, 56, 56]             128\n",
      "             ReLU-10           [-1, 64, 56, 56]               0\n",
      "           Conv2d-11          [-1, 256, 56, 56]          16,384\n",
      "      BatchNorm2d-12          [-1, 256, 56, 56]             512\n",
      "           Conv2d-13          [-1, 256, 56, 56]          16,384\n",
      "      BatchNorm2d-14          [-1, 256, 56, 56]             512\n",
      "             ReLU-15          [-1, 256, 56, 56]               0\n",
      "       BottleNeck-16          [-1, 256, 56, 56]               0\n",
      "           Conv2d-17           [-1, 64, 56, 56]          16,384\n",
      "      BatchNorm2d-18           [-1, 64, 56, 56]             128\n",
      "             ReLU-19           [-1, 64, 56, 56]               0\n",
      "           Conv2d-20           [-1, 64, 56, 56]          36,864\n",
      "      BatchNorm2d-21           [-1, 64, 56, 56]             128\n",
      "             ReLU-22           [-1, 64, 56, 56]               0\n",
      "           Conv2d-23          [-1, 256, 56, 56]          16,384\n",
      "      BatchNorm2d-24          [-1, 256, 56, 56]             512\n",
      "             ReLU-25          [-1, 256, 56, 56]               0\n",
      "       BottleNeck-26          [-1, 256, 56, 56]               0\n",
      "           Conv2d-27           [-1, 64, 56, 56]          16,384\n",
      "      BatchNorm2d-28           [-1, 64, 56, 56]             128\n",
      "             ReLU-29           [-1, 64, 56, 56]               0\n",
      "           Conv2d-30           [-1, 64, 56, 56]          36,864\n",
      "      BatchNorm2d-31           [-1, 64, 56, 56]             128\n",
      "             ReLU-32           [-1, 64, 56, 56]               0\n",
      "           Conv2d-33          [-1, 256, 56, 56]          16,384\n",
      "      BatchNorm2d-34          [-1, 256, 56, 56]             512\n",
      "             ReLU-35          [-1, 256, 56, 56]               0\n",
      "       BottleNeck-36          [-1, 256, 56, 56]               0\n",
      "           Conv2d-37          [-1, 128, 56, 56]          32,768\n",
      "      BatchNorm2d-38          [-1, 128, 56, 56]             256\n",
      "             ReLU-39          [-1, 128, 56, 56]               0\n",
      "           Conv2d-40          [-1, 128, 28, 28]         147,456\n",
      "      BatchNorm2d-41          [-1, 128, 28, 28]             256\n",
      "             ReLU-42          [-1, 128, 28, 28]               0\n",
      "           Conv2d-43          [-1, 512, 28, 28]          65,536\n",
      "      BatchNorm2d-44          [-1, 512, 28, 28]           1,024\n",
      "           Conv2d-45          [-1, 512, 28, 28]         131,072\n",
      "      BatchNorm2d-46          [-1, 512, 28, 28]           1,024\n",
      "             ReLU-47          [-1, 512, 28, 28]               0\n",
      "       BottleNeck-48          [-1, 512, 28, 28]               0\n",
      "           Conv2d-49          [-1, 128, 28, 28]          65,536\n",
      "      BatchNorm2d-50          [-1, 128, 28, 28]             256\n",
      "             ReLU-51          [-1, 128, 28, 28]               0\n",
      "           Conv2d-52          [-1, 128, 28, 28]         147,456\n",
      "      BatchNorm2d-53          [-1, 128, 28, 28]             256\n",
      "             ReLU-54          [-1, 128, 28, 28]               0\n",
      "           Conv2d-55          [-1, 512, 28, 28]          65,536\n",
      "      BatchNorm2d-56          [-1, 512, 28, 28]           1,024\n",
      "             ReLU-57          [-1, 512, 28, 28]               0\n",
      "       BottleNeck-58          [-1, 512, 28, 28]               0\n",
      "           Conv2d-59          [-1, 128, 28, 28]          65,536\n",
      "      BatchNorm2d-60          [-1, 128, 28, 28]             256\n",
      "             ReLU-61          [-1, 128, 28, 28]               0\n",
      "           Conv2d-62          [-1, 128, 28, 28]         147,456\n",
      "      BatchNorm2d-63          [-1, 128, 28, 28]             256\n",
      "             ReLU-64          [-1, 128, 28, 28]               0\n",
      "           Conv2d-65          [-1, 512, 28, 28]          65,536\n",
      "      BatchNorm2d-66          [-1, 512, 28, 28]           1,024\n",
      "             ReLU-67          [-1, 512, 28, 28]               0\n",
      "       BottleNeck-68          [-1, 512, 28, 28]               0\n",
      "           Conv2d-69          [-1, 128, 28, 28]          65,536\n",
      "      BatchNorm2d-70          [-1, 128, 28, 28]             256\n",
      "             ReLU-71          [-1, 128, 28, 28]               0\n",
      "           Conv2d-72          [-1, 128, 28, 28]         147,456\n",
      "      BatchNorm2d-73          [-1, 128, 28, 28]             256\n",
      "             ReLU-74          [-1, 128, 28, 28]               0\n",
      "           Conv2d-75          [-1, 512, 28, 28]          65,536\n",
      "      BatchNorm2d-76          [-1, 512, 28, 28]           1,024\n",
      "             ReLU-77          [-1, 512, 28, 28]               0\n",
      "       BottleNeck-78          [-1, 512, 28, 28]               0\n",
      "           Conv2d-79          [-1, 256, 28, 28]         131,072\n",
      "      BatchNorm2d-80          [-1, 256, 28, 28]             512\n",
      "             ReLU-81          [-1, 256, 28, 28]               0\n",
      "           Conv2d-82          [-1, 256, 14, 14]         589,824\n",
      "      BatchNorm2d-83          [-1, 256, 14, 14]             512\n",
      "             ReLU-84          [-1, 256, 14, 14]               0\n",
      "           Conv2d-85         [-1, 1024, 14, 14]         262,144\n",
      "      BatchNorm2d-86         [-1, 1024, 14, 14]           2,048\n",
      "           Conv2d-87         [-1, 1024, 14, 14]         524,288\n",
      "      BatchNorm2d-88         [-1, 1024, 14, 14]           2,048\n",
      "             ReLU-89         [-1, 1024, 14, 14]               0\n",
      "       BottleNeck-90         [-1, 1024, 14, 14]               0\n",
      "           Conv2d-91          [-1, 256, 14, 14]         262,144\n",
      "      BatchNorm2d-92          [-1, 256, 14, 14]             512\n",
      "             ReLU-93          [-1, 256, 14, 14]               0\n",
      "           Conv2d-94          [-1, 256, 14, 14]         589,824\n",
      "      BatchNorm2d-95          [-1, 256, 14, 14]             512\n",
      "             ReLU-96          [-1, 256, 14, 14]               0\n",
      "           Conv2d-97         [-1, 1024, 14, 14]         262,144\n",
      "      BatchNorm2d-98         [-1, 1024, 14, 14]           2,048\n",
      "             ReLU-99         [-1, 1024, 14, 14]               0\n",
      "      BottleNeck-100         [-1, 1024, 14, 14]               0\n",
      "          Conv2d-101          [-1, 256, 14, 14]         262,144\n",
      "     BatchNorm2d-102          [-1, 256, 14, 14]             512\n",
      "            ReLU-103          [-1, 256, 14, 14]               0\n",
      "          Conv2d-104          [-1, 256, 14, 14]         589,824\n",
      "     BatchNorm2d-105          [-1, 256, 14, 14]             512\n",
      "            ReLU-106          [-1, 256, 14, 14]               0\n",
      "          Conv2d-107         [-1, 1024, 14, 14]         262,144\n",
      "     BatchNorm2d-108         [-1, 1024, 14, 14]           2,048\n",
      "            ReLU-109         [-1, 1024, 14, 14]               0\n",
      "      BottleNeck-110         [-1, 1024, 14, 14]               0\n",
      "          Conv2d-111          [-1, 256, 14, 14]         262,144\n",
      "     BatchNorm2d-112          [-1, 256, 14, 14]             512\n",
      "            ReLU-113          [-1, 256, 14, 14]               0\n",
      "          Conv2d-114          [-1, 256, 14, 14]         589,824\n",
      "     BatchNorm2d-115          [-1, 256, 14, 14]             512\n",
      "            ReLU-116          [-1, 256, 14, 14]               0\n",
      "          Conv2d-117         [-1, 1024, 14, 14]         262,144\n",
      "     BatchNorm2d-118         [-1, 1024, 14, 14]           2,048\n",
      "            ReLU-119         [-1, 1024, 14, 14]               0\n",
      "      BottleNeck-120         [-1, 1024, 14, 14]               0\n",
      "          Conv2d-121          [-1, 256, 14, 14]         262,144\n",
      "     BatchNorm2d-122          [-1, 256, 14, 14]             512\n",
      "            ReLU-123          [-1, 256, 14, 14]               0\n",
      "          Conv2d-124          [-1, 256, 14, 14]         589,824\n",
      "     BatchNorm2d-125          [-1, 256, 14, 14]             512\n",
      "            ReLU-126          [-1, 256, 14, 14]               0\n",
      "          Conv2d-127         [-1, 1024, 14, 14]         262,144\n",
      "     BatchNorm2d-128         [-1, 1024, 14, 14]           2,048\n",
      "            ReLU-129         [-1, 1024, 14, 14]               0\n",
      "      BottleNeck-130         [-1, 1024, 14, 14]               0\n",
      "          Conv2d-131          [-1, 256, 14, 14]         262,144\n",
      "     BatchNorm2d-132          [-1, 256, 14, 14]             512\n",
      "            ReLU-133          [-1, 256, 14, 14]               0\n",
      "          Conv2d-134          [-1, 256, 14, 14]         589,824\n",
      "     BatchNorm2d-135          [-1, 256, 14, 14]             512\n",
      "            ReLU-136          [-1, 256, 14, 14]               0\n",
      "          Conv2d-137         [-1, 1024, 14, 14]         262,144\n",
      "     BatchNorm2d-138         [-1, 1024, 14, 14]           2,048\n",
      "            ReLU-139         [-1, 1024, 14, 14]               0\n",
      "      BottleNeck-140         [-1, 1024, 14, 14]               0\n",
      "          Conv2d-141          [-1, 256, 14, 14]         262,144\n",
      "     BatchNorm2d-142          [-1, 256, 14, 14]             512\n",
      "            ReLU-143          [-1, 256, 14, 14]               0\n",
      "          Conv2d-144          [-1, 256, 14, 14]         589,824\n",
      "     BatchNorm2d-145          [-1, 256, 14, 14]             512\n",
      "            ReLU-146          [-1, 256, 14, 14]               0\n",
      "          Conv2d-147         [-1, 1024, 14, 14]         262,144\n",
      "     BatchNorm2d-148         [-1, 1024, 14, 14]           2,048\n",
      "            ReLU-149         [-1, 1024, 14, 14]               0\n",
      "      BottleNeck-150         [-1, 1024, 14, 14]               0\n",
      "          Conv2d-151          [-1, 256, 14, 14]         262,144\n",
      "     BatchNorm2d-152          [-1, 256, 14, 14]             512\n",
      "            ReLU-153          [-1, 256, 14, 14]               0\n",
      "          Conv2d-154          [-1, 256, 14, 14]         589,824\n",
      "     BatchNorm2d-155          [-1, 256, 14, 14]             512\n",
      "            ReLU-156          [-1, 256, 14, 14]               0\n",
      "          Conv2d-157         [-1, 1024, 14, 14]         262,144\n",
      "     BatchNorm2d-158         [-1, 1024, 14, 14]           2,048\n",
      "            ReLU-159         [-1, 1024, 14, 14]               0\n",
      "      BottleNeck-160         [-1, 1024, 14, 14]               0\n",
      "          Conv2d-161          [-1, 256, 14, 14]         262,144\n",
      "     BatchNorm2d-162          [-1, 256, 14, 14]             512\n",
      "            ReLU-163          [-1, 256, 14, 14]               0\n",
      "          Conv2d-164          [-1, 256, 14, 14]         589,824\n",
      "     BatchNorm2d-165          [-1, 256, 14, 14]             512\n",
      "            ReLU-166          [-1, 256, 14, 14]               0\n",
      "          Conv2d-167         [-1, 1024, 14, 14]         262,144\n",
      "     BatchNorm2d-168         [-1, 1024, 14, 14]           2,048\n",
      "            ReLU-169         [-1, 1024, 14, 14]               0\n",
      "      BottleNeck-170         [-1, 1024, 14, 14]               0\n",
      "          Conv2d-171          [-1, 256, 14, 14]         262,144\n",
      "     BatchNorm2d-172          [-1, 256, 14, 14]             512\n",
      "            ReLU-173          [-1, 256, 14, 14]               0\n",
      "          Conv2d-174          [-1, 256, 14, 14]         589,824\n",
      "     BatchNorm2d-175          [-1, 256, 14, 14]             512\n",
      "            ReLU-176          [-1, 256, 14, 14]               0\n",
      "          Conv2d-177         [-1, 1024, 14, 14]         262,144\n",
      "     BatchNorm2d-178         [-1, 1024, 14, 14]           2,048\n",
      "            ReLU-179         [-1, 1024, 14, 14]               0\n",
      "      BottleNeck-180         [-1, 1024, 14, 14]               0\n",
      "          Conv2d-181          [-1, 256, 14, 14]         262,144\n",
      "     BatchNorm2d-182          [-1, 256, 14, 14]             512\n",
      "            ReLU-183          [-1, 256, 14, 14]               0\n",
      "          Conv2d-184          [-1, 256, 14, 14]         589,824\n",
      "     BatchNorm2d-185          [-1, 256, 14, 14]             512\n",
      "            ReLU-186          [-1, 256, 14, 14]               0\n",
      "          Conv2d-187         [-1, 1024, 14, 14]         262,144\n",
      "     BatchNorm2d-188         [-1, 1024, 14, 14]           2,048\n",
      "            ReLU-189         [-1, 1024, 14, 14]               0\n",
      "      BottleNeck-190         [-1, 1024, 14, 14]               0\n",
      "          Conv2d-191          [-1, 256, 14, 14]         262,144\n",
      "     BatchNorm2d-192          [-1, 256, 14, 14]             512\n",
      "            ReLU-193          [-1, 256, 14, 14]               0\n",
      "          Conv2d-194          [-1, 256, 14, 14]         589,824\n",
      "     BatchNorm2d-195          [-1, 256, 14, 14]             512\n",
      "            ReLU-196          [-1, 256, 14, 14]               0\n",
      "          Conv2d-197         [-1, 1024, 14, 14]         262,144\n",
      "     BatchNorm2d-198         [-1, 1024, 14, 14]           2,048\n",
      "            ReLU-199         [-1, 1024, 14, 14]               0\n",
      "      BottleNeck-200         [-1, 1024, 14, 14]               0\n",
      "          Conv2d-201          [-1, 256, 14, 14]         262,144\n",
      "     BatchNorm2d-202          [-1, 256, 14, 14]             512\n",
      "            ReLU-203          [-1, 256, 14, 14]               0\n",
      "          Conv2d-204          [-1, 256, 14, 14]         589,824\n",
      "     BatchNorm2d-205          [-1, 256, 14, 14]             512\n",
      "            ReLU-206          [-1, 256, 14, 14]               0\n",
      "          Conv2d-207         [-1, 1024, 14, 14]         262,144\n",
      "     BatchNorm2d-208         [-1, 1024, 14, 14]           2,048\n",
      "            ReLU-209         [-1, 1024, 14, 14]               0\n",
      "      BottleNeck-210         [-1, 1024, 14, 14]               0\n",
      "          Conv2d-211          [-1, 256, 14, 14]         262,144\n",
      "     BatchNorm2d-212          [-1, 256, 14, 14]             512\n",
      "            ReLU-213          [-1, 256, 14, 14]               0\n",
      "          Conv2d-214          [-1, 256, 14, 14]         589,824\n",
      "     BatchNorm2d-215          [-1, 256, 14, 14]             512\n",
      "            ReLU-216          [-1, 256, 14, 14]               0\n",
      "          Conv2d-217         [-1, 1024, 14, 14]         262,144\n",
      "     BatchNorm2d-218         [-1, 1024, 14, 14]           2,048\n",
      "            ReLU-219         [-1, 1024, 14, 14]               0\n",
      "      BottleNeck-220         [-1, 1024, 14, 14]               0\n",
      "          Conv2d-221          [-1, 256, 14, 14]         262,144\n",
      "     BatchNorm2d-222          [-1, 256, 14, 14]             512\n",
      "            ReLU-223          [-1, 256, 14, 14]               0\n",
      "          Conv2d-224          [-1, 256, 14, 14]         589,824\n",
      "     BatchNorm2d-225          [-1, 256, 14, 14]             512\n",
      "            ReLU-226          [-1, 256, 14, 14]               0\n",
      "          Conv2d-227         [-1, 1024, 14, 14]         262,144\n",
      "     BatchNorm2d-228         [-1, 1024, 14, 14]           2,048\n",
      "            ReLU-229         [-1, 1024, 14, 14]               0\n",
      "      BottleNeck-230         [-1, 1024, 14, 14]               0\n",
      "          Conv2d-231          [-1, 256, 14, 14]         262,144\n",
      "     BatchNorm2d-232          [-1, 256, 14, 14]             512\n",
      "            ReLU-233          [-1, 256, 14, 14]               0\n",
      "          Conv2d-234          [-1, 256, 14, 14]         589,824\n",
      "     BatchNorm2d-235          [-1, 256, 14, 14]             512\n",
      "            ReLU-236          [-1, 256, 14, 14]               0\n",
      "          Conv2d-237         [-1, 1024, 14, 14]         262,144\n",
      "     BatchNorm2d-238         [-1, 1024, 14, 14]           2,048\n",
      "            ReLU-239         [-1, 1024, 14, 14]               0\n",
      "      BottleNeck-240         [-1, 1024, 14, 14]               0\n",
      "          Conv2d-241          [-1, 256, 14, 14]         262,144\n",
      "     BatchNorm2d-242          [-1, 256, 14, 14]             512\n",
      "            ReLU-243          [-1, 256, 14, 14]               0\n",
      "          Conv2d-244          [-1, 256, 14, 14]         589,824\n",
      "     BatchNorm2d-245          [-1, 256, 14, 14]             512\n",
      "            ReLU-246          [-1, 256, 14, 14]               0\n",
      "          Conv2d-247         [-1, 1024, 14, 14]         262,144\n",
      "     BatchNorm2d-248         [-1, 1024, 14, 14]           2,048\n",
      "            ReLU-249         [-1, 1024, 14, 14]               0\n",
      "      BottleNeck-250         [-1, 1024, 14, 14]               0\n",
      "          Conv2d-251          [-1, 256, 14, 14]         262,144\n",
      "     BatchNorm2d-252          [-1, 256, 14, 14]             512\n",
      "            ReLU-253          [-1, 256, 14, 14]               0\n",
      "          Conv2d-254          [-1, 256, 14, 14]         589,824\n",
      "     BatchNorm2d-255          [-1, 256, 14, 14]             512\n",
      "            ReLU-256          [-1, 256, 14, 14]               0\n",
      "          Conv2d-257         [-1, 1024, 14, 14]         262,144\n",
      "     BatchNorm2d-258         [-1, 1024, 14, 14]           2,048\n",
      "            ReLU-259         [-1, 1024, 14, 14]               0\n",
      "      BottleNeck-260         [-1, 1024, 14, 14]               0\n",
      "          Conv2d-261          [-1, 256, 14, 14]         262,144\n",
      "     BatchNorm2d-262          [-1, 256, 14, 14]             512\n",
      "            ReLU-263          [-1, 256, 14, 14]               0\n",
      "          Conv2d-264          [-1, 256, 14, 14]         589,824\n",
      "     BatchNorm2d-265          [-1, 256, 14, 14]             512\n",
      "            ReLU-266          [-1, 256, 14, 14]               0\n",
      "          Conv2d-267         [-1, 1024, 14, 14]         262,144\n",
      "     BatchNorm2d-268         [-1, 1024, 14, 14]           2,048\n",
      "            ReLU-269         [-1, 1024, 14, 14]               0\n",
      "      BottleNeck-270         [-1, 1024, 14, 14]               0\n",
      "          Conv2d-271          [-1, 256, 14, 14]         262,144\n",
      "     BatchNorm2d-272          [-1, 256, 14, 14]             512\n",
      "            ReLU-273          [-1, 256, 14, 14]               0\n",
      "          Conv2d-274          [-1, 256, 14, 14]         589,824\n",
      "     BatchNorm2d-275          [-1, 256, 14, 14]             512\n",
      "            ReLU-276          [-1, 256, 14, 14]               0\n",
      "          Conv2d-277         [-1, 1024, 14, 14]         262,144\n",
      "     BatchNorm2d-278         [-1, 1024, 14, 14]           2,048\n",
      "            ReLU-279         [-1, 1024, 14, 14]               0\n",
      "      BottleNeck-280         [-1, 1024, 14, 14]               0\n",
      "          Conv2d-281          [-1, 256, 14, 14]         262,144\n",
      "     BatchNorm2d-282          [-1, 256, 14, 14]             512\n",
      "            ReLU-283          [-1, 256, 14, 14]               0\n",
      "          Conv2d-284          [-1, 256, 14, 14]         589,824\n",
      "     BatchNorm2d-285          [-1, 256, 14, 14]             512\n",
      "            ReLU-286          [-1, 256, 14, 14]               0\n",
      "          Conv2d-287         [-1, 1024, 14, 14]         262,144\n",
      "     BatchNorm2d-288         [-1, 1024, 14, 14]           2,048\n",
      "            ReLU-289         [-1, 1024, 14, 14]               0\n",
      "      BottleNeck-290         [-1, 1024, 14, 14]               0\n",
      "          Conv2d-291          [-1, 256, 14, 14]         262,144\n",
      "     BatchNorm2d-292          [-1, 256, 14, 14]             512\n",
      "            ReLU-293          [-1, 256, 14, 14]               0\n",
      "          Conv2d-294          [-1, 256, 14, 14]         589,824\n",
      "     BatchNorm2d-295          [-1, 256, 14, 14]             512\n",
      "            ReLU-296          [-1, 256, 14, 14]               0\n",
      "          Conv2d-297         [-1, 1024, 14, 14]         262,144\n",
      "     BatchNorm2d-298         [-1, 1024, 14, 14]           2,048\n",
      "            ReLU-299         [-1, 1024, 14, 14]               0\n",
      "      BottleNeck-300         [-1, 1024, 14, 14]               0\n",
      "          Conv2d-301          [-1, 256, 14, 14]         262,144\n",
      "     BatchNorm2d-302          [-1, 256, 14, 14]             512\n",
      "            ReLU-303          [-1, 256, 14, 14]               0\n",
      "          Conv2d-304          [-1, 256, 14, 14]         589,824\n",
      "     BatchNorm2d-305          [-1, 256, 14, 14]             512\n",
      "            ReLU-306          [-1, 256, 14, 14]               0\n",
      "          Conv2d-307         [-1, 1024, 14, 14]         262,144\n",
      "     BatchNorm2d-308         [-1, 1024, 14, 14]           2,048\n",
      "            ReLU-309         [-1, 1024, 14, 14]               0\n",
      "      BottleNeck-310         [-1, 1024, 14, 14]               0\n",
      "          Conv2d-311          [-1, 512, 14, 14]         524,288\n",
      "     BatchNorm2d-312          [-1, 512, 14, 14]           1,024\n",
      "            ReLU-313          [-1, 512, 14, 14]               0\n",
      "          Conv2d-314            [-1, 512, 7, 7]       2,359,296\n",
      "     BatchNorm2d-315            [-1, 512, 7, 7]           1,024\n",
      "            ReLU-316            [-1, 512, 7, 7]               0\n",
      "          Conv2d-317           [-1, 2048, 7, 7]       1,048,576\n",
      "     BatchNorm2d-318           [-1, 2048, 7, 7]           4,096\n",
      "          Conv2d-319           [-1, 2048, 7, 7]       2,097,152\n",
      "     BatchNorm2d-320           [-1, 2048, 7, 7]           4,096\n",
      "            ReLU-321           [-1, 2048, 7, 7]               0\n",
      "      BottleNeck-322           [-1, 2048, 7, 7]               0\n",
      "          Conv2d-323            [-1, 512, 7, 7]       1,048,576\n",
      "     BatchNorm2d-324            [-1, 512, 7, 7]           1,024\n",
      "            ReLU-325            [-1, 512, 7, 7]               0\n",
      "          Conv2d-326            [-1, 512, 7, 7]       2,359,296\n",
      "     BatchNorm2d-327            [-1, 512, 7, 7]           1,024\n",
      "            ReLU-328            [-1, 512, 7, 7]               0\n",
      "          Conv2d-329           [-1, 2048, 7, 7]       1,048,576\n",
      "     BatchNorm2d-330           [-1, 2048, 7, 7]           4,096\n",
      "            ReLU-331           [-1, 2048, 7, 7]               0\n",
      "      BottleNeck-332           [-1, 2048, 7, 7]               0\n",
      "          Conv2d-333            [-1, 512, 7, 7]       1,048,576\n",
      "     BatchNorm2d-334            [-1, 512, 7, 7]           1,024\n",
      "            ReLU-335            [-1, 512, 7, 7]               0\n",
      "          Conv2d-336            [-1, 512, 7, 7]       2,359,296\n",
      "     BatchNorm2d-337            [-1, 512, 7, 7]           1,024\n",
      "            ReLU-338            [-1, 512, 7, 7]               0\n",
      "          Conv2d-339           [-1, 2048, 7, 7]       1,048,576\n",
      "     BatchNorm2d-340           [-1, 2048, 7, 7]           4,096\n",
      "            ReLU-341           [-1, 2048, 7, 7]               0\n",
      "      BottleNeck-342           [-1, 2048, 7, 7]               0\n",
      "AdaptiveAvgPool2d-343           [-1, 2048, 1, 1]               0\n",
      "          Linear-344                   [-1, 42]          86,058\n",
      "================================================================\n",
      "Total params: 42,586,218\n",
      "Trainable params: 42,586,218\n",
      "Non-trainable params: 0\n",
      "----------------------------------------------------------------\n",
      "Input size (MB): 0.57\n",
      "Forward/backward pass size (MB): 429.72\n",
      "Params size (MB): 162.45\n",
      "Estimated Total Size (MB): 592.75\n",
      "----------------------------------------------------------------\n"
     ]
    }
   ],
   "source": [
    "summary(model, (3, 224, 224), device=device.type)"
   ],
   "metadata": {
    "collapsed": false,
    "ExecuteTime": {
     "end_time": "2023-10-26T11:19:49.568114600Z",
     "start_time": "2023-10-26T11:19:49.092387400Z"
    }
   },
   "id": "38e4032559928e25"
  },
  {
   "cell_type": "code",
   "execution_count": 32,
   "outputs": [],
   "source": [
    "loss_func = nn.CrossEntropyLoss(reduction='sum')\n",
    "opt = optim.Adam(model.parameters(), lr=0.0003)\n",
    "\n",
    "from torch.optim.lr_scheduler import ReduceLROnPlateau\n",
    "lr_scheduler = ReduceLROnPlateau(opt, mode='min', factor=0.1, patience=5)"
   ],
   "metadata": {
    "collapsed": false,
    "ExecuteTime": {
     "end_time": "2023-10-26T11:20:06.723281500Z",
     "start_time": "2023-10-26T11:20:06.670880900Z"
    }
   },
   "id": "8e1bbd83e7722a51"
  },
  {
   "cell_type": "code",
   "execution_count": 33,
   "outputs": [],
   "source": [
    "# function to get current lr\n",
    "def get_lr(opt):\n",
    "    for param_group in opt.param_groups:\n",
    "        return param_group['lr']"
   ],
   "metadata": {
    "collapsed": false,
    "ExecuteTime": {
     "end_time": "2023-10-26T11:20:06.913856700Z",
     "start_time": "2023-10-26T11:20:06.896902800Z"
    }
   },
   "id": "8d9d92dddc184708"
  },
  {
   "cell_type": "code",
   "execution_count": 34,
   "outputs": [],
   "source": [
    "# function to calculate metric per mini-batch\n",
    "def metric_batch(output, target):\n",
    "    pred = output.argmax(1, keepdim=True)\n",
    "    corrects = pred.eq(target.view_as(pred)).sum().item()\n",
    "    return corrects\n",
    "\n",
    "\n",
    "# function to calculate loss per mini-batch\n",
    "def loss_batch(loss_func, output, target, opt=None):\n",
    "    loss = loss_func(output, target)\n",
    "    metric_b = metric_batch(output, target)\n",
    "\n",
    "    if opt is not None:\n",
    "        opt.zero_grad()\n",
    "        loss.backward()\n",
    "        opt.step()\n",
    "\n",
    "    return loss.item(), metric_b"
   ],
   "metadata": {
    "collapsed": false,
    "ExecuteTime": {
     "end_time": "2023-10-26T11:20:07.095996200Z",
     "start_time": "2023-10-26T11:20:07.076050200Z"
    }
   },
   "id": "96a04a3fd638d01c"
  },
  {
   "cell_type": "code",
   "execution_count": 35,
   "outputs": [],
   "source": [
    "# function to calculate loss and metric per epoch\n",
    "def loss_epoch(model, loss_func, dataset_dl, sanity_check=False, opt=None):\n",
    "    running_loss = 0.0\n",
    "    running_metric = 0.0\n",
    "    len_data = len(dataset_dl.dataset)\n",
    "\n",
    "    for xb, yb in dataset_dl:\n",
    "\n",
    "        xb = xb.to(device)\n",
    "        yb = yb.to(device)\n",
    "        output = model(xb)\n",
    "\n",
    "        loss_b, metric_b = loss_batch(loss_func, output, yb, opt)\n",
    "\n",
    "        running_loss += loss_b\n",
    "\n",
    "        if metric_b is not None:\n",
    "            running_metric += metric_b\n",
    "\n",
    "        if sanity_check is True:\n",
    "            break\n",
    "\n",
    "    loss = running_loss / len_data\n",
    "    metric = running_metric / len_data\n",
    "\n",
    "    return loss, metric"
   ],
   "metadata": {
    "collapsed": false,
    "ExecuteTime": {
     "end_time": "2023-10-26T11:20:07.295462100Z",
     "start_time": "2023-10-26T11:20:07.269531900Z"
    }
   },
   "id": "a86f06bae5883252"
  },
  {
   "cell_type": "code",
   "execution_count": 36,
   "outputs": [],
   "source": [
    "class LabelSmoothingLoss(nn.Module):\n",
    "    def __init__(self, classes, smoothing=0.1, dim=-1):\n",
    "        super(LabelSmoothingLoss, self).__init__()\n",
    "        self.confidence = 1.0 - smoothing\n",
    "        self.smoothing = smoothing\n",
    "        self.cls = classes\n",
    "        self.dim = dim\n",
    "\n",
    "    def forward(self, pred, target):\n",
    "        pred = pred.log_softmax(dim=self.dim)\n",
    "        with torch.no_grad():\n",
    "            true_dist = torch.zeros_like(pred)\n",
    "            true_dist.fill_(self.smoothing / (self.cls - 1))\n",
    "            true_dist.scatter_(1, target.data.unsqueeze(1), self.confidence)\n",
    "\n",
    "        return torch.mean(torch.sum(-true_dist * pred, dim=self.dim))\n"
   ],
   "metadata": {
    "collapsed": false,
    "ExecuteTime": {
     "end_time": "2023-10-26T11:20:07.497123400Z",
     "start_time": "2023-10-26T11:20:07.474184800Z"
    }
   },
   "id": "b237f9e369e5a538"
  },
  {
   "cell_type": "code",
   "execution_count": 37,
   "outputs": [],
   "source": [
    "# function to start training\n",
    "def train_val(model, params):\n",
    "    num_epochs=params['num_epochs']\n",
    "    loss_func=params[\"loss_func\"]\n",
    "    opt=params[\"optimizer\"]\n",
    "    train_dl=params[\"train_dl\"]\n",
    "    val_dl=params[\"val_dl\"]\n",
    "    sanity_check=params[\"sanity_check\"]\n",
    "    lr_scheduler=params[\"lr_scheduler\"]\n",
    "    path2weights=params[\"path2weights\"]\n",
    "\n",
    "    loss_history = {'train': [], 'val': []}\n",
    "    metric_history = {'train': [], 'val': []}\n",
    "\n",
    "    # # GPU out of memoty error\n",
    "    # best_model_wts = copy.deepcopy(model.state_dict())\n",
    "\n",
    "    best_loss = float('inf')\n",
    "\n",
    "    start_time = time.time()\n",
    "\n",
    "    for epoch in range(num_epochs):\n",
    "        current_lr = get_lr(opt)\n",
    "        print('Epoch {}/{}, current lr={}'.format(epoch, num_epochs-1, current_lr))\n",
    "\n",
    "        model.train()\n",
    "        train_loss, train_metric = loss_epoch(model, loss_func, train_dl, sanity_check, opt)\n",
    "        loss_history['train'].append(train_loss)\n",
    "        metric_history['train'].append(train_metric)\n",
    "\n",
    "        model.eval()\n",
    "        with torch.no_grad():\n",
    "            val_loss, val_metric = loss_epoch(model, loss_func, val_dl, sanity_check)\n",
    "        loss_history['val'].append(val_loss)\n",
    "        metric_history['val'].append(val_metric)\n",
    "\n",
    "        if val_loss < best_loss:\n",
    "            best_loss = val_loss\n",
    "            # best_model_wts = copy.deepcopy(model.state_dict())\n",
    "\n",
    "            torch.save(model.state_dict(), path2weights)\n",
    "            print('Copied best model weights!')\n",
    "            print('Get best val_loss')\n",
    "\n",
    "        # lr_scheduler.step(val_loss)\n",
    "\n",
    "        print('train loss: %.6f, val loss: %.6f, accuracy: %.2f, time: %.4f min' %(train_loss, val_loss, 100*val_metric, (time.time()-start_time)/60))\n",
    "        print('-'*10)\n",
    "\n",
    "    # model.load_state_dict(best_model_wts)\n",
    "\n",
    "    return model, loss_history, metric_history"
   ],
   "metadata": {
    "collapsed": false,
    "ExecuteTime": {
     "end_time": "2023-10-26T11:20:08.012889200Z",
     "start_time": "2023-10-26T11:20:07.980974500Z"
    }
   },
   "id": "11c6eb7f4a25fdfb"
  },
  {
   "cell_type": "code",
   "execution_count": 38,
   "outputs": [],
   "source": [
    "# definc the training parameters\n",
    "params_train = {\n",
    "    'num_epochs':20,\n",
    "    'optimizer':opt,\n",
    "    'loss_func':LabelSmoothingLoss(classes=42, smoothing=0.1),\n",
    "    'train_dl':train_dl,\n",
    "    'val_dl':val_dl,\n",
    "    'sanity_check':False,\n",
    "    'lr_scheduler':lr_scheduler,\n",
    "    'path2weights':'../weight/101_3_2.pth',\n",
    "}\n",
    "\n",
    "# create the directory that stores weights.pt\n",
    "def createFolder(directory):\n",
    "    try:\n",
    "        if not os.path.exists(directory):\n",
    "            os.makedirs(directory)\n",
    "    except OSerror:\n",
    "        print('Error')\n",
    "createFolder('./models')"
   ],
   "metadata": {
    "collapsed": false,
    "ExecuteTime": {
     "end_time": "2023-10-26T11:20:08.539556400Z",
     "start_time": "2023-10-26T11:20:08.509638400Z"
    }
   },
   "id": "9e29c028c9697193"
  },
  {
   "cell_type": "code",
   "execution_count": 39,
   "outputs": [
    {
     "name": "stdout",
     "output_type": "stream",
     "text": [
      "Epoch 0/19, current lr=0.0003\n",
      "Copied best model weights!\n",
      "Get best val_loss\n",
      "train loss: 0.038089, val loss: 0.053891, accuracy: 80.04, time: 14.0801 min\n",
      "----------\n",
      "Epoch 1/19, current lr=0.0003\n",
      "Copied best model weights!\n",
      "Get best val_loss\n",
      "train loss: 0.035363, val loss: 0.047396, accuracy: 80.54, time: 28.6486 min\n",
      "----------\n",
      "Epoch 2/19, current lr=0.0003\n",
      "train loss: 0.034055, val loss: 0.047491, accuracy: 81.23, time: 43.4159 min\n",
      "----------\n",
      "Epoch 3/19, current lr=0.0003\n",
      "train loss: 0.033372, val loss: 0.056919, accuracy: 81.42, time: 58.9760 min\n",
      "----------\n",
      "Epoch 4/19, current lr=0.0003\n",
      "train loss: 0.032596, val loss: 0.052622, accuracy: 80.94, time: 73.4811 min\n",
      "----------\n",
      "Epoch 5/19, current lr=0.0003\n",
      "Copied best model weights!\n",
      "Get best val_loss\n",
      "train loss: 0.032307, val loss: 0.041521, accuracy: 81.94, time: 87.7369 min\n",
      "----------\n",
      "Epoch 6/19, current lr=0.0003\n",
      "train loss: 0.031612, val loss: 0.044373, accuracy: 81.56, time: 103.2039 min\n",
      "----------\n",
      "Epoch 7/19, current lr=0.0003\n",
      "train loss: 0.031505, val loss: 0.048417, accuracy: 80.94, time: 117.9478 min\n",
      "----------\n",
      "Epoch 8/19, current lr=0.0003\n",
      "train loss: 0.030861, val loss: 0.050170, accuracy: 81.06, time: 131.6110 min\n",
      "----------\n",
      "Epoch 9/19, current lr=0.0003\n",
      "train loss: 0.031480, val loss: 0.042059, accuracy: 82.44, time: 145.1784 min\n",
      "----------\n",
      "Epoch 10/19, current lr=0.0003\n",
      "train loss: 0.030961, val loss: 0.046957, accuracy: 82.06, time: 158.5937 min\n",
      "----------\n",
      "Epoch 11/19, current lr=0.0003\n",
      "train loss: 0.030266, val loss: 0.042352, accuracy: 82.87, time: 173.3276 min\n",
      "----------\n",
      "Epoch 12/19, current lr=0.0003\n",
      "Copied best model weights!\n",
      "Get best val_loss\n",
      "train loss: 0.030222, val loss: 0.038914, accuracy: 82.90, time: 187.9898 min\n",
      "----------\n",
      "Epoch 13/19, current lr=0.0003\n",
      "Copied best model weights!\n",
      "Get best val_loss\n",
      "train loss: 0.030659, val loss: 0.038350, accuracy: 83.47, time: 202.7098 min\n",
      "----------\n",
      "Epoch 14/19, current lr=0.0003\n",
      "Copied best model weights!\n",
      "Get best val_loss\n",
      "train loss: 0.029537, val loss: 0.038008, accuracy: 84.23, time: 217.4800 min\n",
      "----------\n",
      "Epoch 15/19, current lr=0.0003\n",
      "train loss: 0.029149, val loss: 0.038094, accuracy: 84.11, time: 232.2476 min\n",
      "----------\n",
      "Epoch 16/19, current lr=0.0003\n",
      "train loss: 0.029104, val loss: 0.038036, accuracy: 84.06, time: 246.4805 min\n",
      "----------\n",
      "Epoch 17/19, current lr=0.0003\n",
      "train loss: 0.029058, val loss: 0.041378, accuracy: 82.68, time: 261.3848 min\n",
      "----------\n",
      "Epoch 18/19, current lr=0.0003\n",
      "train loss: 0.028982, val loss: 0.043223, accuracy: 82.80, time: 275.8179 min\n",
      "----------\n",
      "Epoch 19/19, current lr=0.0003\n",
      "train loss: 0.028626, val loss: 0.043704, accuracy: 83.64, time: 290.3478 min\n",
      "----------\n"
     ]
    }
   ],
   "source": [
    "model, loss_hist, metric_hist = train_val(model, params_train)"
   ],
   "metadata": {
    "collapsed": false,
    "ExecuteTime": {
     "end_time": "2023-10-26T16:10:32.307626100Z",
     "start_time": "2023-10-26T11:20:11.427709Z"
    }
   },
   "id": "8f4658fb186b28e9"
  },
  {
   "cell_type": "code",
   "execution_count": 34,
   "outputs": [
    {
     "name": "stdout",
     "output_type": "stream",
     "text": [
      "Accuracy 79 %\n"
     ]
    }
   ],
   "source": [
    "\n",
    "correct = 0\n",
    "total = 0\n",
    "# since we're not training, we don't need to calculate the gradients for our outputs\n",
    "\n",
    "with torch.no_grad():\n",
    "    for data in val_dl:\n",
    "        images, labels = data[0].to(device), data[1].to(device)\n",
    "        # calculate outputs by running images through the network\n",
    "        outputs = model(images.to(device))\n",
    "        # the class with the highest energy is what we choose as prediction\n",
    "        _ , predicted = torch.max(outputs.data, 1)\n",
    "        total += labels.size(0)\n",
    "        correct += (predicted == labels).sum().item()\n",
    "\n",
    "print(f'Accuracy {100 * correct // total} %')"
   ],
   "metadata": {
    "collapsed": false,
    "ExecuteTime": {
     "end_time": "2023-10-12T08:06:33.676080300Z",
     "start_time": "2023-10-12T08:05:47.907897800Z"
    }
   },
   "id": "da977e2b3673b322"
  },
  {
   "cell_type": "code",
   "execution_count": 1,
   "outputs": [
    {
     "ename": "NameError",
     "evalue": "name 'torch' is not defined",
     "output_type": "error",
     "traceback": [
      "\u001B[1;31m---------------------------------------------------------------------------\u001B[0m",
      "\u001B[1;31mNameError\u001B[0m                                 Traceback (most recent call last)",
      "Cell \u001B[1;32mIn[1], line 2\u001B[0m\n\u001B[0;32m      1\u001B[0m PATH \u001B[38;5;241m=\u001B[39m \u001B[38;5;124m'\u001B[39m\u001B[38;5;124m../weight/test3.pth\u001B[39m\u001B[38;5;124m'\u001B[39m\n\u001B[1;32m----> 2\u001B[0m \u001B[43mtorch\u001B[49m\u001B[38;5;241m.\u001B[39msave(model\u001B[38;5;241m.\u001B[39mstate_dict(), PATH)\n",
      "\u001B[1;31mNameError\u001B[0m: name 'torch' is not defined"
     ]
    }
   ],
   "source": [
    "PATH = '../weight/test3.pth'\n",
    "torch.save(model.state_dict(), PATH)"
   ],
   "metadata": {
    "collapsed": false,
    "ExecuteTime": {
     "end_time": "2023-10-20T00:09:16.581742900Z",
     "start_time": "2023-10-20T00:09:16.192106500Z"
    }
   },
   "id": "5ccdd3887925b08d"
  },
  {
   "cell_type": "code",
   "execution_count": null,
   "outputs": [],
   "source": [],
   "metadata": {
    "collapsed": false,
    "ExecuteTime": {
     "start_time": "2023-10-12T08:04:53.854333600Z"
    }
   },
   "id": "15988d3716c28a44"
  },
  {
   "cell_type": "code",
   "execution_count": 36,
   "outputs": [
    {
     "data": {
      "text/plain": "<Figure size 640x480 with 1 Axes>",
      "image/png": "[encoded data removed]"
     },
     "metadata": {},
     "output_type": "display_data"
    },
    {
     "data": {
      "text/plain": "<Figure size 640x480 with 1 Axes>",
      "image/png": "[encoded data removed]"
     },
     "metadata": {},
     "output_type": "display_data"
    }
   ],
   "source": [
    "# Train-Validation Progress\n",
    "num_epochs=params_train[\"num_epochs\"]\n",
    "\n",
    "# plot loss progress\n",
    "plt.title(\"Train-Val Loss\")\n",
    "plt.plot(range(1,num_epochs+1),loss_hist[\"train\"],label=\"train\")\n",
    "plt.plot(range(1,num_epochs+1),loss_hist[\"val\"],label=\"val\")\n",
    "plt.ylabel(\"Loss\")\n",
    "plt.xlabel(\"Training Epochs\")\n",
    "plt.legend()\n",
    "plt.show()\n",
    "\n",
    "# plot accuracy progress\n",
    "plt.title(\"Train-Val Accuracy\")\n",
    "plt.plot(range(1,num_epochs+1),metric_hist[\"train\"],label=\"train\")\n",
    "plt.plot(range(1,num_epochs+1),metric_hist[\"val\"],label=\"val\")\n",
    "plt.ylabel(\"Accuracy\")\n",
    "plt.xlabel(\"Training Epochs\")\n",
    "plt.legend()\n",
    "plt.show()"
   ],
   "metadata": {
    "collapsed": false,
    "ExecuteTime": {
     "end_time": "2023-10-12T08:06:38.725861700Z",
     "start_time": "2023-10-12T08:06:38.397162600Z"
    }
   },
   "id": "76ed73b296d12106"
  },
  {
   "cell_type": "code",
   "execution_count": 33,
   "outputs": [],
   "source": [
    "# 채점시 사용되는 코드\n",
    "# 본인의 코드에 사용해도 된다.\n",
    "\n",
    "@torch.no_grad()\n",
    "def validate_epoch(model: nn.Module, data_loader: DataLoader, device: torch.device):\n",
    "    ''' data_loader provides inputs and GTs.\n",
    "        model receives input images from data_loader and produces logits.\n",
    "        returns the accuracy of model in percent.\n",
    "    '''\n",
    "    model.eval()\n",
    "    accuracies = []\n",
    "    for images, labels in tqdm(data_loader, total=len(data_loader), mininterval=1, desc='measuring accuracy'):\n",
    "        images = images.to(device)\n",
    "        labels = labels.to(device)\n",
    "\n",
    "        logits = model(images)\n",
    "        pred = torch.argmax(logits, dim=1)\n",
    "\n",
    "        accuracies.append(pred == labels)\n",
    "\n",
    "    accuracy = torch.concat(accuracies).float().mean() * 100\n",
    "    return accuracy.item()"
   ],
   "metadata": {
    "collapsed": false,
    "ExecuteTime": {
     "end_time": "2023-10-19T23:52:52.547109200Z",
     "start_time": "2023-10-19T23:52:52.537105100Z"
    }
   },
   "id": "7c6f5392a51876eb"
  },
  {
   "cell_type": "code",
   "execution_count": 34,
   "outputs": [
    {
     "data": {
      "text/plain": "measuring accuracy:   0%|          | 0/132 [00:00<?, ?it/s]",
      "application/vnd.jupyter.widget-view+json": {
       "version_major": 2,
       "version_minor": 0,
       "model_id": "b98d23722969457bafcede7b29fd30eb"
      }
     },
     "metadata": {},
     "output_type": "display_data"
    },
    {
     "data": {
      "text/plain": "80.10957336425781"
     },
     "execution_count": 34,
     "metadata": {},
     "output_type": "execute_result"
    }
   ],
   "source": [
    "validate_epoch(model, val_dl, device) #10에폭까지"
   ],
   "metadata": {
    "collapsed": false,
    "ExecuteTime": {
     "end_time": "2023-10-19T23:53:22.205846600Z",
     "start_time": "2023-10-19T23:52:52.699129700Z"
    }
   },
   "id": "e976967c33ddad64"
  },
  {
   "cell_type": "code",
   "execution_count": null,
   "outputs": [],
   "source": [],
   "metadata": {
    "collapsed": false
   },
   "id": "c5dcd205748f3b46"
  }
 ],
 "metadata": {
  "kernelspec": {
   "display_name": "Python 3",
   "language": "python",
   "name": "python3"
  },
  "language_info": {
   "codemirror_mode": {
    "name": "ipython",
    "version": 2
   },
   "file_extension": ".py",
   "mimetype": "text/x-python",
   "name": "python",
   "nbconvert_exporter": "python",
   "pygments_lexer": "ipython2",
   "version": "2.7.6"
  }
 },
 "nbformat": 4,
 "nbformat_minor": 5
}
